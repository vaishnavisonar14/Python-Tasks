{
 "cells": [
  {
   "cell_type": "markdown",
   "id": "ae309eb1-cdf4-46ba-b827-4e2a6414d318",
   "metadata": {},
   "source": [
    "# Python: OOPS - 3 (Object-Oriented Programming)\n"
   ]
  },
  {
   "cell_type": "markdown",
   "id": "7abb206f-04b1-4a88-b047-f390acf8239f",
   "metadata": {},
   "source": [
    "# 1. Create a Person class with private attributes __name and __age. Implement getter and setter methods for accessing and modifying these attributes.\t\n",
    "Modify the Person class from the above problem to use properties for accessing and modifying the private attributes.\n",
    "Objective:\n",
    "Understand how to implement encapsulation in Python using private attributes and manage access through getter and setter methods with property decorators (@property) to simplify attribute access and modification.\n",
    "# Sample Input:\n",
    "p1 = Person(\"Johnny\", 30)\n",
    "\n",
    "print(\"Name:\", p1.name)\n",
    "print(\"Age:\", p1.age)\n",
    "\n",
    "p1.name = \"Arvind\"\n",
    "p1.age = 28\n",
    "\n",
    "print(\"Updated Name:\", p1.name)\n",
    "print(\"Updated Age:\", p1.age)\n",
    "\n",
    "# Expected Output:\n",
    "Name: Johnny\n",
    "Age: 30\n",
    "Updated Name: Arvind\n",
    "Updated Age: 28\n"
   ]
  },
  {
   "cell_type": "code",
   "execution_count": 2,
   "id": "2690035e-5c7d-4243-be1a-8bffa5ca749f",
   "metadata": {},
   "outputs": [
    {
     "name": "stdout",
     "output_type": "stream",
     "text": [
      "Name: Johnny\n",
      "Age: 30\n",
      "Updated Name: Arvind\n",
      "Updated Age: 28\n"
     ]
    }
   ],
   "source": [
    "class Person:\n",
    "    def __init__(self, name, age):\n",
    "        self.__name = name\n",
    "        self.__age = age\n",
    "    @property\n",
    "    def name(self):\n",
    "        return self.__name\n",
    "    @name.setter\n",
    "    def name(self, new_name):\n",
    "        self.__name = new_name\n",
    "    @property\n",
    "    def age(self):\n",
    "        return self.__age\n",
    "    @age.setter\n",
    "    def age(self, new_age):\n",
    "        self.__age = new_age\n",
    "p1 = Person(\"Johnny\", 30)\n",
    "\n",
    "print(\"Name:\", p1.name)\n",
    "print(\"Age:\", p1.age)\n",
    "\n",
    "p1.name = \"Arvind\"\n",
    "p1.age = 28\n",
    "\n",
    "print(\"Updated Name:\", p1.name)\n",
    "print(\"Updated Age:\", p1.age)\n"
   ]
  },
  {
   "cell_type": "markdown",
   "id": "fe54c591-2fcc-493f-8afc-af14d0467c76",
   "metadata": {},
   "source": [
    "# 2. Create a BankAccount class with a protected attribute _balance. Implement a method get_balance() to retrieve the balance.\n",
    "Create a Python module calculator with a private function _ _add that adds two numbers. Implement a public function add_numbers that calls the private function.\n",
    "Objective:\n",
    " Learn the concept of access specifiers in Python — specifically protected (_) and private (__) attributes and methods. Understand how to use protected attributes in classes and how to create private functions inside a module while exposing access through public wrapper functions.\n",
    "# Sample Input:\n",
    "# For BankAccount class\n",
    "account = BankAccount(5000)\n",
    "print(\"Balance:\", account.get_balance())\n",
    "\n",
    "# For calculator module\n",
    "from calculator import add_numbers\n",
    "print(\"Addition Result:\", add_numbers(10, 15))\n",
    "\n",
    "\n",
    "# Example output- Car:\n",
    "Balance: 5000\n",
    "Addition Result: 25\n",
    "\n"
   ]
  },
  {
   "cell_type": "code",
   "execution_count": 55,
   "id": "ed04b9dd-7c59-429b-9210-94321222a857",
   "metadata": {},
   "outputs": [],
   "source": [
    "class BankAccount:\n",
    "    def __init__(self, balance):\n",
    "        self._balance = balance  \n",
    "    def get_balance(self):\n",
    "        return self._balance\n",
    "    def __add(a, b):\n",
    "        return a + b\n",
    "    def add_numbers(a, b):  \n",
    "        return __add(a, b)    "
   ]
  },
  {
   "cell_type": "code",
   "execution_count": 56,
   "id": "080da131-af4c-436e-a346-1bb4aec7f1d2",
   "metadata": {},
   "outputs": [
    {
     "name": "stdout",
     "output_type": "stream",
     "text": [
      "Balance: 5000\n",
      "Addition Result: 25\n"
     ]
    }
   ],
   "source": [
    "account = BankAccount(5000)\n",
    "print(\"Balance:\", account.get_balance())\n",
    "from calculator import add_numbers\n",
    "print(\"Addition Result:\", add_numbers(10, 15))"
   ]
  },
  {
   "cell_type": "code",
   "execution_count": null,
   "id": "88d32bb6-deb5-455e-a304-a0baba105562",
   "metadata": {},
   "outputs": [],
   "source": []
  }
 ],
 "metadata": {
  "kernelspec": {
   "display_name": "Python 3 (ipykernel)",
   "language": "python",
   "name": "python3"
  },
  "language_info": {
   "codemirror_mode": {
    "name": "ipython",
    "version": 3
   },
   "file_extension": ".py",
   "mimetype": "text/x-python",
   "name": "python",
   "nbconvert_exporter": "python",
   "pygments_lexer": "ipython3",
   "version": "3.12.7"
  }
 },
 "nbformat": 4,
 "nbformat_minor": 5
}
