{
 "cells": [
  {
   "cell_type": "code",
   "execution_count": null,
   "id": "61de71e1-aec3-48c8-bde3-5add2429ee0a",
   "metadata": {},
   "outputs": [],
   "source": [
    "Section 1: Identifiers\n",
    "\n",
    "\n",
    "\n",
    "Explain why Python treats some identifiers as invalid.\n",
    "Rewrite the invalid identifiers correctly.\n",
    "Assign different valid identifiers to given values.\n",
    "10\n",
    "-5\n",
    "3.14159\n",
    "-0.12345\n",
    "1000\n",
    "\"Hello, World!\"\n",
    "\"Python\"\n",
    "\"I am learning\"\n",
    "\"Text type\"\n",
    "\"String\"\n",
    "TRUE\n",
    "FALSE\n",
    "\n",
    "\n",
    "\n",
    "Section 2: Operators\n",
    "1. Arithmetic Operators\n",
    "Questions:\n",
    "Define two variables and perform operations using arithmetic operators (+, -, *, /, //, %, **).\n",
    "value1 = 10\n",
    "value2 = 15\n",
    "\n",
    "Add value1 and value2.\n",
    "Subtract value1 from value2.\n",
    "Multiply value1 and value2.\n",
    "Divide value1 by value2.\n",
    "Find the floor division of value1 by value2.\n",
    "Find the remainder when dividing value1 by value2.\n",
    "Calculate value1 raised to the power of value2.\n",
    "\n",
    "You have a floor that is 95 meters long and 58.8 meter wide. Find out the total area using python and print it. \n",
    "\n",
    "\n",
    "\n",
    "2. Logical Operators\n",
    "Questions:\n",
    "Create a Python script that defines two boolean variables, is_sunny and is_warm, with appropriate values (True or False).\n",
    "Use logical operators (and, or, not) to create the following conditions:\n",
    "Check if it's both sunny and warm and print the result.\n",
    "Check if it's either sunny or warm and print the result.\n",
    "Check if it's not sunny and print the result.\n",
    "\n",
    "3. Comparison Operators\n",
    "Questions:\n",
    "Create a Python script that defines two variables, value1 and value2, with any numeric values.\n",
    "Use comparative operators (==, !=, <, >, <=, >=) to create the following conditions:\n",
    "Check if value1 is equal to value2 and print the result.\n",
    "Check if value1 is not equal to value2 and print the result.\n",
    "Check if value1 is less than value2 and print the result.\n",
    "Check if value1 is greater than value2 and print the result.\n",
    "Check if value1 is less than or equal to value2 and print the result.\n",
    "Check if value1 is greater than or equal to value2 and print the result.\n",
    "\n"
   ]
  },
  {
   "cell_type": "code",
   "execution_count": null,
   "id": "b476bbad-413f-4620-9813-3a23103e4edc",
   "metadata": {},
   "outputs": [],
   "source": [
    "Section 1: Identifiers\n",
    "\n",
    "\n",
    "\n",
    "Explain why Python treats some identifiers as invalid.\n",
    "Rewrite the invalid identifiers correctly.\n",
    "Assign different valid identifiers to given values.\n",
    "10\n",
    "-5\n",
    "3.14159\n",
    "-0.12345\n",
    "1000\n",
    "\"Hello, World!\"\n",
    "\"Python\"\n",
    "\"I am learning\"\n",
    "\"Text type\"\n",
    "\"String\"\n",
    "TRUE\n",
    "FALSE\n",
    "\n",
    "\n",
    "\n",
    "Section 2: Operators\n",
    "1. Arithmetic Operators\n",
    "Questions:\n",
    "Define two variables and perform operations using arithmetic operators (+, -, *, /, //, %, **).\n",
    "value1 = 10\n",
    "value2 = 15\n",
    "\n",
    "Add value1 and value2.\n",
    "Subtract value1 from value2.\n",
    "Multiply value1 and value2.\n",
    "Divide value1 by value2.\n",
    "Find the floor division of value1 by value2.\n",
    "Find the remainder when dividing value1 by value2.\n",
    "Calculate value1 raised to the power of value2.\n",
    "\n",
    "You have a floor that is 95 meters long and 58.8 meter wide. Find out the total area using python and print it. \n",
    "\n",
    "\n",
    "\n",
    "2. Logical Operators\n",
    "Questions:\n",
    "Create a Python script that defines two boolean variables, is_sunny and is_warm, with appropriate values (True or False).\n",
    "Use logical operators (and, or, not) to create the following conditions:\n",
    "Check if it's both sunny and warm and print the result.\n",
    "Check if it's either sunny or warm and print the result.\n",
    "Check if it's not sunny and print the result.\n",
    "\n",
    "3. Comparison Operators\n",
    "Questions:\n",
    "Create a Python script that defines two variables, value1 and value2, with any numeric values.\n",
    "Use comparative operators (==, !=, <, >, <=, >=) to create the following conditions:\n",
    "Check if value1 is equal to value2 and print the result.\n",
    "Check if value1 is not equal to value2 and print the result.\n",
    "Check if value1 is less than value2 and print the result.\n",
    "Check if value1 is greater than value2 and print the result.\n",
    "Check if value1 is less than or equal to value2 and print the result.\n",
    "Check if value1 is greater than or equal to value2 and print the result.\n",
    "\n"
   ]
  },
  {
   "cell_type": "code",
   "execution_count": null,
   "id": "ccec7c63-af8d-4670-a9a3-1413a6118a37",
   "metadata": {},
   "outputs": [],
   "source": [
    "Section 1: Identifiers\n",
    "\n",
    "\n",
    "\n",
    "Explain why Python treats some identifiers as invalid.\n",
    "Rewrite the invalid identifiers correctly.\n",
    "Assign different valid identifiers to given values.\n",
    "10\n",
    "-5\n",
    "3.14159\n",
    "-0.12345\n",
    "1000\n",
    "\"Hello, World!\"\n",
    "\"Python\"\n",
    "\"I am learning\"\n",
    "\"Text type\"\n",
    "\"String\"\n",
    "TRUE\n",
    "FALSE\n",
    "\n",
    "\n",
    "\n",
    "Section 2: Operators\n",
    "1. Arithmetic Operators\n",
    "Questions:\n",
    "Define two variables and perform operations using arithmetic operators (+, -, *, /, //, %, **).\n",
    "value1 = 10\n",
    "value2 = 15\n",
    "\n",
    "Add value1 and value2.\n",
    "Subtract value1 from value2.\n",
    "Multiply value1 and value2.\n",
    "Divide value1 by value2.\n",
    "Find the floor division of value1 by value2.\n",
    "Find the remainder when dividing value1 by value2.\n",
    "Calculate value1 raised to the power of value2.\n",
    "\n",
    "You have a floor that is 95 meters long and 58.8 meter wide. Find out the total area using python and print it. \n",
    "\n",
    "\n",
    "\n",
    "2. Logical Operators\n",
    "Questions:\n",
    "Create a Python script that defines two boolean variables, is_sunny and is_warm, with appropriate values (True or False).\n",
    "Use logical operators (and, or, not) to create the following conditions:\n",
    "Check if it's both sunny and warm and print the result.\n",
    "Check if it's either sunny or warm and print the result.\n",
    "Check if it's not sunny and print the result.\n",
    "\n",
    "3. Comparison Operators\n",
    "Questions:\n",
    "Create a Python script that defines two variables, value1 and value2, with any numeric values.\n",
    "Use comparative operators (==, !=, <, >, <=, >=) to create the following conditions:\n",
    "Check if value1 is equal to value2 and print the result.\n",
    "Check if value1 is not equal to value2 and print the result.\n",
    "Check if value1 is less than value2 and print the result.\n",
    "Check if value1 is greater than value2 and print the result.\n",
    "Check if value1 is less than or equal to value2 and print the result.\n",
    "Check if value1 is greater than or equal to value2 and print the result.\n",
    "\n"
   ]
  },
  {
   "cell_type": "markdown",
   "id": "1d7f35e7-7ce4-4263-9f7f-9a51ed56eae5",
   "metadata": {},
   "source": [
    "Q1.Run the given identifiers and categorize them into valid and invalid ones.\n",
    "\n",
    "    my_variable = 25\n",
    "    counter = 40.7\n",
    "    _total = \"Hello\"\n",
    "    123abc = 34\n",
    "    my variable =6.7\n",
    "    @count = \"hi\"\n",
    "    for = \"True\"\n",
    "    Name123 = 136\n",
    "    myFunction = True\n",
    "    _data = False\n",
    "    if_condition? = \"Innomatics\"\n",
    "    class = \"Hyderabad\"\n"
   ]
  },
  {
   "cell_type": "code",
   "execution_count": null,
   "id": "d61510c3-7162-4f0e-8c1e-78577e294fda",
   "metadata": {},
   "outputs": [],
   "source": [
    "# valid\n",
    "my_variable = 25\n",
    "counter = 40.7\n",
    "_total = \"Hello\"\n",
    "Name123 = 136\n",
    "myFunction = True\n",
    "_data = False\n",
    "\n",
    "\n",
    "# Invalid\n",
    "123abc = 34\n",
    "my variable = 6.7\n",
    "@count = \"hi\"\n",
    "for = \"True\"\n",
    "if_condition? = \"Innomatics\"\n",
    "class = \"Hyderabad\"\n"
   ]
  },
  {
   "cell_type": "markdown",
   "id": "00a3d2a8-0891-4a74-b238-df11a94d6eb1",
   "metadata": {},
   "source": [
    "2.Explain why Python treats some identifiers as invalid ?"
   ]
  },
  {
   "cell_type": "markdown",
   "id": "d544fd44-20ea-4ad5-b908-8802af5f5aab",
   "metadata": {},
   "source": [
    "Ans:\n",
    "123abc = 32 [invalid because it start with integer]\n",
    "my variable = 6.7[invalid because it contain sapce insted space we can use underscore like my_variable]\n",
    "@count = \"hi\"[invalid because it contain symbol]\n",
    "for = \"True\"[invalid because for is reserved keyword]\n",
    "if_condition? = \"Innomatics\"[invalid because special characters are not allowed(?,@,!)]\n",
    "class = \"Hyderabad\"[invalid because class is reserved keyword]\n"
   ]
  },
  {
   "cell_type": "markdown",
   "id": "1d7a6674-4039-44d4-9889-d54d047bf6e1",
   "metadata": {},
   "source": [
    "3.Rewrite the invalid identifiers correctly."
   ]
  },
  {
   "cell_type": "code",
   "execution_count": null,
   "id": "b9acd5d6-a216-4376-aea6-9fffa7a4347b",
   "metadata": {},
   "outputs": [],
   "source": [
    "ans:\n",
    "abc123 = 32\n",
    "my_variable = 6.7\n",
    "count_text = \"hi\"\n",
    "count_text = \"hi\"\n",
    "for_value = \"True\"\n",
    "if_condition = \"Innomatics\"\n",
    "class_name = \"Hyderabad\""
   ]
  },
  {
   "cell_type": "markdown",
   "id": "b3719fb1-8ed1-462a-86aa-e3d0095d55f4",
   "metadata": {},
   "source": [
    "4.Assign different valid identifiers to given values.\n",
    "10\n",
    "-5\n",
    "3.14159\n",
    "-0.12345\n",
    "1000\n",
    "\"Hello, World!\"\n",
    "\"Python\"\n",
    "\"I am learning\"\n",
    "\"Text type\"\n",
    "\"String\"\n",
    "TRUE\n",
    "FALSE"
   ]
  },
  {
   "cell_type": "code",
   "execution_count": null,
   "id": "f2b06c00-ea09-4804-8bbf-dd429c5e85c6",
   "metadata": {},
   "outputs": [],
   "source": [
    "ans:\n",
    "Assign different valid identifiers to given values.\n",
    "positive_number = 10\n",
    "negative_number = -5\n",
    "float_number = 3.14159\n",
    "neg_float = -0.12345\n",
    "money = 1000\n",
    "python = \"Hello, World!\"\n",
    "text = \"Python\"\n",
    "xyz = \"I am learning\" \n",
    "string = \"Text type\"\n",
    "abc = \"String\"\n",
    "boolean = TRUE\n",
    "boolean_exp= FALSE"
   ]
  },
  {
   "cell_type": "markdown",
   "id": "256125a3-419e-4285-99ca-e4942b507a38",
   "metadata": {},
   "source": [
    "Q2.Section 2: Operators\n",
    "1. Arithmetic Operators\n",
    "Questions:\n",
    "Define two variables and perform operations using arithmetic operators (+, -, *, /, //, %, **).\n",
    "value1 = 10\n",
    "value2 = 15"
   ]
  },
  {
   "cell_type": "code",
   "execution_count": 47,
   "id": "46cfaf74-8f5c-40a0-a52d-262e46a73b8d",
   "metadata": {},
   "outputs": [
    {
     "name": "stdout",
     "output_type": "stream",
     "text": [
      "25\n",
      "-5\n",
      "150\n",
      "0.6666666666666666\n",
      "0\n",
      "10\n",
      "1000000000000000\n"
     ]
    }
   ],
   "source": [
    "ans:\n",
    "a = 10\n",
    "b = 15\n",
    "print(a+b)#addition\n",
    "print(a-b)#substrction\n",
    "print(a*b)#multiplication\n",
    "print(a/b)#division\n",
    "print(a//b)#floor division\n",
    "print(a%b)#modulus\n",
    "print(a**b)#exponentitation"
   ]
  },
  {
   "cell_type": "markdown",
   "id": "2986a57f-db32-4ae2-93c0-d42e239c7f34",
   "metadata": {},
   "source": [
    "2.You have a floor that is 95 meters long and 58.8 meter wide. Find out the total area using python and print it."
   ]
  },
  {
   "cell_type": "code",
   "execution_count": 46,
   "id": "2fd97dd6-42a5-41bd-8076-61c72112f064",
   "metadata": {},
   "outputs": [
    {
     "name": "stdout",
     "output_type": "stream",
     "text": [
      "5586.0\n"
     ]
    }
   ],
   "source": [
    "ans:\n",
    "length = 95 \n",
    "width = 58.8\n",
    "total_area = (length*width)\n",
    "print(total_area)"
   ]
  },
  {
   "cell_type": "markdown",
   "id": "f6d23684-ffa1-451f-a234-884cddedba04",
   "metadata": {},
   "source": [
    "2.Logical Operators\n",
    "Questions:\n",
    "Create a Python script that defines two boolean variables, is_sunny and is_warm, with appropriate values (True or False).\n",
    "Use logical operators (and, or, not) to create the following conditions:\n",
    "Check if it's both sunny and warm and print the result.\n",
    "Check if it's either sunny or warm and print the result.\n",
    "Check if it's not sunny and print the result.\n"
   ]
  },
  {
   "cell_type": "code",
   "execution_count": 2,
   "id": "d9dfc242-21d6-4232-ac9b-4d008aa12114",
   "metadata": {},
   "outputs": [
    {
     "name": "stdout",
     "output_type": "stream",
     "text": [
      "False\n",
      "True\n",
      "False\n"
     ]
    }
   ],
   "source": [
    "ans:\n",
    "is_sunny = True\n",
    "is_warm = False\n",
    "print(is_sunny and is_warm)\n",
    "print(is_sunny or is_warm)\n",
    "print(not is_sunny)"
   ]
  },
  {
   "cell_type": "markdown",
   "id": "32d05cc7-265f-4e3b-8aed-ff53dc6278fa",
   "metadata": {},
   "source": [
    "\n",
    "3. Comparison Operators\n",
    "Questions:\n",
    "Create a Python script that defines two variables, value1 and value2, with any numeric values.\n",
    "Use comparative operators (==, !=, <, >, <=, >=) to create the following conditions:"
   ]
  },
  {
   "cell_type": "code",
   "execution_count": 55,
   "id": "adc0a4af-f3cd-4eae-9a8f-93a134ca0e6a",
   "metadata": {},
   "outputs": [
    {
     "data": {
      "text/plain": [
       "False"
      ]
     },
     "execution_count": 55,
     "metadata": {},
     "output_type": "execute_result"
    }
   ],
   "source": [
    "ans:\n",
    "val1 = 449\n",
    "val2 = 377\n",
    "val1 == val2"
   ]
  },
  {
   "cell_type": "code",
   "execution_count": 56,
   "id": "1bf2e898-1580-47ec-93d6-f2d26ea53fc7",
   "metadata": {},
   "outputs": [
    {
     "data": {
      "text/plain": [
       "True"
      ]
     },
     "execution_count": 56,
     "metadata": {},
     "output_type": "execute_result"
    }
   ],
   "source": [
    "val1 != val2"
   ]
  },
  {
   "cell_type": "code",
   "execution_count": 57,
   "id": "7f57844c-730a-4724-a7a2-47fe9af9d0e8",
   "metadata": {},
   "outputs": [
    {
     "data": {
      "text/plain": [
       "False"
      ]
     },
     "execution_count": 57,
     "metadata": {},
     "output_type": "execute_result"
    }
   ],
   "source": [
    "val1 < val2"
   ]
  },
  {
   "cell_type": "code",
   "execution_count": 58,
   "id": "1affe707-2d71-40ea-8968-5c28b4ffb307",
   "metadata": {},
   "outputs": [
    {
     "data": {
      "text/plain": [
       "True"
      ]
     },
     "execution_count": 58,
     "metadata": {},
     "output_type": "execute_result"
    }
   ],
   "source": [
    "val1 > val2"
   ]
  },
  {
   "cell_type": "code",
   "execution_count": 59,
   "id": "c0b7389a-6a2f-434b-b21c-b2d2cb76b0e5",
   "metadata": {},
   "outputs": [
    {
     "data": {
      "text/plain": [
       "False"
      ]
     },
     "execution_count": 59,
     "metadata": {},
     "output_type": "execute_result"
    }
   ],
   "source": [
    "val1 <= val2"
   ]
  },
  {
   "cell_type": "code",
   "execution_count": 61,
   "id": "14424810-99fd-43da-b468-6e29bde89178",
   "metadata": {},
   "outputs": [
    {
     "data": {
      "text/plain": [
       "True"
      ]
     },
     "execution_count": 61,
     "metadata": {},
     "output_type": "execute_result"
    }
   ],
   "source": [
    "val1 >= val2"
   ]
  },
  {
   "cell_type": "code",
   "execution_count": null,
   "id": "fd02e568-74cd-4231-b188-c8c00d86aa9e",
   "metadata": {},
   "outputs": [],
   "source": []
  }
 ],
 "metadata": {
  "kernelspec": {
   "display_name": "Python 3 (ipykernel)",
   "language": "python",
   "name": "python3"
  },
  "language_info": {
   "codemirror_mode": {
    "name": "ipython",
    "version": 3
   },
   "file_extension": ".py",
   "mimetype": "text/x-python",
   "name": "python",
   "nbconvert_exporter": "python",
   "pygments_lexer": "ipython3",
   "version": "3.12.7"
  }
 },
 "nbformat": 4,
 "nbformat_minor": 5
}
