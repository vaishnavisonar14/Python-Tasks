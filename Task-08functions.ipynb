{
 "cells": [
  {
   "cell_type": "markdown",
   "id": "3a9b2777-3324-4ec3-b5b5-bdb3d6099967",
   "metadata": {},
   "source": [
    "# Python : Functions\n"
   ]
  },
  {
   "cell_type": "markdown",
   "id": "4de3cc54-3b17-4713-af70-7740fb6eb11c",
   "metadata": {},
   "source": [
    "# 1. Create a Function to Find the Factorial of a Number.\n",
    "Objective:\n",
    "Write a function that calculates the factorial of a given number using recursion.\n",
    "# Sample Input:\n",
    "factorial(5)\n",
    "# Expected Output:\n",
    "120\n"
   ]
  },
  {
   "cell_type": "code",
   "execution_count": 17,
   "id": "6cfe9c1e-65be-4461-8463-309d15c1a66d",
   "metadata": {},
   "outputs": [
    {
     "name": "stdout",
     "output_type": "stream",
     "text": [
      "factorial of 5 is: 120\n"
     ]
    }
   ],
   "source": [
    "def factorial(n):\n",
    "    fact = 1\n",
    "    for i in range(1,n+1):\n",
    "        fact *= i\n",
    "    return fact\n",
    "result = factorial(5)\n",
    "print(\"factorial of 5 is:\",result)"
   ]
  },
  {
   "cell_type": "markdown",
   "id": "ff144cf4-0b40-4f45-b2f4-54aa17c3e8f6",
   "metadata": {},
   "source": [
    "# 2. Create a Function to Find the Maximum of Three Numbers.\n",
    "Objective:\n",
    "Write a function that takes three numbers as input and returns the maximum value.\n",
    "# Sample Input:\n",
    "find_max(10, 25, 15)\n",
    "# Expected Output:\n",
    "25\n"
   ]
  },
  {
   "cell_type": "code",
   "execution_count": 19,
   "id": "ef17a654-ed7c-4a66-a52a-bf78ef57e278",
   "metadata": {},
   "outputs": [
    {
     "name": "stdin",
     "output_type": "stream",
     "text": [
      "Enter a number: 10\n",
      "Enter a number: 25\n",
      "Enter a number: 15\n"
     ]
    },
    {
     "name": "stdout",
     "output_type": "stream",
     "text": [
      "maximum number is: 25\n"
     ]
    }
   ],
   "source": [
    "def find_max(a,b,c):\n",
    "    if a >= b and a >= c:\n",
    "        return a\n",
    "    if b >= a and b >= c:\n",
    "        return b\n",
    "    else:\n",
    "        return c\n",
    "\n",
    "a1 = int(input(\"Enter a number:\"))\n",
    "a2 = int(input(\"Enter a number:\"))\n",
    "a3 = int(input(\"Enter a number:\"))\n",
    "\n",
    "max_num = find_max(a1,a2,a3)\n",
    "print(\"maximum number is:\",max_num)"
   ]
  },
  {
   "cell_type": "markdown",
   "id": "57d25441-3636-4ce0-b27d-19f240dd649f",
   "metadata": {},
   "source": [
    "# 3. Create a Function to Check if a Number is Prime.\n",
    "Objective:\n",
    "Write a function that determines whether a given number is prime.\n",
    "# Sample Input:\n",
    "is_prime(29)\n",
    "# Expected Output:\n",
    "True\n"
   ]
  },
  {
   "cell_type": "code",
   "execution_count": 1,
   "id": "b6c7d862-94d9-478e-9fc1-4a417822cb77",
   "metadata": {},
   "outputs": [
    {
     "name": "stdin",
     "output_type": "stream",
     "text": [
      "Enter a number:  29\n"
     ]
    },
    {
     "name": "stdout",
     "output_type": "stream",
     "text": [
      "True\n"
     ]
    }
   ],
   "source": [
    "def is_prime(n):\n",
    "    if n < 2:\n",
    "        return False\n",
    "    for i in range(2, n):\n",
    "        if n % i == 0:\n",
    "            return False\n",
    "    return True\n",
    "num = int(input(\"Enter a number: \"))\n",
    "print(is_prime(num))  "
   ]
  },
  {
   "cell_type": "code",
   "execution_count": null,
   "id": "c7601c99-c3dd-462a-b39d-dc969d566984",
   "metadata": {},
   "outputs": [],
   "source": []
  },
  {
   "cell_type": "markdown",
   "id": "4d5782ab-886c-4c3b-a163-f306083f4ae8",
   "metadata": {},
   "source": [
    "# 4. Create a Function to Reverse a String.\n",
    "Objective:\n",
    "Write a function that takes a string and returns its reverse.\n",
    "# Sample Input:\n",
    "reverse_string(\"Python\")\n",
    "# Expected Output:\n",
    "\"nohtyP\"\n"
   ]
  },
  {
   "cell_type": "code",
   "execution_count": 21,
   "id": "38a05af2-bd2c-435d-8ea7-b207bbbd2a50",
   "metadata": {},
   "outputs": [
    {
     "name": "stdin",
     "output_type": "stream",
     "text": [
      "Enter a string: \"python\"\n"
     ]
    },
    {
     "name": "stdout",
     "output_type": "stream",
     "text": [
      "reversed_text \"nohtyp\"\n"
     ]
    }
   ],
   "source": [
    "def reversed_string(a):\n",
    "    return a[::-1]\n",
    "text = input(\"Enter a string:\")\n",
    "reversed_text = reversed_string(text)\n",
    "print(\"reversed_text\",reversed_text)"
   ]
  },
  {
   "cell_type": "code",
   "execution_count": null,
   "id": "740264c2-c00e-430f-8c5e-b21d83458713",
   "metadata": {},
   "outputs": [],
   "source": []
  },
  {
   "cell_type": "markdown",
   "id": "c617119d-9be6-4870-912c-146a24a908cc",
   "metadata": {},
   "source": [
    "# 5. Create a Function to Merge Two Lists into a Dictionary.\n",
    "Objective: Write a function that takes two lists, one as keys and the other as values, and returns a dictionary..\n",
    "# Sample Input:\n",
    "merge_lists([\"name\", \"age\", \"city\"], [\"Pavan\", 25, \"Bangalore\"])\n",
    "# Expected Output:\n",
    "{'name': 'Pavan', 'age': 25, 'city': 'Bangalore'}\n",
    "\n"
   ]
  },
  {
   "cell_type": "code",
   "execution_count": 2,
   "id": "b6475a18-ec4d-41eb-832f-ebda534e9b4f",
   "metadata": {},
   "outputs": [
    {
     "name": "stdout",
     "output_type": "stream",
     "text": [
      "{'name': 'Pavan', 'age': 25, 'city': 'Bangalore'}\n"
     ]
    }
   ],
   "source": [
    "def merge_lists(keys, values):\n",
    "    return dict(zip(keys, values))\n",
    "print(merge_lists([\"name\", \"age\", \"city\"], [\"Pavan\", 25, \"Bangalore\"]))\n"
   ]
  },
  {
   "cell_type": "code",
   "execution_count": null,
   "id": "0a4f8ccf-6bc0-4985-9663-7ea98ccce1dc",
   "metadata": {},
   "outputs": [],
   "source": []
  },
  {
   "cell_type": "markdown",
   "id": "63e6a3d3-74c1-4f57-8455-ee4c827b29c1",
   "metadata": {},
   "source": [
    "# 6. Create a Function to Flatten a Nested List.\n",
    "Objective:\n",
    "Write a function that converts a nested list into a single flattened list.\n",
    "# Sample Input:\n",
    "flatten_list([[1, 2, 3], [4, 5], [6, 7, 8, 9]])\n",
    "# Expected Output:\n",
    "[1, 2, 3, 4, 5, 6, 7, 8, 9]\n"
   ]
  },
  {
   "cell_type": "code",
   "execution_count": null,
   "id": "c5b0ff00-b281-4cc2-abaa-cbba1eb6a600",
   "metadata": {},
   "outputs": [],
   "source": []
  },
  {
   "cell_type": "code",
   "execution_count": null,
   "id": "59714c27-7dd8-438a-ad92-f5dc8e9ff624",
   "metadata": {},
   "outputs": [],
   "source": []
  },
  {
   "cell_type": "code",
   "execution_count": null,
   "id": "b2d402d9-a6de-4427-988c-a6342ec5c0c4",
   "metadata": {},
   "outputs": [],
   "source": []
  },
  {
   "cell_type": "markdown",
   "id": "c7cd30b4-d861-4c33-9a92-6230679428c1",
   "metadata": {},
   "source": [
    "# 7. Create a Function to Count Vowels in a String.\n",
    "Objective:\n",
    "Write a function that counts the number of vowels (a, e, i, o, u) in a given string.\n",
    "# Sample Input:\n",
    "count_vowels(\"hello world\")\n",
    "# Expected Output:\n",
    "3\n"
   ]
  },
  {
   "cell_type": "code",
   "execution_count": 6,
   "id": "6c1421cf-07b6-4310-8938-495dfea80eed",
   "metadata": {},
   "outputs": [
    {
     "name": "stdin",
     "output_type": "stream",
     "text": [
      "Enter a word: \"hello world\"\n"
     ]
    },
    {
     "name": "stdout",
     "output_type": "stream",
     "text": [
      "Number of vowels 3\n"
     ]
    }
   ],
   "source": [
    "def vow(s):\n",
    "    vowels ='aeiou'\n",
    "    count = sum(1 for char in s if char in vowels)\n",
    "    return count\n",
    "word = input(\"Enter a word:\")\n",
    "print(\"Number of vowels\",vow(word))"
   ]
  },
  {
   "cell_type": "markdown",
   "id": "f1eb6463-b1ee-4dd7-b06c-97a3b78d4931",
   "metadata": {},
   "source": [
    "# 8 Create a Function to Calculate the Average of a List of Numbers.\n",
    "Objective:\n",
    "Write a function that takes a list of numbers and returns their average.\n",
    "# Sample Input:\n",
    "calculate_average([10, 20, 30, 40, 50])\n",
    "# Expected Output:\n",
    "30.0\n"
   ]
  },
  {
   "cell_type": "code",
   "execution_count": 14,
   "id": "95219380-8e0e-4690-aa83-f0a308a70ead",
   "metadata": {},
   "outputs": [
    {
     "name": "stdout",
     "output_type": "stream",
     "text": [
      "average number: 30.0\n"
     ]
    }
   ],
   "source": [
    "def avg(lst):\n",
    "    return sum(lst)/len(lst)\n",
    "lst=[10, 20, 30, 40, 50]\n",
    "print(\"average number:\",avg(lst))\n"
   ]
  },
  {
   "cell_type": "code",
   "execution_count": null,
   "id": "628a53de-bed9-41b9-96ea-a0f87317a4fe",
   "metadata": {},
   "outputs": [],
   "source": []
  },
  {
   "cell_type": "code",
   "execution_count": null,
   "id": "b4a7d291-a8e3-4c76-97b2-a6456f6d5687",
   "metadata": {},
   "outputs": [],
   "source": []
  },
  {
   "cell_type": "markdown",
   "id": "9ce434e9-992f-4354-92cc-14dbb014e456",
   "metadata": {},
   "source": [
    "# 9. Create a Function to Convert Celsius to Fahrenheit.\n",
    "Objective:\n",
    "Write a function that converts a temperature from Celsius to Fahrenheit.\n",
    "# Sample Input:\n",
    "celsius_to_fahrenheit(25)\n",
    "# Expected Output:\n",
    "77.0\n"
   ]
  },
  {
   "cell_type": "code",
   "execution_count": 12,
   "id": "a8c9692d-729b-4ef2-86ea-c45639f3bd0d",
   "metadata": {},
   "outputs": [
    {
     "name": "stdin",
     "output_type": "stream",
     "text": [
      "Enter a celsius: 25\n"
     ]
    },
    {
     "name": "stdout",
     "output_type": "stream",
     "text": [
      "Fahrenheit: 77.0\n"
     ]
    }
   ],
   "source": [
    "def c_To_f(celsius):\n",
    "    return (celsius*9/5)+32\n",
    "\n",
    "c = float(input(\"Enter a celsius:\"))\n",
    "print(\"Fahrenheit:\",c_To_f(c))"
   ]
  },
  {
   "cell_type": "code",
   "execution_count": null,
   "id": "0545af26-bca8-4d54-a967-1e1fd2f15865",
   "metadata": {},
   "outputs": [],
   "source": []
  },
  {
   "cell_type": "markdown",
   "id": "65d51d3f-305c-4505-b85a-72c4d266de82",
   "metadata": {},
   "source": [
    "# 10. Create a Function to Find the Length of a String.\n",
    "Objective:\n",
    "Write a function that takes a string and returns its length.\n",
    "# Sample Input:\n",
    "string_length(\"Python\")\n",
    "# Expected Output:\n",
    "6\n"
   ]
  },
  {
   "cell_type": "code",
   "execution_count": 8,
   "id": "1844a8ff-1a27-40a2-b177-1a993297c114",
   "metadata": {},
   "outputs": [
    {
     "name": "stdin",
     "output_type": "stream",
     "text": [
      "Enter a string: python\n"
     ]
    },
    {
     "name": "stdout",
     "output_type": "stream",
     "text": [
      "length of string: 6\n"
     ]
    }
   ],
   "source": [
    "def len_string(s):\n",
    "    return len(s)\n",
    "text= input(\"Enter a string:\")\n",
    "print(\"length of string:\",len_string(text))\n",
    "    "
   ]
  },
  {
   "cell_type": "code",
   "execution_count": null,
   "id": "f793f935-b8ae-4901-b768-5f97d23548a0",
   "metadata": {},
   "outputs": [],
   "source": []
  }
 ],
 "metadata": {
  "kernelspec": {
   "display_name": "Python 3 (ipykernel)",
   "language": "python",
   "name": "python3"
  },
  "language_info": {
   "codemirror_mode": {
    "name": "ipython",
    "version": 3
   },
   "file_extension": ".py",
   "mimetype": "text/x-python",
   "name": "python",
   "nbconvert_exporter": "python",
   "pygments_lexer": "ipython3",
   "version": "3.12.7"
  }
 },
 "nbformat": 4,
 "nbformat_minor": 5
}
