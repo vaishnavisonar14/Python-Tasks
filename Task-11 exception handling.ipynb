{
 "cells": [
  {
   "cell_type": "markdown",
   "id": "32cfa875-ae94-4898-b28d-7013e751f4ae",
   "metadata": {},
   "source": [
    "# Python : Exception Handling\n"
   ]
  },
  {
   "cell_type": "markdown",
   "id": "3665478c-20e9-461d-b5d5-d820cde0e95c",
   "metadata": {},
   "source": [
    "# 1. Create a Function to Read a File and Handle File Not Found Error.\n",
    "Objective:\n",
    "Write a function that attempts to read a file and handles the error if the file doesn’t exist.\n",
    "# Sample Input:\n",
    "def read_file_safe(filename):\n",
    "    # Try to read the file, handle FileNotFoundError\n",
    "# Expected Output (if file doesn’t exist):\n",
    "Example: \n",
    "Error: File not found.\n"
   ]
  },
  {
   "cell_type": "code",
   "execution_count": 1,
   "id": "6d05f2be-e931-4a9c-b48b-c1d8656e9cc9",
   "metadata": {},
   "outputs": [],
   "source": [
    "def read_file_safe(filename):\n",
    "    try:\n",
    "        with open(filename, 'r') as file:\n",
    "            content = file.read()\n",
    "            return content\n",
    "    except FileNotFoundError:\n",
    "        print(\"Error: File not found.\")\n",
    "        return None"
   ]
  },
  {
   "cell_type": "code",
   "execution_count": 2,
   "id": "745ea47e-2830-40e5-a2ab-1afe03c69df4",
   "metadata": {},
   "outputs": [
    {
     "name": "stdout",
     "output_type": "stream",
     "text": [
      "Error: File not found.\n"
     ]
    }
   ],
   "source": [
    "data = read_file_safe(\"non_existing_file.txt\")"
   ]
  },
  {
   "cell_type": "markdown",
   "id": "300928a9-e639-4f2c-97ec-5df882b70fab",
   "metadata": {},
   "source": [
    "# 2. Create a Function to Divide Two Numbers and Handle Division by Zero\n",
    "Objective:\n",
    " Write a function that divides two numbers and handles the ZeroDivisionError.\n",
    "# Sample Input:\n",
    "def safe_divide(a, b):\n",
    "    # Divide a by b\n",
    "# Expected Output (if b = 0):\n",
    "Error: Cannot divide by zero.\n",
    "\n"
   ]
  },
  {
   "cell_type": "code",
   "execution_count": 3,
   "id": "26a0c431-d759-4867-aa38-976f0cbbcacc",
   "metadata": {},
   "outputs": [],
   "source": [
    "def safe_divide(a, b):\n",
    "    try:\n",
    "        result = a / b\n",
    "        return result\n",
    "    except ZeroDivisionError:\n",
    "        print(\"Error: Cannot divide by zero.\")\n",
    "        return None\n"
   ]
  },
  {
   "cell_type": "code",
   "execution_count": 4,
   "id": "848827fc-a6bd-4aa6-a685-bee5b5029951",
   "metadata": {},
   "outputs": [
    {
     "name": "stdout",
     "output_type": "stream",
     "text": [
      "5.0\n",
      "Error: Cannot divide by zero.\n",
      "None\n"
     ]
    }
   ],
   "source": [
    "print(safe_divide(10, 2))   \n",
    "print(safe_divide(10, 0))  \n"
   ]
  },
  {
   "cell_type": "markdown",
   "id": "eeb28234-a292-4067-8e22-7174dbda7e4c",
   "metadata": {},
   "source": [
    "# 3. Handle ValueError When Converting Input to Integer\n",
    "Objective:\n",
    " Take input from the user and convert it to an integer. Handle the error if the input is not a number.\n",
    "# Sample Input:\n",
    "def convert_to_int():\n",
    "    # Convert user input to int\n",
    "\n",
    "# Expected Output:\n",
    "Enter a number: abc  \n",
    "Error: Invalid input. Please enter a number\n"
   ]
  },
  {
   "cell_type": "code",
   "execution_count": 15,
   "id": "3733f4ae-e17d-4c4f-a16b-2da839ccc77e",
   "metadata": {},
   "outputs": [],
   "source": [
    "def convert_to_int():\n",
    "    try:\n",
    "        user_input = input(\"Enter a number: \")\n",
    "        number = int(user_input)\n",
    "        print(f\"You entered: {number}\")\n",
    "        return number\n",
    "    except ValueError:\n",
    "        print(\"Error: Invalid input. Please enter a number.\")\n",
    "        return None"
   ]
  },
  {
   "cell_type": "code",
   "execution_count": 16,
   "id": "6b0a8ac4-293f-4888-8765-561f86bd2a46",
   "metadata": {},
   "outputs": [
    {
     "name": "stdin",
     "output_type": "stream",
     "text": [
      "Enter a number:  abc\n"
     ]
    },
    {
     "name": "stdout",
     "output_type": "stream",
     "text": [
      "Error: Invalid input. Please enter a number.\n"
     ]
    }
   ],
   "source": [
    "enter = convert_to_int()"
   ]
  },
  {
   "cell_type": "markdown",
   "id": "70b05134-f293-478f-bc74-fc7876e70d49",
   "metadata": {},
   "source": [
    "# 4. Handle Multiple Exceptions in a Function\n",
    "Objective:\n",
    " Create a function that performs division and handles both ValueError and ZeroDivisionError.\n",
    "# Sample Input:\n",
    "def robust_division():\n",
    "    # Get input and divide safely\n",
    "\n",
    "# Expected Output:\n",
    "Enter numerator: ten  \n",
    "Error: Please enter a valid number.\n",
    "\n",
    "Enter denominator: 0  \n",
    "Error: Cannot divide by zero\n"
   ]
  },
  {
   "cell_type": "code",
   "execution_count": 22,
   "id": "7c0528f6-36dd-487c-a9df-e3330453c5ab",
   "metadata": {},
   "outputs": [],
   "source": [
    "def robust_division():\n",
    "    try:\n",
    "        num1 = int(input(\"Enter numerator: \"))\n",
    "        num2 = int(input(\"Enter denominator: \"))\n",
    "        result = num1 / num2\n",
    "        print(\"Result:\", result)\n",
    "    except ValueError:\n",
    "        print(\"Error: Please enter a valid number.\")\n",
    "    except ZeroDivisionError:\n",
    "        print(\"Error: Cannot divide by zero.\")"
   ]
  },
  {
   "cell_type": "code",
   "execution_count": 23,
   "id": "d7833afb-fcb7-4bd8-9a5f-dd9188ac62ec",
   "metadata": {},
   "outputs": [
    {
     "name": "stdin",
     "output_type": "stream",
     "text": [
      "Enter numerator:  ten\n"
     ]
    },
    {
     "name": "stdout",
     "output_type": "stream",
     "text": [
      "Error: Please enter a valid number.\n"
     ]
    }
   ],
   "source": [
    "data = robust_division()"
   ]
  },
  {
   "cell_type": "code",
   "execution_count": 24,
   "id": "0a203183-fb3e-4c6e-acd0-21861d00ba0e",
   "metadata": {},
   "outputs": [],
   "source": [
    "def robust_division():\n",
    "    try:\n",
    "        num1 = int(input(\"Enter numerator: \"))\n",
    "        num2 = int(input(\"Enter denominator: \"))\n",
    "        result = num1 / num2\n",
    "        print(\"Result:\", result)\n",
    "    except ValueError:\n",
    "        print(\"Error: Please enter a valid number.\")\n",
    "    except ZeroDivisionError:\n",
    "        print(\"Error: Cannot divide by zero.\")"
   ]
  },
  {
   "cell_type": "code",
   "execution_count": 25,
   "id": "a2807987-095d-472f-ba70-fac1a028a6cb",
   "metadata": {},
   "outputs": [
    {
     "name": "stdin",
     "output_type": "stream",
     "text": [
      "Enter numerator:  0\n",
      "Enter denominator:  0\n"
     ]
    },
    {
     "name": "stdout",
     "output_type": "stream",
     "text": [
      "Error: Cannot divide by zero.\n"
     ]
    }
   ],
   "source": [
    "data = robust_division()"
   ]
  },
  {
   "cell_type": "markdown",
   "id": "297f4fec-9387-40a7-96d2-a64cfc7a58ae",
   "metadata": {},
   "source": [
    "# 5. Use finally Block to Always Print a Message\n",
    "Objective:\n",
    " Demonstrate the use of finally to execute code regardless of an exception occurring.\n",
    "# Sample Input:\n",
    "def demonstrate_finally():\n",
    "    # Try something risky\n",
    "\n",
    "# Expected Output:\n",
    "Error occurred: something went wrong.  \n",
    "This will always run!\n"
   ]
  },
  {
   "cell_type": "code",
   "execution_count": 26,
   "id": "9f3dfde6-3c5d-40d1-a255-83de53601fc7",
   "metadata": {},
   "outputs": [],
   "source": [
    "def demonstrate_finally():\n",
    "    try:\n",
    "        # Simulate something risky\n",
    "        raise Exception(\"something went wrong.\")\n",
    "    except Exception as e:\n",
    "        print(f\"Error occurred: {e}\")\n",
    "    finally:\n",
    "        print(\"This will always run!\")\n"
   ]
  },
  {
   "cell_type": "code",
   "execution_count": 27,
   "id": "836afac9-8a40-4803-af18-2948deb527c6",
   "metadata": {},
   "outputs": [
    {
     "name": "stdout",
     "output_type": "stream",
     "text": [
      "Error occurred: something went wrong.\n",
      "This will always run!\n"
     ]
    }
   ],
   "source": [
    "block = demonstrate_finally()"
   ]
  },
  {
   "cell_type": "markdown",
   "id": "a6449add-eb34-4a64-97e2-e8af602d1b95",
   "metadata": {},
   "source": [
    "# 6. Create a Custom Exception Class and Raise It\n",
    "Objective:\n",
    " Create a custom exception called NegativeNumberError that gets raised when a negative number is passed to a function.\n",
    "Write a function check_positive(num) that:\n",
    "\n",
    "Raises NegativeNumberError if num is less than 0\n",
    "Prints \"Number is positive.\" if the number is non-negative\n",
    "Catches and displays the custom error message when raised\n",
    "# Sample Input:\n",
    "check_positive(-10)\n",
    "\n",
    "# Expected Output:\n",
    "Custom Error: Negative numbers are not allowed!\n",
    "\n"
   ]
  },
  {
   "cell_type": "code",
   "execution_count": 29,
   "id": "314301dc-c4ad-468b-af28-8fa0dc4abc2d",
   "metadata": {},
   "outputs": [],
   "source": [
    "# Custom exception class\n",
    "class NegativeNumberError(Exception):\n",
    "    pass\n",
    "\n",
    "# Function to check positivity\n",
    "def check_positive(num):\n",
    "    try:\n",
    "        if num < 0:\n",
    "            raise NegativeNumberError(\"Negative numbers are not allowed!\")\n",
    "        print(\"Number is positive.\")\n",
    "    except NegativeNumberError as e:\n",
    "        print(f\"Custom Error: {e}\")\n"
   ]
  },
  {
   "cell_type": "code",
   "execution_count": 30,
   "id": "c919d8ea-df49-464c-b445-15ca44fe8a38",
   "metadata": {},
   "outputs": [
    {
     "name": "stdout",
     "output_type": "stream",
     "text": [
      "Custom Error: Negative numbers are not allowed!\n"
     ]
    }
   ],
   "source": [
    "check_positive(-10)\n"
   ]
  },
  {
   "cell_type": "markdown",
   "id": "f21644ad-ad64-42ce-ba24-4367b662351f",
   "metadata": {},
   "source": [
    "# 7. What is AssertionError ? Use assert to Validate Input.\n",
    "Objective:\n",
    "Use assert to check if age is above 0. If the age is not positive, raise an AssertionError with the message: \"Age must be positive!\"\n",
    "# Sample Input:\n",
    "check_age(-5)\n",
    "\n",
    "# Expected Output:\n",
    "Assertion Error: Age must be positive!\n",
    "\n"
   ]
  },
  {
   "cell_type": "code",
   "execution_count": 31,
   "id": "942c697b-6ef8-4889-a5e6-e9c6065fc99d",
   "metadata": {},
   "outputs": [],
   "source": [
    "def check_age(age):\n",
    "    try:\n",
    "        assert age > 0, \"Age must be positive!\"\n",
    "        print(f\"Age is valid: {age}\")\n",
    "    except AssertionError as e:\n",
    "        print(f\"Assertion Error: {e}\")\n"
   ]
  },
  {
   "cell_type": "code",
   "execution_count": 32,
   "id": "9f0b1518-6f18-47a0-aa6f-921860e2e4af",
   "metadata": {},
   "outputs": [
    {
     "name": "stdout",
     "output_type": "stream",
     "text": [
      "Assertion Error: Age must be positive!\n"
     ]
    }
   ],
   "source": [
    "check_age(-5)"
   ]
  },
  {
   "cell_type": "markdown",
   "id": "8a3e7c1d-cf6d-4387-b7d0-86d8510eb446",
   "metadata": {},
   "source": [
    "# 8. Handle File Reading with Try-Except-Finally\n",
    "Objective:\n",
    " Try to read a file, handle any exceptions (like file not found), and always ensure the file is closed using a finally block.\n",
    "# Sample Input:\n",
    "read_file_with_cleanup(\"nonexistent.txt\")\n",
    "\n",
    "# Expected Output:\n",
    "File not found.  \n",
    "Cleaning up...\n",
    "\n"
   ]
  },
  {
   "cell_type": "code",
   "execution_count": 33,
   "id": "74fdfd2b-431f-4c79-adcf-6230395eb351",
   "metadata": {},
   "outputs": [],
   "source": [
    "def read_file_with_cleanup(filename):\n",
    "    file = None\n",
    "    try:\n",
    "        file = open(filename, 'r')\n",
    "        content = file.read()\n",
    "        print(content)\n",
    "    except FileNotFoundError:\n",
    "        print(\"File not found.\")\n",
    "    finally:\n",
    "        if file:\n",
    "            file.close()\n",
    "        print(\"Cleaning up...\")\n"
   ]
  },
  {
   "cell_type": "code",
   "execution_count": 34,
   "id": "f3fd62fb-148b-468d-8710-f4da845d0ec0",
   "metadata": {},
   "outputs": [
    {
     "name": "stdout",
     "output_type": "stream",
     "text": [
      "File not found.\n",
      "Cleaning up...\n"
     ]
    }
   ],
   "source": [
    "read_file_with_cleanup(\"nonexistent.txt\")\n"
   ]
  },
  {
   "cell_type": "markdown",
   "id": "19fd2833-38e8-49a9-a1ea-72b4ceebaea4",
   "metadata": {},
   "source": [
    "# 9. Handle TypeError in Function Arguments\n",
    "Objective:\n",
    " Create a function that adds two numbers and gracefully handles TypeError if types are incompatible.\n",
    "# Sample Input:\n",
    "safe_add(\"5\", 6)\n",
    "\n",
    "# Expected Output (if a = \"5\" and b = 6):\n",
    "TypeError: unsupported operand type(s)  \n",
    "Error: Both inputs must be numbers.\n"
   ]
  },
  {
   "cell_type": "code",
   "execution_count": 35,
   "id": "cc50fbe1-b349-4213-a648-b516556fa319",
   "metadata": {},
   "outputs": [],
   "source": [
    "def safe_add(a, b):\n",
    "    try:\n",
    "        result = a + b\n",
    "        print(f\"Result: {result}\")\n",
    "    except TypeError:\n",
    "        print(\"TypeError: unsupported operand type(s)\")\n",
    "        print(\"Error: Both inputs must be numbers.\")\n"
   ]
  },
  {
   "cell_type": "code",
   "execution_count": 36,
   "id": "ba73671f-8e95-4ab6-8798-3eee455e609a",
   "metadata": {},
   "outputs": [
    {
     "name": "stdout",
     "output_type": "stream",
     "text": [
      "TypeError: unsupported operand type(s)\n",
      "Error: Both inputs must be numbers.\n"
     ]
    }
   ],
   "source": [
    "safe_add(\"5\", 6)"
   ]
  },
  {
   "cell_type": "markdown",
   "id": "dd876f05-9dca-430e-a5cd-ab6bc3c77c8b",
   "metadata": {},
   "source": [
    "# 10. Create a Try-Except Block That Logs Errors to a File\n",
    "Objective:\n",
    " Write code that captures exceptions and logs them into a file called (error_log.txt) instead of printing them to the console.\n",
    "# Sample Input:\n",
    "error_logger()\n",
    "\n",
    "# Expected Output in error_log.txt:\n",
    "division by zero\n"
   ]
  },
  {
   "cell_type": "code",
   "execution_count": 46,
   "id": "fbe3e20e-7a68-4d3b-8996-5e161dc8de81",
   "metadata": {},
   "outputs": [],
   "source": [
    "def error_logger():\n",
    "    try:\n",
    "        x = 10 / 0\n",
    "    except Exception as e:\n",
    "        with open(\"error_log.txt\", \"a\") as f:\n",
    "            f.write(str(e) + \"\\n\")\n"
   ]
  },
  {
   "cell_type": "code",
   "execution_count": 47,
   "id": "0ccb7a71-beb8-4aaa-9c87-447f1c5a9731",
   "metadata": {},
   "outputs": [],
   "source": [
    "error_logger()"
   ]
  },
  {
   "cell_type": "code",
   "execution_count": null,
   "id": "1eaec657-76f5-4680-923b-1605688912ec",
   "metadata": {},
   "outputs": [],
   "source": []
  },
  {
   "cell_type": "code",
   "execution_count": null,
   "id": "205f8139-f9e5-4591-a528-f8425943d2e2",
   "metadata": {},
   "outputs": [],
   "source": []
  }
 ],
 "metadata": {
  "kernelspec": {
   "display_name": "Python 3 (ipykernel)",
   "language": "python",
   "name": "python3"
  },
  "language_info": {
   "codemirror_mode": {
    "name": "ipython",
    "version": 3
   },
   "file_extension": ".py",
   "mimetype": "text/x-python",
   "name": "python",
   "nbconvert_exporter": "python",
   "pygments_lexer": "ipython3",
   "version": "3.12.7"
  }
 },
 "nbformat": 4,
 "nbformat_minor": 5
}
