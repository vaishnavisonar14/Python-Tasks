{
 "cells": [
  {
   "cell_type": "markdown",
   "id": "3e83a165-7427-45ed-bd0e-0dbf5e6283ea",
   "metadata": {},
   "source": [
    "# Python : Loops"
   ]
  },
  {
   "cell_type": "markdown",
   "id": "5fe36f90-9558-47a3-b0d8-728e58934623",
   "metadata": {},
   "source": [
    "# 1. Print All Even Numbers Between 1 to 20 Using a For Loop\n",
    "Objective:\n",
    "Print all even numbers between 1 and 20 using a for loop.\n",
    "# Sample Input:\n",
    "Start: 1\n",
    "End: 20\n",
    "# Expected Output:\n",
    "2 4 6 8 10 12 14 16 18 20\n"
   ]
  },
  {
   "cell_type": "code",
   "execution_count": 2,
   "id": "b1c24f4e-a735-40cc-84d9-a8398e607cc2",
   "metadata": {},
   "outputs": [],
   "source": [
    "start = 1\n",
    "end = 20"
   ]
  },
  {
   "cell_type": "code",
   "execution_count": 3,
   "id": "66ab58b1-4102-4d75-9583-cccfe7d283f4",
   "metadata": {},
   "outputs": [
    {
     "name": "stdout",
     "output_type": "stream",
     "text": [
      "2  \n",
      "4  \n",
      "6  \n",
      "8  \n",
      "10  \n",
      "12  \n",
      "14  \n",
      "16  \n",
      "18  \n",
      "20  \n"
     ]
    }
   ],
   "source": [
    "for num in range(start,end+1):\n",
    "    if num % 2 == 0:\n",
    "        print(num,\" \")\n",
    "     "
   ]
  },
  {
   "cell_type": "markdown",
   "id": "39ce5369-db7a-426e-8f48-b53129c218e7",
   "metadata": {},
   "source": [
    "# 2. Print All Odd Numbers Between 1 to 20 Using a While Loop\n",
    "Objective:\n",
    "Print all odd numbers between 1 and 20 using a while loop.\n",
    "# Sample Input:\n",
    "Start: 1\n",
    "End: 20\n",
    "# Expected Output:\n",
    "1 3 5 7 9 11 13 15 17 19\n",
    "\n"
   ]
  },
  {
   "cell_type": "code",
   "execution_count": 4,
   "id": "80c20dd3-9f08-41b1-ae68-f6a6d3316ca0",
   "metadata": {},
   "outputs": [],
   "source": [
    "start = 1\n",
    "end = 20"
   ]
  },
  {
   "cell_type": "code",
   "execution_count": 6,
   "id": "427ee920-dd42-4cc0-be33-2b0cc236c476",
   "metadata": {},
   "outputs": [
    {
     "name": "stdout",
     "output_type": "stream",
     "text": [
      "1  \n",
      "3  \n",
      "5  \n",
      "7  \n",
      "9  \n",
      "11  \n",
      "13  \n",
      "15  \n",
      "17  \n",
      "19  \n"
     ]
    }
   ],
   "source": [
    "for num in range(start, end+1):\n",
    "    if num % 2 != 0:\n",
    "        print(num,\" \")"
   ]
  },
  {
   "cell_type": "markdown",
   "id": "d8c8b0b3-d923-4f9d-9417-f82e1c8f85f9",
   "metadata": {},
   "source": [
    "# 3. Check if a Number is Prime Using a For Loop\n",
    "Objective:\n",
    "Determine whether a given number is prime or not using a for loop.\n",
    "# Sample Input:\n",
    "Number: 29\n",
    "# Expected Output:\n",
    "29 is a Prime Number\n"
   ]
  },
  {
   "cell_type": "code",
   "execution_count": 58,
   "id": "0b45d471-bfca-4357-8018-84b17a546f07",
   "metadata": {},
   "outputs": [
    {
     "name": "stdin",
     "output_type": "stream",
     "text": [
      "Enter a number: 29\n"
     ]
    },
    {
     "name": "stdout",
     "output_type": "stream",
     "text": [
      "29 is a prime number\n"
     ]
    }
   ],
   "source": [
    "num = int(input(\"Enter a number:\"))\n",
    "if num > 1:\n",
    "    for i in range(2,num):\n",
    "        if num % i == 0:\n",
    "            print(f\"{num} is not a prime number\")\n",
    "            break\n",
    "    else:\n",
    "         print(f\"{num} is a prime number\" )   \n",
    "else:\n",
    "    print(f\"{num} is not a prime number\")\n"
   ]
  },
  {
   "cell_type": "markdown",
   "id": "4e8442d2-9b57-4d56-b62b-23ac27582fe8",
   "metadata": {},
   "source": [
    "# 4. Merge Two Lists into a Dictionary Using a For Loop\n",
    "Objective:\n",
    "Combine two lists into a dictionary, where one list contains keys and the other contains values.\n",
    "# Sample Input:\n",
    "Keys: [\"name\", \"age\", \"city\"]\n",
    "Values: [\"Pavan\", 25, \"Bangalore\"]\n",
    "# Expected Output:\n",
    "{'name': 'Pavan', 'age': 25, 'city': 'Bangalore'}\n"
   ]
  },
  {
   "cell_type": "code",
   "execution_count": 59,
   "id": "cb8d9e90-da98-4e36-adad-fd8714fe0246",
   "metadata": {},
   "outputs": [
    {
     "name": "stdout",
     "output_type": "stream",
     "text": [
      "{'name': 'Pavan', 'age': 25, 'city': 'Bangalore'}\n"
     ]
    }
   ],
   "source": [
    "Keys = [\"name\", \"age\", \"city\"] \n",
    "Values = [\"Pavan\", 25, \"Bangalore\"]\n",
    "mix_list ={}\n",
    "for i in range(len(Keys)):\n",
    "    mix_list[Keys[i]]=Values[i]\n",
    "print(mix_list)\n",
    "\n"
   ]
  },
  {
   "cell_type": "markdown",
   "id": "d12a410b-a127-42cd-b05a-bdc66cc57950",
   "metadata": {},
   "source": [
    "# 5. Find the Sum of Dictionary Values Using a While Loop\n",
    "Objective:\n",
    "Compute the sum of all values in a dictionary using a while loop.\n",
    "# Sample Input:\n",
    "{‘Teja’: 50000, 'Ved': 75000, 'Pavan': 60000}\n",
    "# Expected Output:\n",
    "Sum of Dictionary Values: 185000\n"
   ]
  },
  {
   "cell_type": "code",
   "execution_count": 97,
   "id": "0a758c09-fad2-429d-8d10-d1898c6040f6",
   "metadata": {},
   "outputs": [],
   "source": [
    "sal_dict = {'Teja': 50000, 'Ved': 75000, 'Pavan': 60000}"
   ]
  },
  {
   "cell_type": "code",
   "execution_count": 98,
   "id": "6379a05e-fa08-4478-a12f-7cfb5f8bddf7",
   "metadata": {},
   "outputs": [],
   "source": [
    "values = list(sal_dict.values())"
   ]
  },
  {
   "cell_type": "code",
   "execution_count": 99,
   "id": "aa5c384c-f242-48f4-9c00-2a7e5b4e4ed5",
   "metadata": {},
   "outputs": [
    {
     "data": {
      "text/plain": [
       "[50000, 75000, 60000]"
      ]
     },
     "execution_count": 99,
     "metadata": {},
     "output_type": "execute_result"
    }
   ],
   "source": [
    "values"
   ]
  },
  {
   "cell_type": "code",
   "execution_count": 100,
   "id": "965faae0-cd11-415b-b6bb-ef57e4a63fac",
   "metadata": {},
   "outputs": [],
   "source": [
    "total_sum = 0\n",
    "i = 0"
   ]
  },
  {
   "cell_type": "code",
   "execution_count": 103,
   "id": "c8e1adc6-8351-4486-b7e9-9211dc9f06f6",
   "metadata": {},
   "outputs": [
    {
     "name": "stdout",
     "output_type": "stream",
     "text": [
      "sum of dictionary values 185000\n"
     ]
    }
   ],
   "source": [
    "while i < len(values):\n",
    "    total_sum += values[i]\n",
    "    i += 1\n",
    "print(\"sum of dictionary values\", total_sum)"
   ]
  },
  {
   "cell_type": "markdown",
   "id": "0c160694-0d7d-4160-ab99-7b11d26e1a1c",
   "metadata": {},
   "source": [
    "# 6. Flatten a Nested List Using a For Loop\n",
    "Objective:\n",
    "Convert a nested list into a single flattened list using a for loop.\n",
    "# Sample Input:\n",
    "[[1, 2, 3], [4, 5], [6, 7, 8, 9]]\n",
    "# Expected Output:\n",
    "[1, 2, 3, 4, 5, 6, 7, 8, 9]\n"
   ]
  },
  {
   "cell_type": "code",
   "execution_count": 107,
   "id": "42bb7b2c-1085-4368-beac-333bd8182e3c",
   "metadata": {},
   "outputs": [],
   "source": [
    "nested_list = [[1, 2, 3], [4, 5], [6, 7, 8, 9]]"
   ]
  },
  {
   "cell_type": "code",
   "execution_count": 109,
   "id": "93caae24-800c-4ec3-8b3b-db4a13375154",
   "metadata": {},
   "outputs": [
    {
     "name": "stdout",
     "output_type": "stream",
     "text": [
      "[1, 2, 3, 4, 5, 6, 7, 8, 9]\n"
     ]
    }
   ],
   "source": [
    "flat_lst = []\n",
    "for sublist in nested_list:\n",
    "    for item in sublist:\n",
    "        flat_lst.append(item)\n",
    "print(flat_lst)        "
   ]
  },
  {
   "cell_type": "markdown",
   "id": "823e2b65-5ad4-4ab9-9f53-2c1360092655",
   "metadata": {},
   "source": [
    "# 7. Print a Right-Angled Triangle Pattern Using a For Loop\n",
    "Objective:\n",
    "Print a right-angled triangle pattern of stars.\n",
    "# Sample Input:\n",
    "Rows: 5\n",
    "# Expected Output:\n",
    "# *\n",
    "# **\n",
    "# ***\n",
    "# ****\n",
    "# *****\n"
   ]
  },
  {
   "cell_type": "code",
   "execution_count": 110,
   "id": "2374d34d-acae-4c8a-bb14-59cb8a3c33ed",
   "metadata": {},
   "outputs": [
    {
     "name": "stdout",
     "output_type": "stream",
     "text": [
      "*\n",
      "**\n",
      "***\n",
      "****\n",
      "*****\n"
     ]
    }
   ],
   "source": [
    "rows = 5\n",
    "for i in range(1,rows+1):\n",
    "    print('*'*i)"
   ]
  },
  {
   "cell_type": "markdown",
   "id": "75e4d876-54e8-4a0d-ac0d-61411d7f4973",
   "metadata": {},
   "source": [
    "# 8. Print a Square Pattern Using a Nested For Loop\n",
    "Objective:\n",
    "Print a square pattern of stars using a nested for loop.\n",
    "# Sample Input:\n",
    "Size: 4\n",
    "# Expected Output:\n",
    "# ****\n",
    "# ****\n",
    "# ****\n",
    "# ****\n"
   ]
  },
  {
   "cell_type": "code",
   "execution_count": 127,
   "id": "842ff362-fc58-4379-a9b5-9e1dc3011682",
   "metadata": {},
   "outputs": [
    {
     "name": "stdout",
     "output_type": "stream",
     "text": [
      "****\n",
      "****\n",
      "****\n",
      "****\n"
     ]
    }
   ],
   "source": [
    "rows = 4\n",
    "for i in range(rows):\n",
    "    print('*'*rows)"
   ]
  },
  {
   "cell_type": "code",
   "execution_count": null,
   "id": "2e880b5f-b305-43b7-aaca-cdbdd2777ec0",
   "metadata": {},
   "outputs": [],
   "source": []
  },
  {
   "cell_type": "markdown",
   "id": "85461a27-d303-4cf2-a8f0-77485273b62c",
   "metadata": {},
   "source": [
    "# 9. Print a Multiplication Table Using a Nested For Loop\n",
    "Objective:\n",
    "Generate and print a multiplication table from 1 to N using a nested for loop.\n",
    "# Sample Input:\n",
    "N: 5\n",
    "# Expected Output:\n",
    "\n"
   ]
  },
  {
   "cell_type": "code",
   "execution_count": 130,
   "id": "bdea6ee6-5dcc-4b4e-9888-6d3682e07d2a",
   "metadata": {},
   "outputs": [
    {
     "name": "stdout",
     "output_type": "stream",
     "text": [
      "5*1=5\n",
      "5*2=10\n",
      "5*3=15\n",
      "5*4=20\n",
      "5*5=25\n",
      "5*6=30\n",
      "5*7=35\n",
      "5*8=40\n",
      "5*9=45\n",
      "5*10=50\n"
     ]
    }
   ],
   "source": [
    "i = 5\n",
    "for j in range(1,11):\n",
    "        print(f\"{i}*{j}={i*j}\")\n"
   ]
  },
  {
   "cell_type": "markdown",
   "id": "fe7e56ce-a71d-4b6f-b85a-cb3b19c0a60c",
   "metadata": {},
   "source": [
    "# 10. Implement a Simple Number Guessing Game Using a While Loop\n",
    "Objective:\n",
    "Create a number guessing game where the user attempts to guess the correct number within a given range.\n",
    "# Sample Input:\n",
    "Secret Number: 7\n",
    "User Guess: trai1 - 5,trail2 - 9,trail3 - 7\n",
    "# Expected Output:\n",
    "Output for trail1 - Too low! Try again.\n",
    "Output for trail2 - Too high! Try again.\n",
    "Output for trail3 - Congratulations! You guessed the correct number.\n"
   ]
  },
  {
   "cell_type": "code",
   "execution_count": null,
   "id": "54fa65a5-493c-4aa8-867e-9560a7c26d2a",
   "metadata": {},
   "outputs": [],
   "source": [
    "import random\n",
    "secret_number = 7  \n",
    "user_guess = None\n",
    "attempt = 1  \n",
    "while user_guess != secret_number:\n",
    "    user_guess = int(input(f\"Attempt {attempt}: Enter your guess: \"))\n",
    "    if user_guess < secret_number:\n",
    "        print(f\"Output for trial {attempt} - Too low! Try again.\")\n",
    "    elif user_guess > secret_number:\n",
    "        print(f\"Output for trial {attempt} - Too high! Try again.\")\n",
    "    else:\n",
    "        print(f\"Output for trial {attempt} - Congratulations! You guessed the correct number.\")\n",
    "        break  \n",
    "    \n",
    "    attempt += 1 "
   ]
  },
  {
   "cell_type": "code",
   "execution_count": null,
   "id": "21bb3ab9-9d3a-44d0-a07f-32d914bb3a68",
   "metadata": {},
   "outputs": [],
   "source": []
  },
  {
   "cell_type": "code",
   "execution_count": null,
   "id": "f11184ed-f317-440f-9a8a-f457c85517d4",
   "metadata": {},
   "outputs": [],
   "source": []
  },
  {
   "cell_type": "code",
   "execution_count": null,
   "id": "f493799c-4a20-4f6a-b5f6-8697a5a0d134",
   "metadata": {},
   "outputs": [],
   "source": []
  }
 ],
 "metadata": {
  "kernelspec": {
   "display_name": "Python 3 (ipykernel)",
   "language": "python",
   "name": "python3"
  },
  "language_info": {
   "codemirror_mode": {
    "name": "ipython",
    "version": 3
   },
   "file_extension": ".py",
   "mimetype": "text/x-python",
   "name": "python",
   "nbconvert_exporter": "python",
   "pygments_lexer": "ipython3",
   "version": "3.12.7"
  }
 },
 "nbformat": 4,
 "nbformat_minor": 5
}
