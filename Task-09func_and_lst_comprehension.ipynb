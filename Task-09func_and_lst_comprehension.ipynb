{
 "cells": [
  {
   "cell_type": "markdown",
   "id": "6b5980df-da88-4351-84ee-6cd3d96903bb",
   "metadata": {},
   "source": [
    "# Python: Higher Order Functions ( Lambda, Map, and Filter) and Comprehensions"
   ]
  },
  {
   "cell_type": "markdown",
   "id": "b1648bae-1ae5-4044-80c0-a7109453854a",
   "metadata": {},
   "source": [
    "# 1. Square Each Element in a List\n",
    "Objective:\n",
    "Write a function that takes a list of numbers and returns a new list with each number squared.\n",
    "Solve\n",
    "Using a normal function\n",
    "Using list comprehension\n",
    "\n",
    "# Sample Input:\n",
    "square_numbers([1, 2, 3, 4, 5])\n",
    "# Expected Output:\n",
    "[1, 4, 9, 16, 25]\n"
   ]
  },
  {
   "cell_type": "code",
   "execution_count": 23,
   "id": "1e4a33ad-0051-4209-ad56-dcf228653dec",
   "metadata": {},
   "outputs": [
    {
     "name": "stdout",
     "output_type": "stream",
     "text": [
      "[1, 4, 9, 16, 25]\n"
     ]
    }
   ],
   "source": [
    "#using normal function\n",
    "def square_numbers(numbers):\n",
    "    squared_list = []\n",
    "    for number in numbers:\n",
    "        squared_list.append(number ** 2)\n",
    "    return squared_list\n",
    "print(square_numbers([1, 2, 3, 4, 5]))\n"
   ]
  },
  {
   "cell_type": "code",
   "execution_count": null,
   "id": "842a2bde-550f-4541-9118-0039b87ebd54",
   "metadata": {},
   "outputs": [],
   "source": []
  },
  {
   "cell_type": "code",
   "execution_count": 7,
   "id": "edb5ad36-30f5-498a-911c-b15cadbca7c8",
   "metadata": {},
   "outputs": [
    {
     "name": "stdout",
     "output_type": "stream",
     "text": [
      "[1, 4, 9, 16, 25]\n"
     ]
    }
   ],
   "source": [
    "#using list comprehension\n",
    "def square_numbers(numbers):\n",
    "    return [number ** 2 for number in numbers]\n",
    "print(square_numbers([1, 2, 3, 4, 5]))\n"
   ]
  },
  {
   "cell_type": "markdown",
   "id": "314eec23-8a0e-4910-a955-dc9883b02080",
   "metadata": {},
   "source": [
    "# 2. Convert a List of Strings to Uppercase.\n",
    "Objective:\n",
    " Write a function that takes a list of lowercase strings and returns them in uppercase.\n",
    "Solve it in two ways:\n",
    "Using a normal function \n",
    "Using list comprehension\n",
    "# Sample Input:\n",
    "to_uppercase([\"apple\", \"banana\", \"cherry\"])\n",
    "\n",
    "# Expected Output:\n",
    "[\"APPLE\", \"BANANA\", \"CHERRY\"]\n"
   ]
  },
  {
   "cell_type": "code",
   "execution_count": 24,
   "id": "46001c89-5c78-446e-ad95-4802bd06860f",
   "metadata": {},
   "outputs": [
    {
     "name": "stdout",
     "output_type": "stream",
     "text": [
      "['APPLE', 'BANANA', 'CHERRY']\n"
     ]
    }
   ],
   "source": [
    "#using normal function\n",
    "def to_uppercase(strings):\n",
    "    uppercase_list = []\n",
    "    for s in strings:\n",
    "        uppercase_list.append(s.upper())\n",
    "    return uppercase_list\n",
    "print(to_uppercase([\"apple\", \"banana\", \"cherry\"]))\n"
   ]
  },
  {
   "cell_type": "code",
   "execution_count": null,
   "id": "76f7aaa6-b9ee-4a22-bf1a-c6d6040640d3",
   "metadata": {},
   "outputs": [],
   "source": [
    "#using list comprehension"
   ]
  },
  {
   "cell_type": "code",
   "execution_count": 15,
   "id": "99360193-3dbd-4ac2-868c-dd4e72ed846a",
   "metadata": {},
   "outputs": [],
   "source": [
    "to_uppercase = [data.upper() for data in [\"apple\", \"banana\", \"cherry\"]]"
   ]
  },
  {
   "cell_type": "code",
   "execution_count": 16,
   "id": "a3957bef-b373-420b-8fa3-9cb824b845aa",
   "metadata": {},
   "outputs": [
    {
     "data": {
      "text/plain": [
       "['APPLE', 'BANANA', 'CHERRY']"
      ]
     },
     "execution_count": 16,
     "metadata": {},
     "output_type": "execute_result"
    }
   ],
   "source": [
    "to_uppercase"
   ]
  },
  {
   "cell_type": "markdown",
   "id": "bfc62341-e74f-496b-bde5-011a7b6a66f5",
   "metadata": {},
   "source": [
    "# 3. Find Even Numbers from a List.\n",
    "Objective:\n",
    " Write a function that extracts even numbers from a given list.\n",
    "Solve it in two ways:\n",
    "Using a normal function\n",
    "Using list comprehension\n",
    "# Sample Input:\n",
    "filter_even_numbers([1, 2, 3, 4, 5, 6])\n",
    "\n",
    "# Expected Output:\n",
    "[2, 4, 6]\n",
    "\n",
    "\n",
    "\n"
   ]
  },
  {
   "cell_type": "code",
   "execution_count": 25,
   "id": "9fcfc52b-b01d-4d1b-bc26-90e7c0622a77",
   "metadata": {},
   "outputs": [
    {
     "name": "stdout",
     "output_type": "stream",
     "text": [
      "[2, 4, 6]\n"
     ]
    }
   ],
   "source": [
    "#using normal function\n",
    "def filter_even_numbers(numbers):\n",
    "    even_numbers = []\n",
    "    for number in numbers:\n",
    "        if number % 2 == 0:\n",
    "            even_numbers.append(number)\n",
    "    return even_numbers\n",
    "print(filter_even_numbers([1, 2, 3, 4, 5, 6]))\n"
   ]
  },
  {
   "cell_type": "code",
   "execution_count": null,
   "id": "5f3e5e8e-520f-4184-8dd1-02c0e9a16170",
   "metadata": {},
   "outputs": [],
   "source": [
    "#using list comprehension"
   ]
  },
  {
   "cell_type": "code",
   "execution_count": 17,
   "id": "e3b8ca06-409c-489c-a7af-42804011d8df",
   "metadata": {},
   "outputs": [],
   "source": [
    "even_num = [x for x in [1,2,3,4,5,6] if x%2==0]"
   ]
  },
  {
   "cell_type": "code",
   "execution_count": 18,
   "id": "01cb7446-7913-4a65-81f2-711fe2817722",
   "metadata": {},
   "outputs": [
    {
     "data": {
      "text/plain": [
       "[2, 4, 6]"
      ]
     },
     "execution_count": 18,
     "metadata": {},
     "output_type": "execute_result"
    }
   ],
   "source": [
    "even_num"
   ]
  },
  {
   "cell_type": "markdown",
   "id": "014b7e4e-0c58-4f78-9036-64219f77f162",
   "metadata": {},
   "source": [
    "# 4.Find the Length of Each String in a List\n",
    "Objective:\n",
    " Write a function that takes a list of strings and returns a list of their lengths.\n",
    "Solve it in two ways:\n",
    "Using a normal function\n",
    "Using the map() function\n",
    "# Sample Input:\n",
    "string_lengths([\"hello\", \"world\", \"python\"])\n",
    "# Expected Output:\n",
    "[5, 5, 6]\n"
   ]
  },
  {
   "cell_type": "code",
   "execution_count": 27,
   "id": "34936dca-cba9-4f41-87c9-cf35d6aa5e76",
   "metadata": {},
   "outputs": [
    {
     "name": "stdout",
     "output_type": "stream",
     "text": [
      "[5, 5, 6]\n"
     ]
    }
   ],
   "source": [
    "#using normal function\n",
    "def string_lengths(strings):\n",
    "    lengths = []\n",
    "    for s in strings:\n",
    "        lengths.append(len(s))\n",
    "    return lengths\n",
    "print(string_lengths([\"hello\", \"world\", \"python\"]))\n"
   ]
  },
  {
   "cell_type": "code",
   "execution_count": null,
   "id": "04922c8d-c26e-4cb5-b689-36cf8519f027",
   "metadata": {},
   "outputs": [],
   "source": [
    "#using list comprehension"
   ]
  },
  {
   "cell_type": "code",
   "execution_count": 22,
   "id": "6642b620-234e-46c4-b9a0-98c3ffd73d2f",
   "metadata": {},
   "outputs": [
    {
     "name": "stdout",
     "output_type": "stream",
     "text": [
      "[5, 5, 6]\n"
     ]
    }
   ],
   "source": [
    "def string_lengths(strings):\n",
    "    return list(map(len, strings))\n",
    "print(string_lengths([\"hello\", \"world\", \"python\"]))"
   ]
  },
  {
   "cell_type": "markdown",
   "id": "51396c03-3a9d-4881-876e-eb380f934179",
   "metadata": {},
   "source": [
    "# 5. Filter Words Longer Than 5 Characters\n",
    "Objective:\n",
    " Write a function that takes a list of words and returns only those with more than 5 characters.\n",
    "Solve it in two ways:\n",
    "Using a normal function\n",
    "Using the filter() function\n",
    "# Sample Input:\n",
    "long_words([\"apple\", \"banana\", \"cherry\", \"fig\", \"grape\"])\n",
    "\n",
    "# Expected Output:\n",
    "[\"banana\", \"cherry\"]\n"
   ]
  },
  {
   "cell_type": "code",
   "execution_count": 28,
   "id": "2c539060-969e-4a40-ad80-222951a95cc0",
   "metadata": {},
   "outputs": [
    {
     "name": "stdout",
     "output_type": "stream",
     "text": [
      "['banana', 'cherry']\n"
     ]
    }
   ],
   "source": [
    "#using normal function\n",
    "def long_words(words):\n",
    "    result = []\n",
    "    for word in words:\n",
    "        if len(word) > 5:\n",
    "            result.append(word)\n",
    "    return result\n",
    "print(long_words([\"apple\", \"banana\", \"cherry\", \"fig\", \"grape\"]))\n"
   ]
  },
  {
   "cell_type": "code",
   "execution_count": 29,
   "id": "454b4f17-7c0a-48d1-a616-08d8fd24c2ea",
   "metadata": {},
   "outputs": [
    {
     "name": "stdout",
     "output_type": "stream",
     "text": [
      "['banana', 'cherry']\n"
     ]
    }
   ],
   "source": [
    "#using list comprehension\n",
    "def long_words(words):\n",
    "    return list(filter(lambda word: len(word) > 5, words))\n",
    "\n",
    "print(long_words([\"apple\", \"banana\", \"cherry\", \"fig\", \"grape\"]))\n"
   ]
  },
  {
   "cell_type": "code",
   "execution_count": null,
   "id": "4377729c-2542-4606-8026-7ab295d544ee",
   "metadata": {},
   "outputs": [],
   "source": []
  },
  {
   "cell_type": "markdown",
   "id": "aa08716a-d837-4739-a7d4-1c585ad9898a",
   "metadata": {},
   "source": [
    "# 6. Multiply Corresponding Elements of Two Lists\n",
    "Objective:\n",
    " Write a function that takes two lists and returns a list containing the product of corresponding elements.\n",
    "Solve it in two ways:\n",
    "Using a normal function\n",
    "Using the map() function\n",
    "# Sample Input:\n",
    "multiply_lists([1, 2, 3], [4, 5, 6])\n",
    "\n",
    "\n",
    "# Expected Output:\n",
    "[4, 10, 18]\n"
   ]
  },
  {
   "cell_type": "code",
   "execution_count": 30,
   "id": "1e66c04d-da6e-425f-94a7-f19783f3a36c",
   "metadata": {},
   "outputs": [
    {
     "name": "stdout",
     "output_type": "stream",
     "text": [
      "[4, 10, 18]\n"
     ]
    }
   ],
   "source": [
    "#using normal function\n",
    "def multiply_lists(list1, list2):\n",
    "    result = []\n",
    "    for a, b in zip(list1, list2):\n",
    "        result.append(a * b)\n",
    "    return result\n",
    "print(multiply_lists([1, 2, 3], [4, 5, 6]))\n"
   ]
  },
  {
   "cell_type": "code",
   "execution_count": 31,
   "id": "61ca73e8-5bac-41f8-a5d4-8878c716617d",
   "metadata": {},
   "outputs": [
    {
     "name": "stdout",
     "output_type": "stream",
     "text": [
      "[4, 10, 18]\n"
     ]
    }
   ],
   "source": [
    "#using list comprehension\n",
    "def multiply_lists(list1, list2):\n",
    "    return list(map(lambda a, b: a * b, list1, list2))\n",
    "print(multiply_lists([1, 2, 3], [4, 5, 6]))\n"
   ]
  },
  {
   "cell_type": "markdown",
   "id": "1ef49e81-ff20-4916-92ba-4e23722b7b46",
   "metadata": {},
   "source": [
    "# 7. Sort a List of Tuples Based on the Second Element\n",
    "Objective:\n",
    " Write a function that takes a list of tuples and sorts them based on the second value in each tuple.\n",
    "Solve it in two ways:\n",
    "Using a normal function\n",
    "Using a lambda function with sorted()\n",
    "# Sample Input:\n",
    "sort_by_second([(1, 3), (2, 2), (4, 1)])\n",
    "\n",
    "# Expected Output:\n",
    "[(4, 1), (2, 2), (1, 3)]\n"
   ]
  },
  {
   "cell_type": "code",
   "execution_count": 32,
   "id": "2e6f545e-9192-42e0-864e-62134275addb",
   "metadata": {},
   "outputs": [
    {
     "name": "stdout",
     "output_type": "stream",
     "text": [
      "[(4, 1), (2, 2), (1, 3)]\n"
     ]
    }
   ],
   "source": [
    "#using normal function\n",
    "def sort_by_second(tuples_list):\n",
    "    for i in range(len(tuples_list)):\n",
    "        for j in range(i + 1, len(tuples_list)):\n",
    "            if tuples_list[i][1] > tuples_list[j][1]:\n",
    "                tuples_list[i], tuples_list[j] = tuples_list[j], tuples_list[i]\n",
    "    return tuples_list\n",
    "print(sort_by_second([(1, 3), (2, 2), (4, 1)]))\n"
   ]
  },
  {
   "cell_type": "code",
   "execution_count": 33,
   "id": "61ef513f-5f89-434e-afb9-f72849219ab1",
   "metadata": {},
   "outputs": [
    {
     "name": "stdout",
     "output_type": "stream",
     "text": [
      "[(4, 1), (2, 2), (1, 3)]\n"
     ]
    }
   ],
   "source": [
    "#using list comprehension\n",
    "def sort_by_second(tuples_list):\n",
    "    return sorted(tuples_list, key=lambda x: x[1])\n",
    "print(sort_by_second([(1, 3), (2, 2), (4, 1)]))\n"
   ]
  },
  {
   "cell_type": "markdown",
   "id": "fa8626ce-9143-4566-91f4-168449f14965",
   "metadata": {},
   "source": [
    "# 8. Calculate the Factorial of Numbers in a List\n",
    "Objective:\n",
    " Write a function that calculates the factorial of each number in a list.\n",
    "Solve it in two ways:\n",
    "Using a normal function\n",
    "Using the map() function with lambda\n",
    "# Sample Input:\n",
    "factorial_list([3, 4, 5])\n",
    "\n",
    "# Expected Output:\n",
    "[6, 24, 120]"
   ]
  },
  {
   "cell_type": "code",
   "execution_count": 34,
   "id": "0dfa23bb-7498-42f9-8a62-8f553779dbd9",
   "metadata": {},
   "outputs": [
    {
     "name": "stdout",
     "output_type": "stream",
     "text": [
      "[6, 24, 120]\n"
     ]
    }
   ],
   "source": [
    "#using normal function\n",
    "def factorial(n):\n",
    "    if n == 0 or n == 1:\n",
    "        return 1\n",
    "    else:\n",
    "        return n * factorial(n - 1)\n",
    "\n",
    "def factorial_list(numbers):\n",
    "    result = []\n",
    "    for number in numbers:\n",
    "        result.append(factorial(number))\n",
    "    return result\n",
    "print(factorial_list([3, 4, 5]))\n"
   ]
  },
  {
   "cell_type": "code",
   "execution_count": 35,
   "id": "d2895452-6256-416a-a3dc-12f778d5a644",
   "metadata": {},
   "outputs": [
    {
     "name": "stdout",
     "output_type": "stream",
     "text": [
      "[6, 24, 120]\n"
     ]
    }
   ],
   "source": [
    "\n",
    "from math import factorial\n",
    "\n",
    "def factorial_list(numbers):\n",
    "    return list(map(lambda x: factorial(x), numbers))\n",
    "print(factorial_list([3, 4, 5]))\n"
   ]
  },
  {
   "cell_type": "markdown",
   "id": "fe845009-bf40-44aa-8cbe-03e587a3ca9b",
   "metadata": {},
   "source": [
    "# 9. Find Common Elements Between Two Lists\n",
    "Objective:\n",
    " Write a function that finds the common elements between two lists.\n",
    "Solve it in two ways:\n",
    "Using a normal function\n",
    "Using set comprehension\n",
    "# Sample Input:\n",
    "common_elements([1, 2, 3, 4], [3, 4, 5, 6])\n",
    "\n",
    "# Expected Output:\n",
    "[3, 4]\n"
   ]
  },
  {
   "cell_type": "code",
   "execution_count": 37,
   "id": "f0e35e4f-2179-4a09-b2e8-aed399cb2c4a",
   "metadata": {},
   "outputs": [
    {
     "name": "stdout",
     "output_type": "stream",
     "text": [
      "[3, 4]\n"
     ]
    }
   ],
   "source": [
    "#using normal function\n",
    "def common_elements(list1, list2):\n",
    "    common = []\n",
    "    for element in list1:\n",
    "        if element in list2 and element not in common:\n",
    "            common.append(element)\n",
    "    return common\n",
    "print(common_elements([1, 2, 3, 4], [3, 4, 5, 6]))\n"
   ]
  },
  {
   "cell_type": "code",
   "execution_count": 38,
   "id": "28830f38-bce2-489e-99d6-fae1595c83dd",
   "metadata": {},
   "outputs": [
    {
     "name": "stdout",
     "output_type": "stream",
     "text": [
      "[3, 4]\n"
     ]
    }
   ],
   "source": [
    "def common_elements(list1, list2):\n",
    "    return list({element for element in list1 if element in list2})\n",
    "print(common_elements([1, 2, 3, 4], [3, 4, 5, 6]))\n"
   ]
  },
  {
   "cell_type": "markdown",
   "id": "d767b831-cd1e-440d-ad9a-070dcf6a1b06",
   "metadata": {},
   "source": [
    "# 10. Remove Duplicates from a List\n",
    "Objective:\n",
    " Write a function that removes duplicates from a given list and returns a unique list.\n",
    "Solve it in two ways:\n",
    "Using a normal function\n",
    "Using set comprehension\n",
    "# Sample Input:\n",
    "remove_duplicates([1, 2, 2, 3, 4, 4, 5])\n",
    "# Expected Output:\n",
    "[1, 2, 3, 4, 5]\n"
   ]
  },
  {
   "cell_type": "code",
   "execution_count": 39,
   "id": "62042595-a324-4917-823a-0cf7cc9b27d2",
   "metadata": {},
   "outputs": [
    {
     "name": "stdout",
     "output_type": "stream",
     "text": [
      "[1, 2, 3, 4, 5]\n"
     ]
    }
   ],
   "source": [
    "#using normal function\n",
    "def remove_duplicates(lst):\n",
    "    unique_list = []\n",
    "    for item in lst:\n",
    "        if item not in unique_list:\n",
    "            unique_list.append(item)\n",
    "    return unique_list\n",
    "print(remove_duplicates([1, 2, 2, 3, 4, 4, 5]))\n"
   ]
  },
  {
   "cell_type": "code",
   "execution_count": 40,
   "id": "5a8b7ed8-e796-4618-8f0a-df0ab6d21423",
   "metadata": {},
   "outputs": [
    {
     "name": "stdout",
     "output_type": "stream",
     "text": [
      "[1, 2, 3, 4, 5]\n"
     ]
    }
   ],
   "source": [
    "def remove_duplicates(lst):\n",
    "    return list({item for item in lst})\n",
    "print(remove_duplicates([1, 2, 2, 3, 4, 4, 5]))\n"
   ]
  },
  {
   "cell_type": "code",
   "execution_count": null,
   "id": "59136290-9f72-4bcd-88ac-3d8bec2f3fa6",
   "metadata": {},
   "outputs": [],
   "source": []
  }
 ],
 "metadata": {
  "kernelspec": {
   "display_name": "Python 3 (ipykernel)",
   "language": "python",
   "name": "python3"
  },
  "language_info": {
   "codemirror_mode": {
    "name": "ipython",
    "version": 3
   },
   "file_extension": ".py",
   "mimetype": "text/x-python",
   "name": "python",
   "nbconvert_exporter": "python",
   "pygments_lexer": "ipython3",
   "version": "3.12.7"
  }
 },
 "nbformat": 4,
 "nbformat_minor": 5
}
