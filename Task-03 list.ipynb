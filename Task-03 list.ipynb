{
 "cells": [
  {
   "cell_type": "markdown",
   "id": "9fb01df7-4d33-4c2c-98d0-064736790244",
   "metadata": {},
   "source": [
    "# Section 1: List\n",
    "1. Create an empty list numbers. Append 10, 20, and 30 to it. Then change the second element to 25 and print the updated list.\n",
    "Input:\n",
    "numbers = []\n",
    "Output:\n",
    "[10, 25, 30]\n"
   ]
  },
  {
   "cell_type": "code",
   "execution_count": 26,
   "id": "dcc906b8-c1c3-4383-b27a-81cc927b28a0",
   "metadata": {},
   "outputs": [],
   "source": [
    "numbers = []"
   ]
  },
  {
   "cell_type": "code",
   "execution_count": 27,
   "id": "c1bdb038-096d-4a47-9d7e-d4e8af9b738c",
   "metadata": {},
   "outputs": [
    {
     "data": {
      "text/plain": [
       "[]"
      ]
     },
     "execution_count": 27,
     "metadata": {},
     "output_type": "execute_result"
    }
   ],
   "source": [
    "numbers"
   ]
  },
  {
   "cell_type": "code",
   "execution_count": 28,
   "id": "2ed3fab5-ac22-428e-a7c6-d0160fd44ea6",
   "metadata": {},
   "outputs": [],
   "source": [
    "numbers.append(10)\n",
    "numbers.append(20)\n",
    "numbers.append(30)"
   ]
  },
  {
   "cell_type": "code",
   "execution_count": 29,
   "id": "bff8b399-615d-497d-9db8-2d6df4bb78b6",
   "metadata": {},
   "outputs": [
    {
     "data": {
      "text/plain": [
       "[10, 20, 30]"
      ]
     },
     "execution_count": 29,
     "metadata": {},
     "output_type": "execute_result"
    }
   ],
   "source": [
    "numbers"
   ]
  },
  {
   "cell_type": "code",
   "execution_count": 34,
   "id": "6b07bec0-2158-43bb-91c4-13f6d577c779",
   "metadata": {},
   "outputs": [],
   "source": [
    "numbers[1]=25"
   ]
  },
  {
   "cell_type": "code",
   "execution_count": 35,
   "id": "abc7da06-3823-4e7a-bc6f-8cb767fb2fe2",
   "metadata": {},
   "outputs": [
    {
     "data": {
      "text/plain": [
       "[10, 25, 30]"
      ]
     },
     "execution_count": 35,
     "metadata": {},
     "output_type": "execute_result"
    }
   ],
   "source": [
    "numbers"
   ]
  },
  {
   "cell_type": "markdown",
   "id": "3de83943-85db-4a2f-ac5d-ed578cefa0b3",
   "metadata": {},
   "source": [
    "# 2. Given a list colors, retrieve and print the first and last elements using indexing.\n",
    "Input:\n",
    "colors = ['red', 'blue', 'green', 'yellow']\n",
    "Output:\n",
    "red\n",
    "yellow\n"
   ]
  },
  {
   "cell_type": "code",
   "execution_count": 41,
   "id": "b397b199-ece8-41a2-b651-172c0409afa5",
   "metadata": {},
   "outputs": [],
   "source": [
    "colors = ['red', 'blue', 'green', 'yellow']"
   ]
  },
  {
   "cell_type": "code",
   "execution_count": 42,
   "id": "38542684-ea03-47ac-a4c5-7cfb4032ad60",
   "metadata": {},
   "outputs": [
    {
     "name": "stdout",
     "output_type": "stream",
     "text": [
      "['red', 'blue', 'green', 'yellow']\n"
     ]
    }
   ],
   "source": [
    "print(colors)"
   ]
  },
  {
   "cell_type": "code",
   "execution_count": 43,
   "id": "0e8803ad-7661-4547-8c48-55215cd6871d",
   "metadata": {},
   "outputs": [
    {
     "data": {
      "text/plain": [
       "['red', 'yellow']"
      ]
     },
     "execution_count": 43,
     "metadata": {},
     "output_type": "execute_result"
    }
   ],
   "source": [
    "colors[::3]"
   ]
  },
  {
   "cell_type": "markdown",
   "id": "8475b156-ce83-4c72-901e-c49fcf8c6968",
   "metadata": {},
   "source": [
    "# 3. Slice the list fruits to extract only 'banana' and 'orange'.\n",
    "Input:\n",
    "fruits = ['apple', 'banana', 'orange', 'grapes', 'mango']\n",
    "Output:\n",
    "['banana', 'orange']\n"
   ]
  },
  {
   "cell_type": "code",
   "execution_count": 44,
   "id": "ed8ac530-a281-4ea9-ba32-3435e5f95b2f",
   "metadata": {},
   "outputs": [],
   "source": [
    " fruits = ['apple', 'banana', 'orange', 'grapes', 'mango'] "
   ]
  },
  {
   "cell_type": "code",
   "execution_count": 45,
   "id": "78a006e3-0e18-4448-be31-8321f789b62e",
   "metadata": {},
   "outputs": [
    {
     "name": "stdout",
     "output_type": "stream",
     "text": [
      "['apple', 'banana', 'orange', 'grapes', 'mango']\n"
     ]
    }
   ],
   "source": [
    "print(fruits)"
   ]
  },
  {
   "cell_type": "code",
   "execution_count": 46,
   "id": "c63a39a7-159b-474f-8e0d-9c93ac616280",
   "metadata": {},
   "outputs": [
    {
     "data": {
      "text/plain": [
       "['banana', 'orange']"
      ]
     },
     "execution_count": 46,
     "metadata": {},
     "output_type": "execute_result"
    }
   ],
   "source": [
    "fruits[1:3]"
   ]
  },
  {
   "cell_type": "markdown",
   "id": "81441e30-ef97-4dc8-9f9b-374a018e317f",
   "metadata": {},
   "source": [
    "# 4. Reverse the given list using slicing.\n",
    "Input:\n",
    "numbers = [1, 2, 3, 4, 5]\n",
    "Output:\n",
    "[5, 4, 3, 2, 1]\n"
   ]
  },
  {
   "cell_type": "code",
   "execution_count": 47,
   "id": "3b2a83ce-0b55-4df6-880a-8a124d432ea2",
   "metadata": {},
   "outputs": [],
   "source": [
    "numbers = [1, 2, 3, 4, 5] "
   ]
  },
  {
   "cell_type": "code",
   "execution_count": 49,
   "id": "a67361fc-5ace-4b11-83c6-1baa29ed5821",
   "metadata": {},
   "outputs": [
    {
     "data": {
      "text/plain": [
       "[5, 4, 3, 2, 1]"
      ]
     },
     "execution_count": 49,
     "metadata": {},
     "output_type": "execute_result"
    }
   ],
   "source": [
    "numbers[::-1]"
   ]
  },
  {
   "cell_type": "markdown",
   "id": "40225411-cfc9-42ba-ba15-1eec1227fcbb",
   "metadata": {},
   "source": [
    "# 5. Count how many times 'apple' appears in the list.\n",
    "Input:\n",
    "fruits = ['apple', 'banana', 'apple', 'orange', 'apple']\n",
    "Output:\n",
    "3\n"
   ]
  },
  {
   "cell_type": "code",
   "execution_count": 50,
   "id": "1d00d10f-a31e-456d-b86e-6d5fe826de8d",
   "metadata": {},
   "outputs": [],
   "source": [
    "fruits = ['apple', 'banana', 'apple', 'orange', 'apple']"
   ]
  },
  {
   "cell_type": "code",
   "execution_count": 51,
   "id": "d286be95-9129-4860-bc16-ced7831bca01",
   "metadata": {},
   "outputs": [
    {
     "data": {
      "text/plain": [
       "3"
      ]
     },
     "execution_count": 51,
     "metadata": {},
     "output_type": "execute_result"
    }
   ],
   "source": [
    "fruits.count('apple')"
   ]
  },
  {
   "cell_type": "markdown",
   "id": "0b611745-4514-45a7-b918-fecf27d24607",
   "metadata": {},
   "source": [
    "# 6. Combine two lists into one.\n",
    "Input:\n",
    "list1 = [1, 2, 3]\n",
    "list2 = [4, 5, 6]\n",
    "Output:\n",
    "[1, 2, 3, 4, 5, 6]\n"
   ]
  },
  {
   "cell_type": "code",
   "execution_count": 60,
   "id": "b046c8d6-15a9-4d83-9fdf-02987830f4c3",
   "metadata": {},
   "outputs": [],
   "source": [
    "list1 = [1, 2, 3]\n",
    "list2 = [4, 5, 6]"
   ]
  },
  {
   "cell_type": "code",
   "execution_count": 61,
   "id": "14fb4dee-4115-4156-aab9-9b46abc870a0",
   "metadata": {},
   "outputs": [],
   "source": [
    "list1.extend(list2)"
   ]
  },
  {
   "cell_type": "code",
   "execution_count": 63,
   "id": "25bbc4f7-2c35-4fa2-b42a-7ae2a71d34f5",
   "metadata": {},
   "outputs": [
    {
     "name": "stdout",
     "output_type": "stream",
     "text": [
      "[1, 2, 3, 4, 5, 6]\n"
     ]
    }
   ],
   "source": [
    "print(list1)"
   ]
  },
  {
   "cell_type": "markdown",
   "id": "ba68f698-0d47-49b7-a8a3-dacfa7c6f35a",
   "metadata": {},
   "source": [
    "# 7. Insert 'watermelon' at index 2 in the list.\n",
    "Input:\n",
    "fruits = ['apple', 'banana', 'orange', 'mango']\n",
    "Output:\n"
   ]
  },
  {
   "cell_type": "code",
   "execution_count": 90,
   "id": "5f93c7a2-e6e5-4281-be58-1d59ec0d45f5",
   "metadata": {},
   "outputs": [],
   "source": [
    "fruits = ['apple', 'banana', 'orange', 'mango']"
   ]
  },
  {
   "cell_type": "code",
   "execution_count": 91,
   "id": "3ffd7fdd-40f0-4d1b-bcc8-330c3a3710c1",
   "metadata": {},
   "outputs": [],
   "source": [
    "fruits.insert(2,'watermelon')"
   ]
  },
  {
   "cell_type": "code",
   "execution_count": 92,
   "id": "d3f4e0fe-8aa5-4aa1-9cf0-e58563257faf",
   "metadata": {},
   "outputs": [
    {
     "data": {
      "text/plain": [
       "['apple', 'banana', 'watermelon', 'orange', 'mango']"
      ]
     },
     "execution_count": 92,
     "metadata": {},
     "output_type": "execute_result"
    }
   ],
   "source": [
    "fruits"
   ]
  },
  {
   "cell_type": "markdown",
   "id": "b0e90162-7780-49d5-9f70-ebb3ac7b5ff0",
   "metadata": {},
   "source": [
    "# 8. Remove 'orange' from the updated fruits list\n"
   ]
  },
  {
   "cell_type": "code",
   "execution_count": 93,
   "id": "da4872e9-81c1-44e8-a10e-4ce3e12043d7",
   "metadata": {},
   "outputs": [],
   "source": [
    "fruits.remove('orange')"
   ]
  },
  {
   "cell_type": "code",
   "execution_count": 94,
   "id": "1b207349-108e-4a18-8e79-9916224417c5",
   "metadata": {},
   "outputs": [
    {
     "data": {
      "text/plain": [
       "['apple', 'banana', 'watermelon', 'mango']"
      ]
     },
     "execution_count": 94,
     "metadata": {},
     "output_type": "execute_result"
    }
   ],
   "source": [
    "fruits"
   ]
  },
  {
   "cell_type": "markdown",
   "id": "a5f0ee1e-48ba-4e75-8643-77bcc824c6df",
   "metadata": {},
   "source": [
    "# 9. Remove the third element from the updated fruits list.\n"
   ]
  },
  {
   "cell_type": "code",
   "execution_count": 95,
   "id": "ec32920a-9762-4b87-8316-d7a471ec4f20",
   "metadata": {},
   "outputs": [],
   "source": [
    "del fruits[2]"
   ]
  },
  {
   "cell_type": "code",
   "execution_count": 96,
   "id": "fe2bf45d-4554-40c4-a80b-a4d19ef588e4",
   "metadata": {},
   "outputs": [
    {
     "data": {
      "text/plain": [
       "['apple', 'banana', 'mango']"
      ]
     },
     "execution_count": 96,
     "metadata": {},
     "output_type": "execute_result"
    }
   ],
   "source": [
    "fruits"
   ]
  },
  {
   "cell_type": "markdown",
   "id": "62d56d5f-974d-439e-955a-2873a5105a67",
   "metadata": {},
   "source": [
    "# 10. Access 6000 from the nested list.\n",
    "Input:\n",
    "nested_list = [10, 20, [300, 400, [5000, 6000], 500], 30, 40]\n",
    "\n"
   ]
  },
  {
   "cell_type": "code",
   "execution_count": 97,
   "id": "fd7b0836-9b2e-450d-af77-39b698e00e1b",
   "metadata": {},
   "outputs": [
    {
     "name": "stdout",
     "output_type": "stream",
     "text": [
      "[10, 20, [300, 400, [5000, 6000], 500], 30, 40]\n"
     ]
    }
   ],
   "source": [
    "nested_list = [10,20,[300,400,[5000,6000],500],30,40]\n",
    "print(nested_list)"
   ]
  },
  {
   "cell_type": "code",
   "execution_count": 98,
   "id": "ea890f07-8571-407e-a3f2-69089454ba9e",
   "metadata": {},
   "outputs": [
    {
     "data": {
      "text/plain": [
       "6000"
      ]
     },
     "execution_count": 98,
     "metadata": {},
     "output_type": "execute_result"
    }
   ],
   "source": [
    "nested_list[2][2][1]"
   ]
  },
  {
   "cell_type": "markdown",
   "id": "3dc5ff35-5cbe-42e0-909b-d8f2ec4ee93a",
   "metadata": {},
   "source": [
    "# 11. Add 7000 after 6000 inside the nested list.\n",
    "Input:\n",
    "nested_list = [10, 20, [300, 400, [5000, 6000], 500], 30, 40]\n",
    "Output:\n",
    "[10, 20, [300, 400, [5000, 6000, 7000], 500], 30, 40\n"
   ]
  },
  {
   "cell_type": "code",
   "execution_count": 100,
   "id": "c0e1af7a-c314-4313-8f50-455503da74f1",
   "metadata": {},
   "outputs": [
    {
     "name": "stdout",
     "output_type": "stream",
     "text": [
      "[10, 20, [300, 400, [5000, 6000], 500], 30, 40]\n"
     ]
    }
   ],
   "source": [
    "nested_list = [10,20,[300,400,[5000,6000],500],30,40]\n",
    "print(nested_list)"
   ]
  },
  {
   "cell_type": "code",
   "execution_count": 101,
   "id": "c4828b2e-4d05-4ca0-bab5-0bfb65232c45",
   "metadata": {},
   "outputs": [
    {
     "name": "stdout",
     "output_type": "stream",
     "text": [
      "[10, 20, [300, 400, [5000, 6000, 7000], 500], 30, 40]\n"
     ]
    }
   ],
   "source": [
    "nested_list[2][2].append(7000)\n",
    "print(nested_list)"
   ]
  },
  {
   "cell_type": "markdown",
   "id": "1cbda605-d08b-4e9e-85e4-aab4b4744baf",
   "metadata": {},
   "source": [
    "# 12. Replace the first occurrence of 20 with 200.\n",
    "Input:\n",
    "numbers = [5, 10, 15, 20, 25, 50, 20]\n",
    "Output:\n",
    "[5, 10, 15, 200, 25, 50, 20]\n",
    "\n"
   ]
  },
  {
   "cell_type": "code",
   "execution_count": 103,
   "id": "6621c09e-2cc6-44eb-a3b3-97dd6607eda2",
   "metadata": {},
   "outputs": [
    {
     "name": "stdout",
     "output_type": "stream",
     "text": [
      "[5, 10, 15, 20, 25, 50, 20]\n"
     ]
    }
   ],
   "source": [
    "numbers = [5,10,15,20,25,50,20]\n",
    "print(numbers)"
   ]
  },
  {
   "cell_type": "code",
   "execution_count": 104,
   "id": "393927e0-8dc0-439d-b61c-76f7ff313f28",
   "metadata": {},
   "outputs": [
    {
     "name": "stdout",
     "output_type": "stream",
     "text": [
      "[5, 10, 15, 200, 25, 50, 20]\n"
     ]
    }
   ],
   "source": [
    "numbers[3] = 200\n",
    "print(numbers)"
   ]
  },
  {
   "cell_type": "markdown",
   "id": "d12e70cc-f8b3-48c4-8e09-f2d8b2d34ba5",
   "metadata": {},
   "source": [
    "# 13. Find the second-largest number in a list after removing duplicates.\n",
    "Input:\n",
    "numbers = [10, 20, 4, 45, 99, 99, 98]\n",
    "Output:\n",
    "98\n"
   ]
  },
  {
   "cell_type": "code",
   "execution_count": 105,
   "id": "8ab53c7a-9271-421d-bc07-be41065a4097",
   "metadata": {},
   "outputs": [
    {
     "name": "stdout",
     "output_type": "stream",
     "text": [
      "[10, 20, 4, 45, 99, 99, 98]\n"
     ]
    }
   ],
   "source": [
    "numbers = [10,20,4,45,99,99,98]\n",
    "print(numbers)"
   ]
  },
  {
   "cell_type": "code",
   "execution_count": 106,
   "id": "3565d1af-fe3d-44f3-aca8-0a9597d83dbc",
   "metadata": {},
   "outputs": [
    {
     "name": "stdout",
     "output_type": "stream",
     "text": [
      "{98, 99, 4, 10, 45, 20}\n"
     ]
    }
   ],
   "source": [
    "num1 = set(numbers) \n",
    "print(num1)"
   ]
  },
  {
   "cell_type": "code",
   "execution_count": 108,
   "id": "8950fbfe-799a-43a5-9e8f-c4b156eb3949",
   "metadata": {},
   "outputs": [
    {
     "name": "stdout",
     "output_type": "stream",
     "text": [
      "[4, 10, 20, 45, 98, 99]\n"
     ]
    }
   ],
   "source": [
    "num2 = sorted(num1)\n",
    "print(num2)"
   ]
  },
  {
   "cell_type": "code",
   "execution_count": 109,
   "id": "8120eb37-10cb-4e53-b207-b60bee2ca033",
   "metadata": {},
   "outputs": [
    {
     "name": "stdout",
     "output_type": "stream",
     "text": [
      "[99, 98, 45, 20, 10, 4]\n"
     ]
    }
   ],
   "source": [
    "num2.reverse()\n",
    "print(num2)"
   ]
  },
  {
   "cell_type": "code",
   "execution_count": 110,
   "id": "b707d221-d8a8-4538-9847-e530727cac87",
   "metadata": {},
   "outputs": [
    {
     "data": {
      "text/plain": [
       "98"
      ]
     },
     "execution_count": 110,
     "metadata": {},
     "output_type": "execute_result"
    }
   ],
   "source": [
    "num2[1]"
   ]
  },
  {
   "cell_type": "code",
   "execution_count": null,
   "id": "bbc192c8-a3c2-4bf8-9b41-3e4eacf396f4",
   "metadata": {},
   "outputs": [],
   "source": []
  }
 ],
 "metadata": {
  "kernelspec": {
   "display_name": "Python 3 (ipykernel)",
   "language": "python",
   "name": "python3"
  },
  "language_info": {
   "codemirror_mode": {
    "name": "ipython",
    "version": 3
   },
   "file_extension": ".py",
   "mimetype": "text/x-python",
   "name": "python",
   "nbconvert_exporter": "python",
   "pygments_lexer": "ipython3",
   "version": "3.12.7"
  }
 },
 "nbformat": 4,
 "nbformat_minor": 5
}
