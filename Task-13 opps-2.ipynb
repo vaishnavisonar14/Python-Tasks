{
 "cells": [
  {
   "cell_type": "markdown",
   "id": "bfdffccf-bc6f-43eb-a5ce-094a1bfb4512",
   "metadata": {},
   "source": [
    "# Python: OOPS - 2 (Object-Oriented Programming)"
   ]
  },
  {
   "cell_type": "markdown",
   "id": "50f5b086-ae95-4497-a314-e0ab547e22f2",
   "metadata": {},
   "source": [
    "# 1. Create a class for arithmetic operations using different methods like addition(), subtraction()..etc.\n",
    "Objective:\n",
    "Understand how to implement basic arithmetic operations using class methods. Create a class called Arithmetic with methods for addition, subtraction, multiplication, and division. Once you define the methods, create an object of the class and call each method with two numbers.\n",
    "# Sample Input:\n",
    "calc = Arithmetic()\n",
    "print(\"Addition:\", calc.addition(10, 5))\n",
    "print(\"Subtraction:\", calc.subtraction(20, 8))\n",
    "print(\"Multiplication:\", calc.multiplication(7, 6))\n",
    "print(\"Division:\", calc.division(25, 5))\n",
    "# Expected Output:\n",
    "Addition: 15  \n",
    "Subtraction: 12  \n",
    "Multiplication: 42  \n",
    "Division: 5.0\n"
   ]
  },
  {
   "cell_type": "code",
   "execution_count": 1,
   "id": "a84116ce-4c6c-4b24-aad5-db32d428c5ba",
   "metadata": {},
   "outputs": [
    {
     "name": "stdout",
     "output_type": "stream",
     "text": [
      "Addition: 15\n",
      "Subtraction: 12\n",
      "Multiplication: 42\n",
      "Division: 5.0\n"
     ]
    }
   ],
   "source": [
    "class Arithmetic:\n",
    "    def addition(self, a, b):\n",
    "        return a + b\n",
    "\n",
    "    def subtraction(self, a, b):\n",
    "        return a - b\n",
    "\n",
    "    def multiplication(self, a, b):\n",
    "        return a * b\n",
    "\n",
    "    def division(self, a, b):\n",
    "        if b != 0:\n",
    "            return a / b\n",
    "        else:\n",
    "            return \"Error! Division by zero.\"\n",
    "calc = Arithmetic()\n",
    "print(\"Addition:\", calc.addition(10, 5))\n",
    "print(\"Subtraction:\", calc.subtraction(20, 8))\n",
    "print(\"Multiplication:\", calc.multiplication(7, 6))\n",
    "print(\"Division:\", calc.division(25, 5))"
   ]
  },
  {
   "cell_type": "markdown",
   "id": "988caf45-bc6d-409c-a001-e62870681fcb",
   "metadata": {},
   "source": [
    "# 2. Define a base class 'Vehicle'  with attributes color and model. Create a derived class 'Car' that inherits from 'Vehicle' and adds an attribute num_doors.\n",
    "Objective:\n",
    " Understand how to use inheritance in Python. Define a base class Vehicle with instance attributes color and model. Then create a derived class Car that adds a new attribute num_doors. Also add a method display_info() to print the complete information.\n",
    "# Sample Input:\n",
    "car1 = Car(\"Red\", \"MG Hector\", 4)\n",
    "car1.display_info()\n",
    "\n",
    "\n",
    "# Example output- Car:\n",
    "Car: MG Hector, Red; \n",
    "Doors: 4\n"
   ]
  },
  {
   "cell_type": "code",
   "execution_count": 2,
   "id": "b5a0e6d7-342c-4c8a-8d94-211c57b0cee4",
   "metadata": {},
   "outputs": [
    {
     "name": "stdout",
     "output_type": "stream",
     "text": [
      "Car: MG Hector, Red;\n",
      "Doors: 4\n"
     ]
    }
   ],
   "source": [
    "# Base class\n",
    "class Vehicle:\n",
    "    def __init__(self, color, model):\n",
    "        self.color = color\n",
    "        self.model = model\n",
    "\n",
    "# Derived class\n",
    "class Car(Vehicle):\n",
    "    def __init__(self, color, model, num_doors):\n",
    "        super().__init__(color, model)  # Call base class constructor\n",
    "        self.num_doors = num_doors\n",
    "\n",
    "    def display_info(self):\n",
    "        print(f\"Car: {self.model}, {self.color};\")\n",
    "        print(f\"Doors: {self.num_doors}\")\n",
    "car1 = Car(\"Red\", \"MG Hector\", 4)\n",
    "car1.display_info()"
   ]
  },
  {
   "cell_type": "markdown",
   "id": "a1f0df5c-7e40-4004-ae40-4144c0da87b6",
   "metadata": {},
   "source": [
    "# 3. Create two base classes. One base class is 'Person' with attributes name and age. Another class is 'Address' with attributes city and country. Define a derived class 'Employee' that inherits from both Person and Address. In 'Employee' class add an attribute job.\n",
    "Objective:\n",
    "Learn how to implement multiple inheritance in Python. Create two base classes Person and Address, then inherit them into a new class Employee and add a new attribute job. Also add a method display_info() to display complete employee details.\n",
    "# Sample Input:\n",
    "emp1 = Employee(\"Sirisha\", 25, \"Delhi\", \"India\", \"Data Scientist\")\n",
    "emp1.display_info()\t\n",
    "\n",
    "# Expected Output:\n",
    "Employee: Sirisha,  Age: 25,  City: Delhi,  Country: India,  Job: Data Scientist\n"
   ]
  },
  {
   "cell_type": "code",
   "execution_count": null,
   "id": "6e577a12-0c26-494f-bedb-8dbb8377b449",
   "metadata": {},
   "outputs": [],
   "source": []
  }
 ],
 "metadata": {
  "kernelspec": {
   "display_name": "Python 3 (ipykernel)",
   "language": "python",
   "name": "python3"
  },
  "language_info": {
   "codemirror_mode": {
    "name": "ipython",
    "version": 3
   },
   "file_extension": ".py",
   "mimetype": "text/x-python",
   "name": "python",
   "nbconvert_exporter": "python",
   "pygments_lexer": "ipython3",
   "version": "3.12.7"
  }
 },
 "nbformat": 4,
 "nbformat_minor": 5
}
