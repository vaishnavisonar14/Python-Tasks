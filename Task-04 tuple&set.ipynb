{
 "cells": [
  {
   "cell_type": "markdown",
   "id": "36790416-f558-41a5-a793-c2d70df10b88",
   "metadata": {},
   "source": [
    "# Section 1: Sets:\n",
    "# 1.Create a Python set containing the first 10 even numbers {2, 4, 6,8,10}. Write a program to display this set.\n"
   ]
  },
  {
   "cell_type": "code",
   "execution_count": 4,
   "id": "b6d0d2d9-ba70-4960-a60f-87c1c5f751cf",
   "metadata": {},
   "outputs": [],
   "source": [
    "even_list = [2,4,6,8,10,12,14,16,18,20]"
   ]
  },
  {
   "cell_type": "code",
   "execution_count": 5,
   "id": "8e544a8d-c84c-468b-9a74-9fc76183e08c",
   "metadata": {},
   "outputs": [],
   "source": [
    "even_list = set(even_list)"
   ]
  },
  {
   "cell_type": "code",
   "execution_count": 6,
   "id": "82aca776-f33d-4ad7-8259-77e27d8fca26",
   "metadata": {},
   "outputs": [
    {
     "data": {
      "text/plain": [
       "{2, 4, 6, 8, 10, 12, 14, 16, 18, 20}"
      ]
     },
     "execution_count": 6,
     "metadata": {},
     "output_type": "execute_result"
    }
   ],
   "source": [
    "even_list"
   ]
  },
  {
   "cell_type": "markdown",
   "id": "81799576-f1ec-47e1-a8fb-d8266964334a",
   "metadata": {},
   "source": [
    "# 2.Set Operations Given two sets, write a Python program to find the union, intersection, and difference of these sets."
   ]
  },
  {
   "cell_type": "code",
   "execution_count": 7,
   "id": "b956b785-f846-4f50-950e-48fa00619394",
   "metadata": {},
   "outputs": [],
   "source": [
    "a = set([1,2,3,4,5])\n",
    "b = set([4,5,6,7,8])"
   ]
  },
  {
   "cell_type": "code",
   "execution_count": 8,
   "id": "1b616430-6930-477b-a8f2-43a9a0d8012f",
   "metadata": {},
   "outputs": [
    {
     "data": {
      "text/plain": [
       "{1, 2, 3, 4, 5, 6, 7, 8}"
      ]
     },
     "execution_count": 8,
     "metadata": {},
     "output_type": "execute_result"
    }
   ],
   "source": [
    "a.union(b)"
   ]
  },
  {
   "cell_type": "code",
   "execution_count": 9,
   "id": "6f6440e7-a39e-4d6a-8424-bb07eb4e1f01",
   "metadata": {},
   "outputs": [
    {
     "data": {
      "text/plain": [
       "{4, 5}"
      ]
     },
     "execution_count": 9,
     "metadata": {},
     "output_type": "execute_result"
    }
   ],
   "source": [
    "a.intersection(b)"
   ]
  },
  {
   "cell_type": "code",
   "execution_count": 10,
   "id": "6ca2849b-5ee9-4d07-9d89-2a945a2af679",
   "metadata": {},
   "outputs": [
    {
     "data": {
      "text/plain": [
       "{1, 2, 3}"
      ]
     },
     "execution_count": 10,
     "metadata": {},
     "output_type": "execute_result"
    }
   ],
   "source": [
    "a.difference(b)"
   ]
  },
  {
   "cell_type": "markdown",
   "id": "eda2389f-0b2f-4418-99bb-24e0d36737c5",
   "metadata": {},
   "source": [
    "# 3.Set Operations and Methods Write a Python program that takes a set of numbers and performs the following operations:\n"
   ]
  },
  {
   "cell_type": "code",
   "execution_count": 43,
   "id": "4c6f1da5-76c4-4471-9251-6141b46b98fc",
   "metadata": {},
   "outputs": [],
   "source": [
    "numbers = {2, 4, 6, 8, 10}"
   ]
  },
  {
   "cell_type": "markdown",
   "id": "47cc32a9-cec8-4828-ae9a-5f4ff2b668ac",
   "metadata": {},
   "source": [
    "# Add a new number to the set.\n"
   ]
  },
  {
   "cell_type": "code",
   "execution_count": 44,
   "id": "0fe33ed8-4769-4981-84e0-b3be4e451c72",
   "metadata": {},
   "outputs": [],
   "source": [
    "numbers.add(12)"
   ]
  },
  {
   "cell_type": "code",
   "execution_count": 45,
   "id": "3330cb42-8b98-40f8-8508-119964de03a3",
   "metadata": {},
   "outputs": [
    {
     "data": {
      "text/plain": [
       "{2, 4, 6, 8, 10, 12}"
      ]
     },
     "execution_count": 45,
     "metadata": {},
     "output_type": "execute_result"
    }
   ],
   "source": [
    "numbers"
   ]
  },
  {
   "cell_type": "markdown",
   "id": "63e65bb3-710f-4105-b1cf-a1e38d2a949b",
   "metadata": {},
   "source": [
    "# Remove a number from the set."
   ]
  },
  {
   "cell_type": "code",
   "execution_count": 46,
   "id": "7da7df1f-6484-43b9-ac89-b35d2afa7acc",
   "metadata": {},
   "outputs": [],
   "source": [
    "numbers.remove(6)"
   ]
  },
  {
   "cell_type": "code",
   "execution_count": 47,
   "id": "665ca5c1-fccc-48bf-9039-373a2a3a2f59",
   "metadata": {},
   "outputs": [
    {
     "data": {
      "text/plain": [
       "{2, 4, 8, 10, 12}"
      ]
     },
     "execution_count": 47,
     "metadata": {},
     "output_type": "execute_result"
    }
   ],
   "source": [
    "numbers"
   ]
  },
  {
   "cell_type": "markdown",
   "id": "c0d879e1-e4d3-4882-a848-0d07392642c5",
   "metadata": {},
   "source": [
    "# Check if a specific number is in the set."
   ]
  },
  {
   "cell_type": "code",
   "execution_count": 48,
   "id": "f2fcf2d3-b64a-4a3f-b09f-2e3bd0babf49",
   "metadata": {},
   "outputs": [
    {
     "name": "stdout",
     "output_type": "stream",
     "text": [
      "True\n"
     ]
    }
   ],
   "source": [
    "print(8 in numbers)"
   ]
  },
  {
   "cell_type": "markdown",
   "id": "5a267337-94fe-4ce0-9d2a-e2f7c2ebe995",
   "metadata": {},
   "source": [
    "# Find the size of the set.\n"
   ]
  },
  {
   "cell_type": "code",
   "execution_count": 49,
   "id": "dd857fde-847b-4267-ba70-8f64e12e85ed",
   "metadata": {},
   "outputs": [
    {
     "data": {
      "text/plain": [
       "5"
      ]
     },
     "execution_count": 49,
     "metadata": {},
     "output_type": "execute_result"
    }
   ],
   "source": [
    "len(numbers)"
   ]
  },
  {
   "cell_type": "markdown",
   "id": "3165bdd1-bf15-4cd5-955f-36c3c0fc6381",
   "metadata": {},
   "source": [
    "# 4.Set Operations with Lists Create a Python list with duplicate elements and convert it into a set to remove duplicates. Then, write a program to count # how many duplicates were removed.\n"
   ]
  },
  {
   "cell_type": "code",
   "execution_count": 51,
   "id": "2f8944cb-59a0-49db-968e-3c618e11bffc",
   "metadata": {},
   "outputs": [],
   "source": [
    "lst_duplicates = [1, 2, 3, 4, 5, 3, 2, 6, 7, 1, 8]"
   ]
  },
  {
   "cell_type": "code",
   "execution_count": 52,
   "id": "c2089690-f35e-4150-af77-8a901b8ebbda",
   "metadata": {},
   "outputs": [
    {
     "name": "stdout",
     "output_type": "stream",
     "text": [
      "Original list: [1, 2, 3, 4, 5, 3, 2, 6, 7, 1, 8]\n"
     ]
    }
   ],
   "source": [
    "print(\"Original list:\", lst_duplicates)"
   ]
  },
  {
   "cell_type": "code",
   "execution_count": 54,
   "id": "5f520675-0c58-4017-a8ab-1e1420f53814",
   "metadata": {},
   "outputs": [],
   "source": [
    "set_without_duplicates = set(lst_duplicates)"
   ]
  },
  {
   "cell_type": "code",
   "execution_count": 55,
   "id": "8001ccd6-29d9-4645-a7f7-b603dc72f6dd",
   "metadata": {},
   "outputs": [
    {
     "data": {
      "text/plain": [
       "{1, 2, 3, 4, 5, 6, 7, 8}"
      ]
     },
     "execution_count": 55,
     "metadata": {},
     "output_type": "execute_result"
    }
   ],
   "source": [
    "set_without_duplicates"
   ]
  },
  {
   "cell_type": "code",
   "execution_count": 56,
   "id": "ac6583ba-447d-4462-9126-b0e17a9727e0",
   "metadata": {},
   "outputs": [],
   "source": [
    "duplicates_removed = len(lst_duplicates) - len(set_without_duplicates)"
   ]
  },
  {
   "cell_type": "code",
   "execution_count": 57,
   "id": "fee50ea3-3d71-4186-99e5-3fa29f277e21",
   "metadata": {},
   "outputs": [
    {
     "data": {
      "text/plain": [
       "3"
      ]
     },
     "execution_count": 57,
     "metadata": {},
     "output_type": "execute_result"
    }
   ],
   "source": [
    "duplicates_removed"
   ]
  },
  {
   "cell_type": "markdown",
   "id": "75a83b71-fd87-4c74-9539-acfc4838a41f",
   "metadata": {},
   "source": [
    "# 5.Describe Set and properties of Set with examples\n"
   ]
  },
  {
   "cell_type": "raw",
   "id": "88ff4c5c-658a-4ead-abb4-d4d3839b63a5",
   "metadata": {},
   "source": [
    "SET:- set is a collection of unique elements and it does not allow duplicates.\n",
    "Properties:\n",
    "1.a set cannot contain duplicate elements\n",
    "ex: A = {1,2,3,,4,4,5,6} simplifies to \n",
    "    A= {1,2,3,4,5,6,}\n",
    "2. order dosent matter\n",
    "   1,2,3 is same as 3,2,1\n",
    "3. defined and well defined elements\n",
    "ex: A = apple,banan,mango\n",
    "4. finite and infinite sets a set with uncountable numbers and elements.\n",
    "    A=1,2,3,4,5,6,7\n",
    "    A= 1,2,3,4,5........\n",
    "5. a set is mutable \n",
    "6. Empty set a set no elements represented as {}\n",
    "Example:\n",
    "A = {1, 2, 3}\n",
    "A.add(4)  o/p A = {1, 2, 3, 4}\n",
    "A.remove(2)  o/p A = {1, 3, 4}\n",
    "# Union of two sets\n",
    "B = {3, 4, 5}\n",
    "C = A.union(B)  o/p C = {1, 3, 4, 5\n",
    "# Intersection of two sets\n",
    "D = A.intersection(B)  o/p D = {3, 4}"
   ]
  },
  {
   "cell_type": "markdown",
   "id": "bc2bce20-4be9-48c5-a2de-b2bd80d07435",
   "metadata": {},
   "source": [
    "# Section 2 - Tuples:\n",
    "\n",
    "# 1.Create a Python tuple containing the names of your favorite fruits. Write a Python program to print each fruit name from the tuple.\n"
   ]
  },
  {
   "cell_type": "code",
   "execution_count": 58,
   "id": "1fee76b7-91f5-4f69-a8cf-5e4630b2386e",
   "metadata": {},
   "outputs": [],
   "source": [
    "fev_fruits = (\"apple\", \"banana\", \"cherry\", \"mango\", \"orange\")"
   ]
  },
  {
   "cell_type": "code",
   "execution_count": 60,
   "id": "089c4849-0771-45e0-8ed1-d901bc81177a",
   "metadata": {},
   "outputs": [],
   "source": [
    "fr1,fr2,fr3,fr4,fr5 = fev_fruits"
   ]
  },
  {
   "cell_type": "code",
   "execution_count": 61,
   "id": "f7657ea9-0e46-46b1-93c7-019336db93d2",
   "metadata": {},
   "outputs": [
    {
     "data": {
      "text/plain": [
       "'apple'"
      ]
     },
     "execution_count": 61,
     "metadata": {},
     "output_type": "execute_result"
    }
   ],
   "source": [
    "fr1"
   ]
  },
  {
   "cell_type": "code",
   "execution_count": 62,
   "id": "a98d89f7-65a6-497b-9e25-efb657c1c07d",
   "metadata": {},
   "outputs": [
    {
     "data": {
      "text/plain": [
       "'banana'"
      ]
     },
     "execution_count": 62,
     "metadata": {},
     "output_type": "execute_result"
    }
   ],
   "source": [
    "fr2"
   ]
  },
  {
   "cell_type": "code",
   "execution_count": 63,
   "id": "4efe8daf-56ae-4580-9e7c-d34663bd77f8",
   "metadata": {},
   "outputs": [
    {
     "data": {
      "text/plain": [
       "'cherry'"
      ]
     },
     "execution_count": 63,
     "metadata": {},
     "output_type": "execute_result"
    }
   ],
   "source": [
    "fr3"
   ]
  },
  {
   "cell_type": "code",
   "execution_count": 64,
   "id": "7ca324ee-2a65-46ab-b255-28bb57fea7bc",
   "metadata": {},
   "outputs": [
    {
     "data": {
      "text/plain": [
       "'mango'"
      ]
     },
     "execution_count": 64,
     "metadata": {},
     "output_type": "execute_result"
    }
   ],
   "source": [
    "fr4"
   ]
  },
  {
   "cell_type": "code",
   "execution_count": 65,
   "id": "bc8c547e-3722-4cbc-9145-0e89bc6ef28f",
   "metadata": {},
   "outputs": [
    {
     "data": {
      "text/plain": [
       "'orange'"
      ]
     },
     "execution_count": 65,
     "metadata": {},
     "output_type": "execute_result"
    }
   ],
   "source": [
    "fr5"
   ]
  },
  {
   "cell_type": "markdown",
   "id": "00fd97f3-2523-4f12-b522-348d4cdfb836",
   "metadata": {},
   "source": [
    "# 2. Operations Given two tuples, write a Python program to concatenate them into a single tuple and then find the length of the resulting tuple.\n"
   ]
  },
  {
   "cell_type": "code",
   "execution_count": 66,
   "id": "7b876158-c1cb-4332-841f-16ccdf744a6b",
   "metadata": {},
   "outputs": [],
   "source": [
    "a = (1,2,3,4,)\n",
    "b = (5,6,7,8,9)"
   ]
  },
  {
   "cell_type": "code",
   "execution_count": 67,
   "id": "47c18ae0-6761-4565-8488-8c650cce3da8",
   "metadata": {},
   "outputs": [],
   "source": [
    "a = list(a)\n",
    "b = list(b)"
   ]
  },
  {
   "cell_type": "code",
   "execution_count": 68,
   "id": "788b2484-c409-43c7-a7ff-b2ccb717e81e",
   "metadata": {},
   "outputs": [
    {
     "data": {
      "text/plain": [
       "[1, 2, 3, 4]"
      ]
     },
     "execution_count": 68,
     "metadata": {},
     "output_type": "execute_result"
    }
   ],
   "source": [
    "a"
   ]
  },
  {
   "cell_type": "code",
   "execution_count": 69,
   "id": "da8e2f87-2a58-4b84-8548-59de2b797909",
   "metadata": {},
   "outputs": [
    {
     "data": {
      "text/plain": [
       "[5, 6, 7, 8, 9]"
      ]
     },
     "execution_count": 69,
     "metadata": {},
     "output_type": "execute_result"
    }
   ],
   "source": [
    "b"
   ]
  },
  {
   "cell_type": "code",
   "execution_count": 70,
   "id": "3c490076-89b9-4594-83ff-1271d18b8995",
   "metadata": {},
   "outputs": [],
   "source": [
    "a.extend(b)"
   ]
  },
  {
   "cell_type": "code",
   "execution_count": 71,
   "id": "22109663-52c6-4700-be25-e7d388a9df9a",
   "metadata": {},
   "outputs": [
    {
     "data": {
      "text/plain": [
       "[1, 2, 3, 4, 5, 6, 7, 8, 9]"
      ]
     },
     "execution_count": 71,
     "metadata": {},
     "output_type": "execute_result"
    }
   ],
   "source": [
    "a"
   ]
  },
  {
   "cell_type": "code",
   "execution_count": 72,
   "id": "62d6362a-8759-4086-9f35-c969ea503c82",
   "metadata": {},
   "outputs": [
    {
     "data": {
      "text/plain": [
       "9"
      ]
     },
     "execution_count": 72,
     "metadata": {},
     "output_type": "execute_result"
    }
   ],
   "source": [
    "len(a)"
   ]
  },
  {
   "cell_type": "code",
   "execution_count": 73,
   "id": "1625ffa4-baca-4109-9067-be1123f0a091",
   "metadata": {},
   "outputs": [],
   "source": [
    "a = tuple(a)"
   ]
  },
  {
   "cell_type": "code",
   "execution_count": 77,
   "id": "3932c4c2-c92f-4c5f-a9a0-6a92812107f9",
   "metadata": {},
   "outputs": [
    {
     "data": {
      "text/plain": [
       "(1, 2, 3, 4, 5, 6, 7, 8, 9)"
      ]
     },
     "execution_count": 77,
     "metadata": {},
     "output_type": "execute_result"
    }
   ],
   "source": [
    "a"
   ]
  },
  {
   "cell_type": "code",
   "execution_count": 78,
   "id": "f3fd6438-0247-4da3-bb6c-cd7e51e472dd",
   "metadata": {},
   "outputs": [
    {
     "data": {
      "text/plain": [
       "9"
      ]
     },
     "execution_count": 78,
     "metadata": {},
     "output_type": "execute_result"
    }
   ],
   "source": [
    "len(a)"
   ]
  },
  {
   "cell_type": "markdown",
   "id": "f78b8b30-67cc-4494-931a-a4bb2eb091a8",
   "metadata": {},
   "source": [
    "# 4.Tuple and Set Conversion Write a Python program that takes a tuple of integers and converts it into a set. Then, find and print the maximum and minimum value from the set.\n"
   ]
  },
  {
   "cell_type": "code",
   "execution_count": 88,
   "id": "5827dcf5-dc69-4801-8864-f98b5997b83c",
   "metadata": {},
   "outputs": [],
   "source": [
    "tup = (10,34,20,23,32,35,15,10)"
   ]
  },
  {
   "cell_type": "code",
   "execution_count": 89,
   "id": "93f51fc1-c1e5-4072-aaf9-7c89b0fbba7a",
   "metadata": {},
   "outputs": [
    {
     "data": {
      "text/plain": [
       "(10, 34, 20, 23, 32, 35, 15, 10)"
      ]
     },
     "execution_count": 89,
     "metadata": {},
     "output_type": "execute_result"
    }
   ],
   "source": [
    "tup"
   ]
  },
  {
   "cell_type": "code",
   "execution_count": 90,
   "id": "4fb86ea8-83fc-44f5-99ad-7d4f1bc79828",
   "metadata": {},
   "outputs": [],
   "source": [
    "set1= set(tup)"
   ]
  },
  {
   "cell_type": "code",
   "execution_count": 91,
   "id": "6b3f2153-c4d8-406a-b565-4513162a1e0b",
   "metadata": {},
   "outputs": [
    {
     "data": {
      "text/plain": [
       "{10, 15, 20, 23, 32, 34, 35}"
      ]
     },
     "execution_count": 91,
     "metadata": {},
     "output_type": "execute_result"
    }
   ],
   "source": [
    "set1"
   ]
  },
  {
   "cell_type": "code",
   "execution_count": 93,
   "id": "aa6ad5fc-348a-4981-ba18-c197ceefef05",
   "metadata": {},
   "outputs": [
    {
     "data": {
      "text/plain": [
       "35"
      ]
     },
     "execution_count": 93,
     "metadata": {},
     "output_type": "execute_result"
    }
   ],
   "source": [
    "max(set1)"
   ]
  },
  {
   "cell_type": "code",
   "execution_count": 94,
   "id": "f24e4156-5f33-4e25-8f5c-4bdea413b385",
   "metadata": {},
   "outputs": [
    {
     "data": {
      "text/plain": [
       "10"
      ]
     },
     "execution_count": 94,
     "metadata": {},
     "output_type": "execute_result"
    }
   ],
   "source": [
    "min(set1)"
   ]
  },
  {
   "cell_type": "markdown",
   "id": "e501cbad-a51b-4916-bb6f-4ea2dc7f7f43",
   "metadata": {},
   "source": [
    "# 5.Tuple Immutability Explain the concept of immutability in Python tuples with examples. Discuss why tuples are considered immutable data structures.\n"
   ]
  },
  {
   "cell_type": "raw",
   "id": "7a9aa676-d769-45cd-8080-900d1ce5b66a",
   "metadata": {},
   "source": [
    "Tuples in Python are immutable data structures, meaning once a tuple is created, its contents cannot be changed. This immutability makes tuples useful for certain use cases where the integrity of the data needs to be preserved."
   ]
  },
  {
   "cell_type": "raw",
   "id": "f54df8fa-20d9-4169-b889-71798c776375",
   "metadata": {},
   "source": [
    "Tuples are considered immutable because:\n",
    "\n",
    "No modification: You cannot change, add, or remove elements in a tuple after it is created.\n",
    "\n",
    "Efficiency: Tuples are more memory efficient than lists. Since they cannot be changed, Python can optimize memory usage and performance when handling tuples.\n",
    "\n",
    "Hashable: Because tuples are immutable, they can be used as keys in dictionaries, whereas lists (which are mutable) cannot be used as dictionary keys."
   ]
  },
  {
   "cell_type": "markdown",
   "id": "e9a49e78-eb47-4817-91d7-027aa26ebd64",
   "metadata": {},
   "source": [
    "# 5.Tuple Slicing Given a tuple of 10 elements, write a Python program to print the elements from the 3rd to the 7th position using slicing"
   ]
  },
  {
   "cell_type": "code",
   "execution_count": 97,
   "id": "6fe99659-fd9b-4823-bdf3-4a6e22078853",
   "metadata": {},
   "outputs": [],
   "source": [
    "elements = (12,13,14,15,16,17,18,19,20,21,22,23,24,25)"
   ]
  },
  {
   "cell_type": "code",
   "execution_count": 98,
   "id": "90800d3f-c0a2-4df4-b3c1-be18283ccb9d",
   "metadata": {},
   "outputs": [
    {
     "data": {
      "text/plain": [
       "(12, 13, 14, 15, 16, 17, 18, 19, 20, 21, 22, 23, 24, 25)"
      ]
     },
     "execution_count": 98,
     "metadata": {},
     "output_type": "execute_result"
    }
   ],
   "source": [
    "elements"
   ]
  },
  {
   "cell_type": "code",
   "execution_count": 99,
   "id": "d25b6e2e-016c-4295-a3b1-f7593a8ad32c",
   "metadata": {},
   "outputs": [
    {
     "data": {
      "text/plain": [
       "(15, 16, 17, 18, 19)"
      ]
     },
     "execution_count": 99,
     "metadata": {},
     "output_type": "execute_result"
    }
   ],
   "source": [
    "elements[3:8]"
   ]
  },
  {
   "cell_type": "markdown",
   "id": "80e54b14-d774-4379-9d79-5ed394b68e69",
   "metadata": {},
   "source": [
    "# 6.Tuple and Set Combinations Create a tuple containing the names of your friend's favorite movies and a set containing the names of your favorite movies. Write a Python program to find and display common elements\n"
   ]
  },
  {
   "cell_type": "code",
   "execution_count": 109,
   "id": "3f4c79a8-11ca-45d5-8e41-725c82d44bac",
   "metadata": {},
   "outputs": [],
   "source": [
    "frnds_movies = (\"taarezaminpar\", \"avtar\",\"kgf\",\"pushpa\",\"vivah\",\"fida\")\n",
    "my_movies = {\"vivah\",\"taarezaminpar\", \"fida\", \"ramayavastavaiya\",\"kgf2\",\"sanam teri kasam\"}"
   ]
  },
  {
   "cell_type": "code",
   "execution_count": 110,
   "id": "1afbf0ab-9703-44cf-a3ef-d27e1d2f9a3d",
   "metadata": {},
   "outputs": [],
   "source": [
    "common_movies = set(frnds_movies) & my_movies "
   ]
  },
  {
   "cell_type": "code",
   "execution_count": 111,
   "id": "61e62ae9-c536-420d-82b1-9b7f04bc6a18",
   "metadata": {},
   "outputs": [
    {
     "data": {
      "text/plain": [
       "{'fida', 'taarezaminpar', 'vivah'}"
      ]
     },
     "execution_count": 111,
     "metadata": {},
     "output_type": "execute_result"
    }
   ],
   "source": [
    "common_movies"
   ]
  },
  {
   "cell_type": "markdown",
   "id": "bc603627-ac6d-49f8-a439-967808225521",
   "metadata": {},
   "source": [
    "# 7.tup=(1,2,3,2,4,5,3,4,2). Count the occurrences of element ‘2’ in the given tuple.\n"
   ]
  },
  {
   "cell_type": "code",
   "execution_count": 112,
   "id": "02deb229-34bc-472a-b9fd-1dd8f90a4fa1",
   "metadata": {},
   "outputs": [],
   "source": [
    "tup=(1,2,3,2,4,5,3,4,2)"
   ]
  },
  {
   "cell_type": "code",
   "execution_count": 113,
   "id": "3e6e73bc-1968-425c-bbe2-27ef34bba86e",
   "metadata": {},
   "outputs": [
    {
     "data": {
      "text/plain": [
       "(1, 2, 3, 2, 4, 5, 3, 4, 2)"
      ]
     },
     "execution_count": 113,
     "metadata": {},
     "output_type": "execute_result"
    }
   ],
   "source": [
    "tup"
   ]
  },
  {
   "cell_type": "code",
   "execution_count": 114,
   "id": "d4362119-fe20-4010-8ec6-c49070fa8df0",
   "metadata": {},
   "outputs": [
    {
     "data": {
      "text/plain": [
       "3"
      ]
     },
     "execution_count": 114,
     "metadata": {},
     "output_type": "execute_result"
    }
   ],
   "source": [
    "tup.count(2)"
   ]
  },
  {
   "cell_type": "markdown",
   "id": "c6662437-3ada-419c-872a-34e9be9835ef",
   "metadata": {},
   "source": [
    "# 8.Access value 20 from the tuple, tuple1 = (\"Orange\", [10, 20, 30], (5, 15, 25))\n"
   ]
  },
  {
   "cell_type": "code",
   "execution_count": 117,
   "id": "a07efe69-f297-473f-9527-047ced59d5a1",
   "metadata": {},
   "outputs": [],
   "source": [
    "tuple1 = (\"Orange\", [10, 20, 30], (5, 15, 25))\n"
   ]
  },
  {
   "cell_type": "code",
   "execution_count": 119,
   "id": "538c7299-eff9-45f8-b440-7596e46053b1",
   "metadata": {},
   "outputs": [],
   "source": [
    "value = tuple1[1][1]"
   ]
  },
  {
   "cell_type": "code",
   "execution_count": 120,
   "id": "4a7afbd3-31d0-4725-827a-d4d31c17c925",
   "metadata": {},
   "outputs": [
    {
     "data": {
      "text/plain": [
       "20"
      ]
     },
     "execution_count": 120,
     "metadata": {},
     "output_type": "execute_result"
    }
   ],
   "source": [
    "value"
   ]
  },
  {
   "cell_type": "markdown",
   "id": "61bb703e-1b1a-4604-89a7-f84f813f68c5",
   "metadata": {},
   "source": [
    "# 9.Create a dictionary with key-value pairs for a person's name and age.\n",
    "Add a new key-value pair \"city\" with the value \"Delhi\" to the person dictionary.\n",
    "Remove the key-value pair with the key \"age\" from the person dictionary.\n",
    "Sort the person's dictionary by its keys.\n"
   ]
  },
  {
   "cell_type": "code",
   "execution_count": 122,
   "id": "9706ed17-c5ed-47ba-80fc-2dc300fa6b9d",
   "metadata": {},
   "outputs": [],
   "source": [
    "name = {\"name\": \"vaish\",\n",
    "    \"age\": 22}"
   ]
  },
  {
   "cell_type": "code",
   "execution_count": 123,
   "id": "cc9dce04-8d6f-41d3-91c0-fd785b2fc060",
   "metadata": {},
   "outputs": [],
   "source": [
    "name[\"city\"] =\"bas\""
   ]
  },
  {
   "cell_type": "code",
   "execution_count": 125,
   "id": "a8229fd4-dc2d-4190-8627-84ac514bf597",
   "metadata": {},
   "outputs": [],
   "source": [
    "del name[\"age\"]"
   ]
  },
  {
   "cell_type": "code",
   "execution_count": 126,
   "id": "dfc664ea-5578-4cfa-9082-d47ca99c49fc",
   "metadata": {},
   "outputs": [],
   "source": [
    "sorted_person = dict(sorted(name.items()))\n"
   ]
  },
  {
   "cell_type": "code",
   "execution_count": 127,
   "id": "6eea8d30-a4df-4b63-b88f-a4a4327e0da7",
   "metadata": {},
   "outputs": [
    {
     "data": {
      "text/plain": [
       "{'city': 'Delhi', 'name': 'John'}"
      ]
     },
     "execution_count": 127,
     "metadata": {},
     "output_type": "execute_result"
    }
   ],
   "source": [
    "sorted_person"
   ]
  },
  {
   "cell_type": "code",
   "execution_count": null,
   "id": "e28da5bb-4f55-4360-b9d8-a0bd96119594",
   "metadata": {},
   "outputs": [],
   "source": []
  }
 ],
 "metadata": {
  "kernelspec": {
   "display_name": "Python 3 (ipykernel)",
   "language": "python",
   "name": "python3"
  },
  "language_info": {
   "codemirror_mode": {
    "name": "ipython",
    "version": 3
   },
   "file_extension": ".py",
   "mimetype": "text/x-python",
   "name": "python",
   "nbconvert_exporter": "python",
   "pygments_lexer": "ipython3",
   "version": "3.12.7"
  }
 },
 "nbformat": 4,
 "nbformat_minor": 5
}
