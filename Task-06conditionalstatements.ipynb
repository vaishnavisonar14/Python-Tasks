{
 "cells": [
  {
   "cell_type": "markdown",
   "id": "07b45124-1cb8-4ed1-bd6e-1297b1a845e8",
   "metadata": {},
   "source": [
    "# Python Task: Conditional Statements\n"
   ]
  },
  {
   "cell_type": "markdown",
   "id": "2ee46f46-cf0e-4002-a4d4-a184a63a7a7d",
   "metadata": {},
   "source": [
    "# Section 1: Conditional Statements\n",
    "# 1. Write a Python program that accepts an integer from the user and determines whether it is a multiple of 3. Use an if-else statement to display the result.\n",
    "# Input1:\n",
    "Enter a number: 9\n",
    "# Output1:\n",
    "9 is a multiple of 3.\n",
    "# Input2:\n",
    "Enter a number: 7\n",
    "# Output2:\n",
    "7 is not a multiple of 3.\n"
   ]
  },
  {
   "cell_type": "code",
   "execution_count": 3,
   "id": "98717f62-3278-49ac-81c3-8f840566ab61",
   "metadata": {},
   "outputs": [
    {
     "name": "stdin",
     "output_type": "stream",
     "text": [
      "Enter a number:  9\n"
     ]
    },
    {
     "name": "stdout",
     "output_type": "stream",
     "text": [
      "9 is a multiple of 3.\n"
     ]
    }
   ],
   "source": [
    "num = int(input(\"Enter a number: \"))\n",
    "if num % 3 == 0:\n",
    "    print(f\"{num} is a multiple of 3.\")\n",
    "else:\n",
    "    print(f\"{num} is not a multiple of 3.\")"
   ]
  },
  {
   "cell_type": "code",
   "execution_count": 4,
   "id": "1a793f34-12a3-4fd1-bec9-7481efacd8bc",
   "metadata": {},
   "outputs": [
    {
     "name": "stdin",
     "output_type": "stream",
     "text": [
      "Enter a number:  7\n"
     ]
    },
    {
     "name": "stdout",
     "output_type": "stream",
     "text": [
      "7 is not a multiple of 3.\n"
     ]
    }
   ],
   "source": [
    "num = int(input(\"Enter a number: \"))\n",
    "if num % 3 == 0:\n",
    "    print(f\"{num} is a multiple of 3.\")\n",
    "else:\n",
    "    print(f\"{num} is not a multiple of 3.\")\n"
   ]
  },
  {
   "cell_type": "markdown",
   "id": "d7ca4901-f19e-4399-b5f3-5c09f7d2bd77",
   "metadata": {},
   "source": [
    "# 2. Create a program that asks the user to enter their age and nationality. Based on the input, use nested if statements to display a customized message, such as identifying if the user is a minor from a specific country.\n",
    "# Input:\n",
    "Enter your age: 16\n",
    "Enter your nationality: India\n",
    "# Output:\n",
    "You are a minor from the India.\n"
   ]
  },
  {
   "cell_type": "code",
   "execution_count": 6,
   "id": "77398ecd-02b8-4983-ba8f-2d237692b360",
   "metadata": {},
   "outputs": [
    {
     "name": "stdin",
     "output_type": "stream",
     "text": [
      "Enter your age:  17\n",
      "Enter your nationality:  india\n"
     ]
    },
    {
     "name": "stdout",
     "output_type": "stream",
     "text": [
      "You are a minor from india.\n"
     ]
    }
   ],
   "source": [
    "age = int(input(\"Enter your age: \"))\n",
    "nationality = input(\"Enter your nationality: \")\n",
    "if age < 18:\n",
    "    print(f\"You are a minor from {nationality}.\")\n",
    "else:\n",
    "    print(f\"You are an adult from {nationality}.\")"
   ]
  },
  {
   "cell_type": "markdown",
   "id": "5eb5f860-92d9-437c-842c-021ba6830063",
   "metadata": {},
   "source": [
    "# 3. Develop a program that converts a student's numeric score into a letter grade based on a predefined grading scale (A, B, C, D, F). Use if-elif-else conditions to determine the corresponding grade.\n",
    "# Input:\n",
    "Enter the student's score: 85\n",
    "# Output:\n",
    "Grade: B\n"
   ]
  },
  {
   "cell_type": "code",
   "execution_count": 7,
   "id": "84ed0300-50b0-4f96-8364-e51a30dae1cb",
   "metadata": {},
   "outputs": [
    {
     "name": "stdin",
     "output_type": "stream",
     "text": [
      "Enter the student's score:  85\n"
     ]
    },
    {
     "name": "stdout",
     "output_type": "stream",
     "text": [
      "Grade: B\n"
     ]
    }
   ],
   "source": [
    "score = int(input(\"Enter the student's score: \"))\n",
    "if score >= 90:\n",
    "    grade = \"A\"\n",
    "elif score >= 80:\n",
    "    grade = \"B\"\n",
    "elif score >= 70:\n",
    "    grade = \"C\"\n",
    "elif score >= 60:\n",
    "    grade = \"D\"\n",
    "else:\n",
    "    grade = \"F\"\n",
    "print(f\"Grade: {grade}\")"
   ]
  },
  {
   "cell_type": "markdown",
   "id": "b1c5131f-6b6e-49f9-a3a5-ff2f000c6dbe",
   "metadata": {},
   "source": [
    "# 4. Write a Python script that checks if a given year is a leap year. The program should consider the rules for leap years: divisible by 4, not divisible by 100 unless also divisible by 400.\n",
    "# Input1:\n",
    "Enter a year: 2024\n",
    "# Output1:\n",
    "2024 is a leap year.\n",
    "# Input2:\n",
    "Enter a year: 2023\n",
    "# Output2:\n",
    "2023 is not a leap year.\n"
   ]
  },
  {
   "cell_type": "code",
   "execution_count": 8,
   "id": "69b3ddcf-cfbd-46e3-82fd-4674561769fa",
   "metadata": {},
   "outputs": [
    {
     "name": "stdin",
     "output_type": "stream",
     "text": [
      "Enter a year:  2024\n"
     ]
    },
    {
     "name": "stdout",
     "output_type": "stream",
     "text": [
      "2024 is a leap year.\n"
     ]
    }
   ],
   "source": [
    "year = int(input(\"Enter a year: \"))\n",
    "if (year % 4 == 0 and year % 100 != 0) or (year % 400 == 0):\n",
    "    print(f\"{year} is a leap year.\")\n",
    "else:\n",
    "    print(f\"{year} is not a leap year.\")"
   ]
  },
  {
   "cell_type": "code",
   "execution_count": 9,
   "id": "32567ca3-144f-4876-bc79-5b4163fd453a",
   "metadata": {},
   "outputs": [
    {
     "name": "stdin",
     "output_type": "stream",
     "text": [
      "Enter a year:  2023\n"
     ]
    },
    {
     "name": "stdout",
     "output_type": "stream",
     "text": [
      "2023 is not a leap year.\n"
     ]
    }
   ],
   "source": [
    "year = int(input(\"Enter a year: \"))\n",
    "if (year % 4 == 0 and year % 100 != 0) or (year % 400 == 0):\n",
    "    print(f\"{year} is a leap year.\")\n",
    "else:\n",
    "    print(f\"{year} is not a leap year.\")"
   ]
  },
  {
   "cell_type": "markdown",
   "id": "6d6a1649-2c4c-4d09-9f88-a61137da7af1",
   "metadata": {},
   "source": [
    "# 5. Create a BMI calculator that accepts a person's height (in meters) and weight (in kilograms), calculates the BMI, and categorizes it as Underweight, Normal, Overweight, or Obese using predefined thresholds.\n",
    "# Input:\n",
    "Enter weight (kg): 70\n",
    "Enter height (m): 1.75\n",
    "# Output:\n",
    "Your BMI is 22.9 - Normal weight.\n"
   ]
  },
  {
   "cell_type": "code",
   "execution_count": 10,
   "id": "bb9e8a91-c77c-4b7e-87be-3d1feabab86e",
   "metadata": {},
   "outputs": [
    {
     "name": "stdin",
     "output_type": "stream",
     "text": [
      "Enter weight (kg):  70\n",
      "Enter height (m):  1.75\n"
     ]
    },
    {
     "name": "stdout",
     "output_type": "stream",
     "text": [
      "Your BMI is 22.9 - Normal weight.\n"
     ]
    }
   ],
   "source": [
    "weight = float(input(\"Enter weight (kg): \"))\n",
    "height = float(input(\"Enter height (m): \"))\n",
    "bmi = weight / (height ** 2)\n",
    "if bmi < 18.5:\n",
    "    category = \"Underweight\"\n",
    "elif 18.5 <= bmi < 24.9:\n",
    "    category = \"Normal weight\"\n",
    "elif 25 <= bmi < 29.9:\n",
    "    category = \"Overweight\"\n",
    "else:\n",
    "    category = \"Obese\"\n",
    "print(f\"Your BMI is {bmi:.1f} - {category}.\")"
   ]
  },
  {
   "cell_type": "markdown",
   "id": "b6324a27-c0c7-44bd-b818-2e333d31f0b2",
   "metadata": {},
   "source": [
    "# 6. Build a program that presents a menu for basic arithmetic operations (addition, subtraction, multiplication, and division). The user should enter two numbers and choose an operation, after which the program will display the computed result.\n",
    "# Input:\n",
    "Select operation:\n",
    "1. Addition\n",
    "2. Subtraction\n",
    "3. Multiplication\n",
    "4. Division\n",
    "Enter choice (1/2/3/4): 3\n",
    "Enter first number: 6\n",
    "Enter second number: 4\n",
    "# Output:\n",
    "Result: 6 * 4 = 24\n"
   ]
  },
  {
   "cell_type": "code",
   "execution_count": 11,
   "id": "f5ada160-05ee-4c22-826b-0a3c6dcf09b0",
   "metadata": {},
   "outputs": [
    {
     "name": "stdout",
     "output_type": "stream",
     "text": [
      "Select operation:\n",
      "1. Addition\n",
      "2. Subtraction\n",
      "3. Multiplication\n",
      "4. Division\n"
     ]
    }
   ],
   "source": [
    "print(\"Select operation:\")\n",
    "print(\"1. Addition\")\n",
    "print(\"2. Subtraction\")\n",
    "print(\"3. Multiplication\")\n",
    "print(\"4. Division\")\n"
   ]
  },
  {
   "cell_type": "code",
   "execution_count": 13,
   "id": "30836165-7ed9-4db9-b5f2-c1fd87e10cb9",
   "metadata": {},
   "outputs": [
    {
     "name": "stdin",
     "output_type": "stream",
     "text": [
      "Enter choice (1/2/3/4):  3\n",
      "Enter first number:  6\n",
      "Enter second number:  4\n"
     ]
    },
    {
     "name": "stdout",
     "output_type": "stream",
     "text": [
      "Result: 6 * 4 = 24\n"
     ]
    }
   ],
   "source": [
    "choice = input(\"Enter choice (1/2/3/4): \")\n",
    "num1 = int(input(\"Enter first number: \"))\n",
    "num2 = int(input(\"Enter second number: \"))\n",
    "if choice == '1':\n",
    "    result = num1 + num2\n",
    "    operation = \"+\"\n",
    "elif choice == '2':\n",
    "    result = num1 - num2\n",
    "    operation = \"-\"\n",
    "elif choice == '3':\n",
    "    result = num1 * num2\n",
    "    operation = \"*\"\n",
    "elif choice == '4':\n",
    "    if num2 != 0:\n",
    "        result = num1 / num2\n",
    "        operation = \"/\"\n",
    "    else:\n",
    "        print(\"Error: Division by zero is not allowed.\")\n",
    "        exit()\n",
    "else:\n",
    "    print(\"Invalid choice! Please enter 1, 2, 3, or 4.\")\n",
    "    exit()\n",
    "print(f\"Result: {num1} {operation} {num2} = {result}\")\n"
   ]
  },
  {
   "cell_type": "markdown",
   "id": "beb16cc6-0008-4258-b5a0-ebdf3c8b6fb5",
   "metadata": {},
   "source": [
    "# 7. Develop a program that allows users to convert temperatures between Celsius and Fahrenheit. The user should specify the conversion direction and input a temperature value to receive the converted result.\n",
    "# Input:\n",
    "Choose conversion:\n",
    "1. Celsius to Fahrenheit\n",
    "2. Fahrenheit to Celsius\n",
    "Enter choice (1/2): 1\n",
    "Enter temperature in Celsius: 25\n",
    "# Output:\n",
    "25°C is equal to 77°F.\n"
   ]
  },
  {
   "cell_type": "code",
   "execution_count": 15,
   "id": "3aa3f7a8-d991-4a9f-9cbc-6da5de6965fd",
   "metadata": {},
   "outputs": [
    {
     "name": "stdout",
     "output_type": "stream",
     "text": [
      "Choose conversion:\n",
      "1. Celsius to Fahrenheit\n",
      "2. Fahrenheit to Celsius\n"
     ]
    },
    {
     "name": "stdin",
     "output_type": "stream",
     "text": [
      "Enter choice (1/2):  1\n",
      "Enter temperature in Celsius:  25\n"
     ]
    },
    {
     "name": "stdout",
     "output_type": "stream",
     "text": [
      "25°C is equal to 77.0°F.\n"
     ]
    }
   ],
   "source": [
    "print(\"Choose conversion:\")\n",
    "print(\"1. Celsius to Fahrenheit\")\n",
    "print(\"2. Fahrenheit to Celsius\")\n",
    "choice = input(\"Enter choice (1/2): \")\n",
    "if choice == '1':\n",
    "    celsius = int(input(\"Enter temperature in Celsius: \"))\n",
    "    fahrenheit = (celsius * 9/5) + 32\n",
    "    print(f\"{celsius}°C is equal to {fahrenheit:.1f}°F.\")\n",
    "elif choice == '2':\n",
    "    fahrenheit = int(input(\"Enter temperature in Fahrenheit: \"))\n",
    "    celsius = (fahrenheit - 32) * 5/9\n",
    "    print(f\"{fahrenheit}°F is equal to {celsius:.1f}°C.\")\n",
    "else:\n",
    "    print(\"Invalid choice! Please enter 1 or 2.\")"
   ]
  },
  {
   "cell_type": "markdown",
   "id": "72d39538-0d43-422d-9aa2-f3d7d58376f0",
   "metadata": {},
   "source": [
    "# 8. Write a Python program that takes a user-inputted password and evaluates its strength based on the presence of uppercase letters, lowercase letters, numbers, and special characters.\n",
    "# Input1:\n",
    "Enter your password: StrongPass123!\n",
    "# Output1:\n",
    "Password Strength: Strong\n",
    "# Input2:\n",
    "Enter your password: weakpass\n",
    "# Output2:\n",
    "Password Strength: Weak\n"
   ]
  },
  {
   "cell_type": "code",
   "execution_count": 17,
   "id": "81b4aa0d-d3c4-4326-ab77-f9363bb147b4",
   "metadata": {},
   "outputs": [
    {
     "name": "stdin",
     "output_type": "stream",
     "text": [
      "Enter your password:  StrongPass123!\n"
     ]
    },
    {
     "name": "stdout",
     "output_type": "stream",
     "text": [
      "Password Strength: Strong\n"
     ]
    }
   ],
   "source": [
    "import re\n",
    "password = input(\"Enter your password: \")\n",
    "# Define criteria for password strength\n",
    "has_upper = any(char.isupper() for char in password)\n",
    "has_lower = any(char.islower() for char in password)\n",
    "has_digit = any(char.isdigit() for char in password)\n",
    "has_special = bool(re.search(r\"[!@#$%^&*(),.?\\\":{}|<>]\", password))\n",
    "length = len(password)\n",
    "if length >= 8 and has_upper and has_lower and has_digit and has_special:\n",
    "    strength = \"Strong\"\n",
    "elif length >= 6 and ((has_upper and has_lower) or (has_digit and has_special)):\n",
    "    strength = \"Moderate\"\n",
    "else:\n",
    "    strength = \"Weak\"\n",
    "print(f\"Password Strength: {strength}\")"
   ]
  },
  {
   "cell_type": "code",
   "execution_count": 19,
   "id": "3dc99621-e601-4cc3-a05f-7ff07ff9f84e",
   "metadata": {},
   "outputs": [
    {
     "name": "stdin",
     "output_type": "stream",
     "text": [
      "Enter your password:  weakpass\n"
     ]
    },
    {
     "name": "stdout",
     "output_type": "stream",
     "text": [
      "Password Strength: Weak\n"
     ]
    }
   ],
   "source": [
    "import re\n",
    "password = input(\"Enter your password: \")\n",
    "# Define criteria for password strength\n",
    "has_upper = any(char.isupper() for char in password)\n",
    "has_lower = any(char.islower() for char in password)\n",
    "has_digit = any(char.isdigit() for char in password)\n",
    "has_special = bool(re.search(r\"[!@#$%^&*(),.?\\\":{}|<>]\", password))\n",
    "length = len(password)\n",
    "if length >= 8 and has_upper and has_lower and has_digit and has_special:\n",
    "    strength = \"Strong\"\n",
    "elif length >= 6 and ((has_upper and has_lower) or (has_digit and has_special)):\n",
    "    strength = \"Moderate\"\n",
    "else:\n",
    "    strength = \"Weak\"\n",
    "print(f\"Password Strength: {strength}\")"
   ]
  },
  {
   "cell_type": "markdown",
   "id": "3f648bf5-d4bc-44fc-8693-38cd5baf5990",
   "metadata": {},
   "source": [
    "# 9. Create a Python program that simulates an inventory management system. The system should allow the user to add items, update their quantity, remove items, and display the inventory using a dictiona\n",
    "# Input : \n",
    "\n",
    "Choose an operation:\n",
    "1. Add Item\n",
    "2. Update Quantity\n",
    "3. Remove Item\n",
    "4. Display Inventory\n",
    "\n",
    "Enter your choice: 1\n",
    "Enter item name: Laptop\n",
    "Enter quantity: 5\n",
    "\n",
    "\n",
    "\n"
   ]
  },
  {
   "cell_type": "code",
   "execution_count": null,
   "id": "4ffafdb6-0d02-4f35-af59-d91bec6d31ba",
   "metadata": {},
   "outputs": [
    {
     "name": "stdin",
     "output_type": "stream",
     "text": [
      "\n",
      "1. Add\n",
      "2. Update\n",
      "3. Remove\n",
      "4. Display\n",
      "5. Exit\n",
      "Enter choice:  1\n",
      "Item:  Laptop\n",
      "Quantity:  5\n",
      "\n",
      "1. Add\n",
      "2. Update\n",
      "3. Remove\n",
      "4. Display\n",
      "5. Exit\n",
      "Enter choice:  2\n",
      "Item:  computer\n"
     ]
    },
    {
     "name": "stdout",
     "output_type": "stream",
     "text": [
      "Item not found!\n"
     ]
    }
   ],
   "source": [
    "inventory = {}\n",
    "while True:\n",
    "    choice = input(\"\\n1. Add\\n2. Update\\n3. Remove\\n4. Display\\n5. Exit\\nEnter choice: \")\n",
    "    if choice == '1':\n",
    "        item, qty = input(\"Item: \"), int(input(\"Quantity: \"))\n",
    "        inventory[item] = inventory.get(item, 0) + qty\n",
    "    elif choice == '2':\n",
    "        item = input(\"Item: \")\n",
    "        if item in inventory:\n",
    "            inventory[item] = int(input(\"New Quantity: \"))\n",
    "        else:\n",
    "            print(\"Item not found!\")\n",
    "    elif choice == '3':\n",
    "        inventory.pop(input(\"Item: \"), print(\"Item not found!\"))\n",
    "    elif choice == '4':\n",
    "        print(\"\\nInventory:\", inventory if inventory else \"Empty\")\n",
    "    elif choice == '5':\n",
    "        break\n",
    "    else:\n",
    "        print(\"Invalid choice!\")"
   ]
  },
  {
   "cell_type": "code",
   "execution_count": null,
   "id": "5d5cdb0f-089a-468c-a17a-5ff6b8730bf0",
   "metadata": {},
   "outputs": [],
   "source": []
  }
 ],
 "metadata": {
  "kernelspec": {
   "display_name": "Python 3 (ipykernel)",
   "language": "python",
   "name": "python3"
  },
  "language_info": {
   "codemirror_mode": {
    "name": "ipython",
    "version": 3
   },
   "file_extension": ".py",
   "mimetype": "text/x-python",
   "name": "python",
   "nbconvert_exporter": "python",
   "pygments_lexer": "ipython3",
   "version": "3.12.7"
  }
 },
 "nbformat": 4,
 "nbformat_minor": 5
}
