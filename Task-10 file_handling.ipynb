{
 "cells": [
  {
   "cell_type": "markdown",
   "id": "7a88bd21-5e6d-4e62-871e-2c4ff87cb2d3",
   "metadata": {},
   "source": [
    "# Python : File Handling\n"
   ]
  },
  {
   "cell_type": "markdown",
   "id": "718f762b-b191-4158-a84a-a16e00174544",
   "metadata": {},
   "source": [
    "# 1. Create a Function to Read a Text File and Return its Content.\n",
    "Objective:\n",
    "Write a function that takes a filename as input and returns the content from a file as a string. Download file by clicking on this Link.\n",
    "# Sample Input:\n",
    "def read_file_function(\"Sample.txt\")\n",
    "# Expected Output from a Text File:\n",
    "Example: \n",
    "“Python is a popular programming language.\n",
    "It is known for its simplicity and readability.\n",
    "Python supports multiple programming paradigms, including procedural, object-oriented, and functional programming.\n",
    "It is widely used in data science, web development, automation, and artificial intelligence.\n",
    "The Python community is large and supportive, with many open-source libraries available.\n",
    "Python files typically have a .py extension.\n",
    "Indentation is significant in Python and is used to define code blocks.”\n"
   ]
  },
  {
   "cell_type": "code",
   "execution_count": 64,
   "id": "92da1ff9-9b3c-4754-9f61-7a1d466dc6fe",
   "metadata": {},
   "outputs": [],
   "source": [
    "sen = open('sample-copy1.txt','r')"
   ]
  },
  {
   "cell_type": "code",
   "execution_count": 65,
   "id": "5d7e2438-fb5b-4b2b-9e60-70394461d3bf",
   "metadata": {},
   "outputs": [
    {
     "data": {
      "text/plain": [
       "'Python is a popular programming language.\\nIt is known for its simplicity and readability.\\nPython supports multiple programming paradigms, including procedural, object-oriented, and functional programming.\\nIt is widely used in data science, web development, automation, and artificial intelligence.\\nThe Python community is large and supportive, with many open-source libraries available.\\nPython files typically have a .py extension.\\nIndentation is significant in Python and is used to define code blocks.\\n'"
      ]
     },
     "execution_count": 65,
     "metadata": {},
     "output_type": "execute_result"
    }
   ],
   "source": [
    "sen.read()"
   ]
  },
  {
   "cell_type": "code",
   "execution_count": null,
   "id": "89d8c2ac-cc52-47e7-b39c-7adf7236c0d1",
   "metadata": {},
   "outputs": [],
   "source": []
  },
  {
   "cell_type": "markdown",
   "id": "a9eb5ff5-4bfb-4f8b-b217-643de9597cf0",
   "metadata": {},
   "source": [
    "## 2. Create a Function to Count the Number of Lines in a File.\n",
    "Objective:\n",
    "Write a function that counts how many lines are present in a text file.\n",
    "Download file by clicking on this Link.\n",
    "\n",
    "# Sample Input:\n",
    "def count_lines(\"Count_the_text.txt\")\n",
    "\n",
    "# Expected Output:\n",
    "Python is easy to learn.\n",
    "Data science is a growing field.\n",
    "Machine learning is a subset of AI.\n",
    "….\n",
    "Python's Zen can be accessed by typing 'import this'.\n",
    "Tip: Use .readlines() or loop over the file.\n"
   ]
  },
  {
   "cell_type": "code",
   "execution_count": 7,
   "id": "78b5d04f-165b-4e39-aa4b-123f71f0a03a",
   "metadata": {},
   "outputs": [],
   "source": [
    "file = open ('Count_the_text.txt','r')"
   ]
  },
  {
   "cell_type": "code",
   "execution_count": 5,
   "id": "119149b2-587d-4289-92c9-81c84badd72d",
   "metadata": {},
   "outputs": [
    {
     "data": {
      "text/plain": [
       "\"Python is easy to learn.\\nData science is a growing field.\\nMachine learning is a subset of AI.\\nFile handling in Python is straightforward.\\nThe print function outputs text to the console.\\nLoops help in executing code multiple times.\\nFunctions promote code reusability.\\nLists are used to store multiple items in a single variable.\\nDictionaries store data in key-value pairs.\\nComments improve code readability.\\nPython can be used to build web applications.\\nAutomation with Python saves time and effort.\\nThe 'with' statement is used to handle file operations safely.\\nYou can read files using read(), readline(), or readlines().\\nWriting to files requires 'w' or 'a' mode in open().\\nData visualization is fun with libraries like Matplotlib and Seaborn.\\nNumpy helps in numerical operations and handling arrays.\\nPandas is great for data manipulation and analysis.\\nAPIs can be accessed using Python's requests module.\\nPractice makes you better at coding.\\nPython is used in game development too!\\nDebugging code is a valuable skill.\\nException handling is done using try-except blocks.\\nRecursion is a function calling itself.\\nPython's Zen can be accessed by typing 'import this'.\\n\""
      ]
     },
     "execution_count": 5,
     "metadata": {},
     "output_type": "execute_result"
    }
   ],
   "source": [
    "file.read()"
   ]
  },
  {
   "cell_type": "code",
   "execution_count": 8,
   "id": "46d1954b-9f6a-470c-bf11-080b3d12d4cb",
   "metadata": {},
   "outputs": [
    {
     "data": {
      "text/plain": [
       "['Python is easy to learn.\\n',\n",
       " 'Data science is a growing field.\\n',\n",
       " 'Machine learning is a subset of AI.\\n',\n",
       " 'File handling in Python is straightforward.\\n',\n",
       " 'The print function outputs text to the console.\\n',\n",
       " 'Loops help in executing code multiple times.\\n',\n",
       " 'Functions promote code reusability.\\n',\n",
       " 'Lists are used to store multiple items in a single variable.\\n',\n",
       " 'Dictionaries store data in key-value pairs.\\n',\n",
       " 'Comments improve code readability.\\n',\n",
       " 'Python can be used to build web applications.\\n',\n",
       " 'Automation with Python saves time and effort.\\n',\n",
       " \"The 'with' statement is used to handle file operations safely.\\n\",\n",
       " 'You can read files using read(), readline(), or readlines().\\n',\n",
       " \"Writing to files requires 'w' or 'a' mode in open().\\n\",\n",
       " 'Data visualization is fun with libraries like Matplotlib and Seaborn.\\n',\n",
       " 'Numpy helps in numerical operations and handling arrays.\\n',\n",
       " 'Pandas is great for data manipulation and analysis.\\n',\n",
       " \"APIs can be accessed using Python's requests module.\\n\",\n",
       " 'Practice makes you better at coding.\\n',\n",
       " 'Python is used in game development too!\\n',\n",
       " 'Debugging code is a valuable skill.\\n',\n",
       " 'Exception handling is done using try-except blocks.\\n',\n",
       " 'Recursion is a function calling itself.\\n',\n",
       " \"Python's Zen can be accessed by typing 'import this'.\\n\"]"
      ]
     },
     "execution_count": 8,
     "metadata": {},
     "output_type": "execute_result"
    }
   ],
   "source": [
    "file.readlines()"
   ]
  },
  {
   "cell_type": "code",
   "execution_count": null,
   "id": "582ada29-9df6-412c-9ade-69484cc71867",
   "metadata": {},
   "outputs": [],
   "source": []
  },
  {
   "cell_type": "markdown",
   "id": "b0b77cad-4f58-4ab5-b277-83b1ae1634a3",
   "metadata": {},
   "source": [
    "# 3. Create a Function That Writes \"I will practice Python daily!\" 100 Times in a File.\n",
    "Objective:\n",
    "Write a function that writes this motivational line 100 times in a file (each on a new line).\n",
    "# Sample Input:\n",
    "I will practice Python daily!\n",
    "# Expected Output:\n",
    "I will practice Python daily!\n",
    "I will practice Python daily!\n",
    "...\n",
    "(100 lines)\n"
   ]
  },
  {
   "cell_type": "code",
   "execution_count": 35,
   "id": "f395f58e-ed08-43ff-9a87-f409da1d8554",
   "metadata": {},
   "outputs": [],
   "source": [
    "book = open('file.txt','w')"
   ]
  },
  {
   "cell_type": "code",
   "execution_count": 36,
   "id": "fc700a03-de5f-44df-9611-494a8afac3db",
   "metadata": {},
   "outputs": [],
   "source": [
    "for i in range(100):\n",
    "    book.write(\"I will practice Python daily!\\n\")"
   ]
  },
  {
   "cell_type": "code",
   "execution_count": 16,
   "id": "3b9945ec-3430-4555-9b2e-527418c17f51",
   "metadata": {},
   "outputs": [],
   "source": [
    "book.close()"
   ]
  },
  {
   "cell_type": "code",
   "execution_count": 37,
   "id": "3b292df2-b9f4-4a95-b70c-a25855d9a51a",
   "metadata": {},
   "outputs": [],
   "source": [
    "book = open('file.txt','r')"
   ]
  },
  {
   "cell_type": "code",
   "execution_count": 38,
   "id": "a33b54ec-724d-4276-9245-fe36cf9a47b3",
   "metadata": {},
   "outputs": [
    {
     "data": {
      "text/plain": [
       "['I will practice Python daily!\\n',\n",
       " 'I will practice Python daily!\\n',\n",
       " 'I will practice Python daily!\\n',\n",
       " 'I will practice Python daily!\\n',\n",
       " 'I will practice Python daily!\\n',\n",
       " 'I will practice Python daily!\\n',\n",
       " 'I will practice Python daily!\\n',\n",
       " 'I will practice Python daily!\\n',\n",
       " 'I will practice Python daily!\\n',\n",
       " 'I will practice Python daily!\\n',\n",
       " 'I will practice Python daily!\\n',\n",
       " 'I will practice Python daily!\\n',\n",
       " 'I will practice Python daily!\\n',\n",
       " 'I will practice Python daily!\\n',\n",
       " 'I will practice Python daily!\\n',\n",
       " 'I will practice Python daily!\\n',\n",
       " 'I will practice Python daily!\\n',\n",
       " 'I will practice Python daily!\\n',\n",
       " 'I will practice Python daily!\\n',\n",
       " 'I will practice Python daily!\\n',\n",
       " 'I will practice Python daily!\\n',\n",
       " 'I will practice Python daily!\\n',\n",
       " 'I will practice Python daily!\\n',\n",
       " 'I will practice Python daily!\\n',\n",
       " 'I will practice Python daily!\\n',\n",
       " 'I will practice Python daily!\\n',\n",
       " 'I will practice Python daily!\\n',\n",
       " 'I will practice Python daily!\\n',\n",
       " 'I will practice Python daily!\\n',\n",
       " 'I will practice Python daily!\\n',\n",
       " 'I will practice Python daily!\\n',\n",
       " 'I will practice Python daily!\\n',\n",
       " 'I will practice Python daily!\\n',\n",
       " 'I will practice Python daily!\\n',\n",
       " 'I will practice Python daily!\\n',\n",
       " 'I will practice Python daily!\\n',\n",
       " 'I will practice Python daily!\\n',\n",
       " 'I will practice Python daily!\\n',\n",
       " 'I will practice Python daily!\\n',\n",
       " 'I will practice Python daily!\\n',\n",
       " 'I will practice Python daily!\\n',\n",
       " 'I will practice Python daily!\\n',\n",
       " 'I will practice Python daily!\\n',\n",
       " 'I will practice Python daily!\\n',\n",
       " 'I will practice Python daily!\\n',\n",
       " 'I will practice Python daily!\\n',\n",
       " 'I will practice Python daily!\\n',\n",
       " 'I will practice Python daily!\\n',\n",
       " 'I will practice Python daily!\\n',\n",
       " 'I will practice Python daily!\\n',\n",
       " 'I will practice Python daily!\\n',\n",
       " 'I will practice Python daily!\\n',\n",
       " 'I will practice Python daily!\\n',\n",
       " 'I will practice Python daily!\\n',\n",
       " 'I will practice Python daily!\\n',\n",
       " 'I will practice Python daily!\\n',\n",
       " 'I will practice Python daily!\\n',\n",
       " 'I will practice Python daily!\\n',\n",
       " 'I will practice Python daily!\\n',\n",
       " 'I will practice Python daily!\\n',\n",
       " 'I will practice Python daily!\\n',\n",
       " 'I will practice Python daily!\\n',\n",
       " 'I will practice Python daily!\\n',\n",
       " 'I will practice Python daily!\\n',\n",
       " 'I will practice Python daily!\\n',\n",
       " 'I will practice Python daily!\\n',\n",
       " 'I will practice Python daily!\\n',\n",
       " 'I will practice Python daily!\\n',\n",
       " 'I will practice Python daily!\\n',\n",
       " 'I will practice Python daily!\\n',\n",
       " 'I will practice Python daily!\\n',\n",
       " 'I will practice Python daily!\\n',\n",
       " 'I will practice Python daily!\\n',\n",
       " 'I will practice Python daily!\\n',\n",
       " 'I will practice Python daily!\\n',\n",
       " 'I will practice Python daily!\\n',\n",
       " 'I will practice Python daily!\\n',\n",
       " 'I will practice Python daily!\\n',\n",
       " 'I will practice Python daily!\\n',\n",
       " 'I will practice Python daily!\\n',\n",
       " 'I will practice Python daily!\\n',\n",
       " 'I will practice Python daily!\\n',\n",
       " 'I will practice Python daily!\\n',\n",
       " 'I will practice Python daily!\\n',\n",
       " 'I will practice Python daily!\\n',\n",
       " 'I will practice Python daily!\\n',\n",
       " 'I will practice Python daily!\\n',\n",
       " 'I will practice Python daily!\\n',\n",
       " 'I will practice Python daily!\\n',\n",
       " 'I will practice Python daily!\\n',\n",
       " 'I will practice Python daily!\\n',\n",
       " 'I will practice Python daily!\\n',\n",
       " 'I will practice Python daily!\\n',\n",
       " 'I will practice Python daily!\\n',\n",
       " 'I will practice Python daily!\\n',\n",
       " 'I will practice Python daily!\\n',\n",
       " 'I will practice Python daily!\\n',\n",
       " 'I will practice Python daily!\\n',\n",
       " 'I will practice Python daily!\\n',\n",
       " 'I will practice Python daily!\\n']"
      ]
     },
     "execution_count": 38,
     "metadata": {},
     "output_type": "execute_result"
    }
   ],
   "source": [
    "book.readlines()"
   ]
  },
  {
   "cell_type": "code",
   "execution_count": 39,
   "id": "eea8821c-d7a5-41e9-9c3a-7c2416a61fb7",
   "metadata": {},
   "outputs": [],
   "source": [
    "book.close()"
   ]
  },
  {
   "cell_type": "markdown",
   "id": "7d04e132-cefe-42f8-a95f-42ccf77a9164",
   "metadata": {},
   "source": [
    "# 4. Create a Function to Reverse the Lines in a File.\n",
    "Objective:\n",
    "Take a file as input, reverse the order of its lines, and write the result to a new file.\n",
    "Download the original file by clicking on this Link.\n",
    "# Sample Input Example — File: original.txt:\n",
    "Suppose original.txt contains the following lines:\n",
    "Line 1: Python is fun.\n",
    "Line 2: File handling is powerful.\n",
    "Line 3: Let's reverse lines!\n",
    "\n",
    "# Expected Output  — File: reversed.txt:\n",
    "After your function runs, reversed.txt should contain:\n",
    "Line 3: Let's reverse lines!\n",
    "Line 2: File handling is powerful.\n",
    "Line 1: Python is fun.\n"
   ]
  },
  {
   "cell_type": "code",
   "execution_count": 145,
   "id": "5239fcd5-4dd8-4a92-a7c7-308469c0f764",
   "metadata": {},
   "outputs": [],
   "source": [
    "file_r = open ('original.txt.txt','r')"
   ]
  },
  {
   "cell_type": "code",
   "execution_count": 146,
   "id": "f4100293-a647-46f5-be03-6a82c7102aae",
   "metadata": {},
   "outputs": [],
   "source": [
    "lines = file_r.readlines()"
   ]
  },
  {
   "cell_type": "code",
   "execution_count": 147,
   "id": "2fb7e63a-43c4-49e0-9789-08244292fc46",
   "metadata": {
    "scrolled": true
   },
   "outputs": [
    {
     "data": {
      "text/plain": [
       "['Line 1: Python is fun.\\n',\n",
       " 'Line 2: File handling is powerful.\\n',\n",
       " \"Line 3: Let's reverse lines!\"]"
      ]
     },
     "execution_count": 147,
     "metadata": {},
     "output_type": "execute_result"
    }
   ],
   "source": [
    "lines"
   ]
  },
  {
   "cell_type": "code",
   "execution_count": 148,
   "id": "191ffe9a-1b97-49c1-8fc5-cd1acb1dd970",
   "metadata": {},
   "outputs": [],
   "source": [
    "file_r.close()"
   ]
  },
  {
   "cell_type": "code",
   "execution_count": 149,
   "id": "c9d31d42-1baf-42ac-90ea-8d37cd763376",
   "metadata": {},
   "outputs": [],
   "source": [
    "lines.reverse()"
   ]
  },
  {
   "cell_type": "code",
   "execution_count": 150,
   "id": "d7d0113b-d5c6-42cb-a97e-bf170f605a22",
   "metadata": {},
   "outputs": [],
   "source": [
    "reve_lines = open('reversed_text','w')"
   ]
  },
  {
   "cell_type": "code",
   "execution_count": 151,
   "id": "a18226d2-6ac0-4565-9bb0-361f19cd750f",
   "metadata": {},
   "outputs": [],
   "source": [
    "for line in lines:\n",
    "    reve_lines.write(line)\n"
   ]
  },
  {
   "cell_type": "code",
   "execution_count": 152,
   "id": "b4cead76-405c-4f17-a555-001c27603b0c",
   "metadata": {},
   "outputs": [],
   "source": [
    "reve_lines.close()"
   ]
  },
  {
   "cell_type": "code",
   "execution_count": 153,
   "id": "ef4e9e7f-6c35-4312-8a5e-ccc567620496",
   "metadata": {
    "scrolled": true
   },
   "outputs": [
    {
     "data": {
      "text/plain": [
       "\"Line 3: Let's reverse lines!Line 2: File handling is powerful.\\nLine 1: Python is fun.\\n\""
      ]
     },
     "execution_count": 153,
     "metadata": {},
     "output_type": "execute_result"
    }
   ],
   "source": [
    "r = open('reversed_text','r')\n",
    "r.read()"
   ]
  },
  {
   "cell_type": "code",
   "execution_count": null,
   "id": "7b77861e-b407-4860-8739-ba44699d50a3",
   "metadata": {},
   "outputs": [],
   "source": []
  },
  {
   "cell_type": "markdown",
   "id": "ef41e234-fa90-459c-9e85-6a80f34aa11c",
   "metadata": {},
   "source": [
    "# 5. Create a Function to Append Text to an Existing File\n",
    "Objective:\n",
    "Write a function that appends a new line of text to the end of an existing file without overwriting the existing content.\n",
    "# Sample Input:\n",
    "    # Append this text \"Keep learning Python!\" to the existing file\n",
    "# Expected Output (after appending):\n",
    " If the original file contains the below text:\n",
    "Python is great.\n",
    "\n",
    "Then after the function runs the output should be in the below format:\n",
    "Python is great.\n",
    "Keep learning Python!\n",
    "\n"
   ]
  },
  {
   "cell_type": "code",
   "execution_count": 8,
   "id": "d27b250a-7a0d-49ff-bb01-97e1c12a7ee4",
   "metadata": {},
   "outputs": [
    {
     "ename": "FileExistsError",
     "evalue": "[Errno 17] File exists: 'append.txt'",
     "output_type": "error",
     "traceback": [
      "\u001b[1;31m---------------------------------------------------------------------------\u001b[0m",
      "\u001b[1;31mFileExistsError\u001b[0m                           Traceback (most recent call last)",
      "Cell \u001b[1;32mIn[8], line 1\u001b[0m\n\u001b[1;32m----> 1\u001b[0m file \u001b[38;5;241m=\u001b[39m \u001b[38;5;28mopen\u001b[39m(\u001b[38;5;124m'\u001b[39m\u001b[38;5;124mappend.txt\u001b[39m\u001b[38;5;124m'\u001b[39m,\u001b[38;5;124m'\u001b[39m\u001b[38;5;124mx\u001b[39m\u001b[38;5;124m'\u001b[39m)\n",
      "File \u001b[1;32m~\\Downloads\\vaishnavi\\Lib\\site-packages\\IPython\\core\\interactiveshell.py:324\u001b[0m, in \u001b[0;36m_modified_open\u001b[1;34m(file, *args, **kwargs)\u001b[0m\n\u001b[0;32m    317\u001b[0m \u001b[38;5;28;01mif\u001b[39;00m file \u001b[38;5;129;01min\u001b[39;00m {\u001b[38;5;241m0\u001b[39m, \u001b[38;5;241m1\u001b[39m, \u001b[38;5;241m2\u001b[39m}:\n\u001b[0;32m    318\u001b[0m     \u001b[38;5;28;01mraise\u001b[39;00m \u001b[38;5;167;01mValueError\u001b[39;00m(\n\u001b[0;32m    319\u001b[0m         \u001b[38;5;124mf\u001b[39m\u001b[38;5;124m\"\u001b[39m\u001b[38;5;124mIPython won\u001b[39m\u001b[38;5;124m'\u001b[39m\u001b[38;5;124mt let you open fd=\u001b[39m\u001b[38;5;132;01m{\u001b[39;00mfile\u001b[38;5;132;01m}\u001b[39;00m\u001b[38;5;124m by default \u001b[39m\u001b[38;5;124m\"\u001b[39m\n\u001b[0;32m    320\u001b[0m         \u001b[38;5;124m\"\u001b[39m\u001b[38;5;124mas it is likely to crash IPython. If you know what you are doing, \u001b[39m\u001b[38;5;124m\"\u001b[39m\n\u001b[0;32m    321\u001b[0m         \u001b[38;5;124m\"\u001b[39m\u001b[38;5;124myou can use builtins\u001b[39m\u001b[38;5;124m'\u001b[39m\u001b[38;5;124m open.\u001b[39m\u001b[38;5;124m\"\u001b[39m\n\u001b[0;32m    322\u001b[0m     )\n\u001b[1;32m--> 324\u001b[0m \u001b[38;5;28;01mreturn\u001b[39;00m io_open(file, \u001b[38;5;241m*\u001b[39margs, \u001b[38;5;241m*\u001b[39m\u001b[38;5;241m*\u001b[39mkwargs)\n",
      "\u001b[1;31mFileExistsError\u001b[0m: [Errno 17] File exists: 'append.txt'"
     ]
    }
   ],
   "source": [
    "file = open('append.txt','x')"
   ]
  },
  {
   "cell_type": "code",
   "execution_count": 31,
   "id": "6cc10928-f7d5-4968-99e5-9662d3434fe0",
   "metadata": {},
   "outputs": [],
   "source": [
    "file = open('append.txt','w')"
   ]
  },
  {
   "cell_type": "code",
   "execution_count": 32,
   "id": "bfd61283-fd5d-4130-ba2a-e6666f7d8ceb",
   "metadata": {},
   "outputs": [
    {
     "data": {
      "text/plain": [
       "16"
      ]
     },
     "execution_count": 32,
     "metadata": {},
     "output_type": "execute_result"
    }
   ],
   "source": [
    "file.write(\"Python is great.\")"
   ]
  },
  {
   "cell_type": "code",
   "execution_count": 33,
   "id": "8aa598bb-e777-4da8-a642-07fd5be1c0a7",
   "metadata": {},
   "outputs": [],
   "source": [
    "file.close()"
   ]
  },
  {
   "cell_type": "code",
   "execution_count": 34,
   "id": "168e3216-4012-44cf-a7ff-f25b292ecd7a",
   "metadata": {},
   "outputs": [],
   "source": [
    "file = open(\"append.txt\",'r')"
   ]
  },
  {
   "cell_type": "code",
   "execution_count": 35,
   "id": "51c898ac-8904-4ac3-892f-3c4a53c20a85",
   "metadata": {},
   "outputs": [
    {
     "data": {
      "text/plain": [
       "'Python is great.'"
      ]
     },
     "execution_count": 35,
     "metadata": {},
     "output_type": "execute_result"
    }
   ],
   "source": [
    "file.read()"
   ]
  },
  {
   "cell_type": "code",
   "execution_count": 36,
   "id": "63520b78-a513-46ae-9b68-239c43afa200",
   "metadata": {},
   "outputs": [
    {
     "name": "stdout",
     "output_type": "stream",
     "text": [
      "21\n"
     ]
    }
   ],
   "source": [
    "file = open(\"append.txt\",'a')\n",
    "appnd = file.write(\"Keep learning python!\")\n",
    "print(appnd)\n",
    "file.close()"
   ]
  },
  {
   "cell_type": "code",
   "execution_count": 37,
   "id": "804f3ed0-1bfb-466e-b28c-1c8a62b34e21",
   "metadata": {},
   "outputs": [
    {
     "data": {
      "text/plain": [
       "'Python is great.Keep learning python!'"
      ]
     },
     "execution_count": 37,
     "metadata": {},
     "output_type": "execute_result"
    }
   ],
   "source": [
    "file = open(\"append.txt\",'r')\n",
    "file.read()"
   ]
  },
  {
   "cell_type": "code",
   "execution_count": null,
   "id": "0e5004b8-5409-4815-9d01-9c19a31b6359",
   "metadata": {},
   "outputs": [],
   "source": [
    "\n"
   ]
  },
  {
   "cell_type": "markdown",
   "id": "086d58aa-77ef-43b4-8cbe-4d3f9379cf28",
   "metadata": {},
   "source": [
    "# 6. Create a Function to Copy Contents from One File to Another.\n",
    "Objective:\n",
    " Write a function that reads the content from one file and writes it to another.\n",
    " Create your own file in any format.\n",
    "# Sample Input:\n",
    "def copy_file_contents():\n",
    "    # Copy from \"source.txt\" to \"destination.txt\"\n",
    "\n",
    "# Expected Output:\n",
    " \tEverything from source.txt should appear in destination.txt.\n"
   ]
  },
  {
   "cell_type": "code",
   "execution_count": 41,
   "id": "0437a283-e989-4163-bd68-0a59afb750d3",
   "metadata": {},
   "outputs": [],
   "source": [
    "source_file = open(\"source.txt\", \"w\")\n",
    "source_file.write(\"Hello, this is the source file.\\n\")\n",
    "source_file.write(\"It has multiple lines of text.\\n\")\n",
    "source_file.write(\"This content will be copied to another file.\")\n",
    "\n",
    "source_file.close()\n"
   ]
  },
  {
   "cell_type": "code",
   "execution_count": 44,
   "id": "bbbfe7e0-9ddd-4af1-8639-4e4671f43410",
   "metadata": {},
   "outputs": [],
   "source": [
    "source_file = open(\"source.txt\", \"r\")\n",
    "\n",
    "content = source_file.read()\n",
    "\n",
    "source_file.close()"
   ]
  },
  {
   "cell_type": "code",
   "execution_count": 45,
   "id": "3ed17b03-492a-45c4-a10d-2a235a8448e2",
   "metadata": {},
   "outputs": [
    {
     "data": {
      "text/plain": [
       "'Hello, this is the source file.\\nIt has multiple lines of text.\\nThis content will be copied to another file.'"
      ]
     },
     "execution_count": 45,
     "metadata": {},
     "output_type": "execute_result"
    }
   ],
   "source": [
    "content"
   ]
  },
  {
   "cell_type": "code",
   "execution_count": 47,
   "id": "35486c97-fe27-4f80-b2b2-a1bdd97c0667",
   "metadata": {},
   "outputs": [],
   "source": [
    "destination_file = open(\"destination.txt\", \"w\")\n",
    "destination_file.write(content)\n",
    "destination_file.close()\n"
   ]
  },
  {
   "cell_type": "code",
   "execution_count": 49,
   "id": "293ac1af-1750-4101-8c86-195c47575bd2",
   "metadata": {},
   "outputs": [],
   "source": [
    "destination_file  = open(\"destination.txt\",'r')"
   ]
  },
  {
   "cell_type": "code",
   "execution_count": 50,
   "id": "b8d175e3-fd18-4496-9dc3-9da7659e5615",
   "metadata": {},
   "outputs": [
    {
     "data": {
      "text/plain": [
       "'Hello, this is the source file.\\nIt has multiple lines of text.\\nThis content will be copied to another file.'"
      ]
     },
     "execution_count": 50,
     "metadata": {},
     "output_type": "execute_result"
    }
   ],
   "source": [
    "destination_file.read()"
   ]
  },
  {
   "cell_type": "code",
   "execution_count": null,
   "id": "d86e0f4d-43a0-4194-9b8c-3cbca3bcf248",
   "metadata": {},
   "outputs": [],
   "source": []
  },
  {
   "cell_type": "markdown",
   "id": "b31b5e85-1a0a-4120-8543-e9f07734437e",
   "metadata": {},
   "source": [
    "# 7. Create a Function to Replace a Word in a File.\n",
    "Objective:\n",
    " Write a function that finds and replaces a specific word in a text file.\n",
    " Create your own file in any format and place the below text.\n",
    "JavaScript is amazing.\n",
    "I love JavaScript!\n",
    "# Sample Input:\n",
    "def replace_word():\n",
    "    # Replace \"JavaScript\" from (old file) & place \"Python\" in \"tech.txt\" file\n",
    "\n",
    "# Expected Output (in tech.txt):\n",
    " \tBefore:\n",
    "JavaScript is amazing.\n",
    "I love JavaScript!\n",
    "\n",
    " After:\n",
    "Python is amazing.\n",
    "I love Python!\n"
   ]
  },
  {
   "cell_type": "code",
   "execution_count": 70,
   "id": "e8a5a5df-fbaf-4e8b-a44f-0de02e616693",
   "metadata": {},
   "outputs": [],
   "source": [
    "file = open(\"tech.txt\", \"w\")\n",
    "\n",
    "file.write(\"JavaScript is amazing. I love JavaScript!\")\n",
    "\n",
    "file.close()"
   ]
  },
  {
   "cell_type": "code",
   "execution_count": 71,
   "id": "0b502b78-c796-4b1f-9233-de3e1192de04",
   "metadata": {},
   "outputs": [
    {
     "name": "stdout",
     "output_type": "stream",
     "text": [
      "Before:\n",
      "JavaScript is amazing. I love JavaScript!\n"
     ]
    }
   ],
   "source": [
    "file = open(\"tech.txt\", \"r\")\n",
    "content = file.read()\n",
    "print(\"Before:\\n\" + content)\n",
    "file.close()\n"
   ]
  },
  {
   "cell_type": "code",
   "execution_count": 72,
   "id": "9ab4b9c6-542c-4797-9f1b-2cb6ad95f0e0",
   "metadata": {},
   "outputs": [],
   "source": [
    "updated_content = content.replace(\"JavaScript\", \"Python\")\n"
   ]
  },
  {
   "cell_type": "code",
   "execution_count": 73,
   "id": "b5418dcf-9145-4288-893b-6abf5630d2ae",
   "metadata": {},
   "outputs": [],
   "source": [
    "file = open(\"tech.txt\", \"w\")\n",
    "file.write(updated_content)\n",
    "file.close()\n"
   ]
  },
  {
   "cell_type": "code",
   "execution_count": 74,
   "id": "268c6a29-2f09-45ed-abf5-6925051d32e4",
   "metadata": {},
   "outputs": [
    {
     "name": "stdout",
     "output_type": "stream",
     "text": [
      "\n",
      "After:\n",
      "Python is amazing. I love Python!\n"
     ]
    }
   ],
   "source": [
    "file = open(\"tech.txt\", \"r\")\n",
    "\n",
    "print(\"\\nAfter:\\n\" + file.read())\n",
    "\n",
    "file.close()\n"
   ]
  },
  {
   "cell_type": "code",
   "execution_count": null,
   "id": "391a9e2d-12b7-428a-b776-9583aa4ab428",
   "metadata": {},
   "outputs": [],
   "source": []
  },
  {
   "cell_type": "markdown",
   "id": "b9434e49-d930-4966-8783-49973446d891",
   "metadata": {},
   "source": [
    "# 8. Create a Function to Count Word Frequency in a File.\n",
    "Objective:\n",
    " Write a function that reads a file and returns a dictionary of how often each word appears.\n",
    " Download the file by clicking on the Link.\n",
    "# Sample Input:\n",
    "def count_word_frequency():\n",
    "    # Reads from \"words.txt\"\n",
    "\n",
    "# Expected Output:\n",
    "{'Python': 3, 'is': 2, 'fun': 1, 'easy': 1}\n"
   ]
  },
  {
   "cell_type": "code",
   "execution_count": 77,
   "id": "3ee7c0b7-ac48-4948-9d75-5549176457d1",
   "metadata": {},
   "outputs": [],
   "source": [
    "def count_word_frequency():\n",
    "    word_count = {}\n",
    "    with open('words.txt', 'r') as file:\n",
    "        for line in file:\n",
    "            words = line.split()\n",
    "            #print(words)\n",
    "            for word in words:\n",
    "                word_count[word] = word_count.get(word, 0) + 1\n",
    "    return word_count"
   ]
  },
  {
   "cell_type": "code",
   "execution_count": 78,
   "id": "3c91c495-ba60-4459-be09-449aa351172f",
   "metadata": {},
   "outputs": [
    {
     "data": {
      "text/plain": [
       "{'Python': 8,\n",
       " 'is': 4,\n",
       " 'easy': 1,\n",
       " 'to': 1,\n",
       " 'learn.': 1,\n",
       " 'fun.': 1,\n",
       " 'I': 1,\n",
       " 'enjoy': 1,\n",
       " 'learning': 2,\n",
       " 'Python!': 1,\n",
       " 'Many': 1,\n",
       " 'developers': 1,\n",
       " 'use': 1,\n",
       " 'for': 1,\n",
       " 'data': 1,\n",
       " 'science.': 1,\n",
       " 'supports': 1,\n",
       " 'object-oriented': 1,\n",
       " 'programming.': 1,\n",
       " 'also': 1,\n",
       " 'used': 1,\n",
       " 'in': 1,\n",
       " 'machine': 1,\n",
       " 'and': 4,\n",
       " 'AI.': 1,\n",
       " 'Beginners': 1,\n",
       " 'love': 1,\n",
       " 'because': 1,\n",
       " 'of': 1,\n",
       " 'its': 1,\n",
       " 'clean': 1,\n",
       " 'syntax.': 1,\n",
       " 'With': 1,\n",
       " 'Python,': 1,\n",
       " 'automation': 1,\n",
       " 'becomes': 1,\n",
       " 'simple': 1,\n",
       " 'powerful.': 1,\n",
       " 'has': 1,\n",
       " 'vast': 1,\n",
       " 'libraries': 1,\n",
       " 'like': 1,\n",
       " 'NumPy': 1,\n",
       " 'Pandas.': 1,\n",
       " 'The': 1,\n",
       " 'community': 1,\n",
       " 'helpful': 1,\n",
       " 'active.': 1}"
      ]
     },
     "execution_count": 78,
     "metadata": {},
     "output_type": "execute_result"
    }
   ],
   "source": [
    "count_word_frequency()"
   ]
  },
  {
   "cell_type": "code",
   "execution_count": null,
   "id": "6fdbdad7-c3c4-4258-b2f3-4c589e8bd0a6",
   "metadata": {},
   "outputs": [],
   "source": []
  },
  {
   "cell_type": "markdown",
   "id": "9dd3002f-4a70-4c8f-9c46-570683585a75",
   "metadata": {},
   "source": [
    "# 9. Create a Function to Check if a Word Exists in a File.\n",
    "Objective:\n",
    " Write a function that checks whether a specific word exists in a file.\n",
    " Download the file by clicking on the Link.\n",
    "# Sample Input:\n",
    "\n",
    "def search_word():\n",
    "    # Checks if \"data\" is in \"topics.txt\"\n",
    "\n",
    "# Expected Output:\n",
    "The word 'data' exists in the file!\n",
    "\n",
    "\n"
   ]
  },
  {
   "cell_type": "code",
   "execution_count": 81,
   "id": "1a40ae3b-ca2e-4d40-ac1a-ceff671db6b6",
   "metadata": {},
   "outputs": [],
   "source": [
    "def search_word(word_to_search):\n",
    "    try:\n",
    "        with open('topics.txt','r') as file:\n",
    "            content = file.read()\n",
    "        if word_to_search.lower() in content.lower().split():\n",
    "            print(f\"The word '{word_to_search}' exists in the file!\")\n",
    "        else:\n",
    "            print(f\"The word '{word_to_search}' does not exist in the file.\")\n",
    "    except Exception as e:\n",
    "        print('Exception Ocuured',e)"
   ]
  },
  {
   "cell_type": "code",
   "execution_count": 82,
   "id": "d2e2ef37-bc88-41d7-a884-52db709f0ce2",
   "metadata": {},
   "outputs": [
    {
     "name": "stdout",
     "output_type": "stream",
     "text": [
      "The word 'data' exists in the file!\n"
     ]
    }
   ],
   "source": [
    "search_word('data')"
   ]
  },
  {
   "cell_type": "code",
   "execution_count": null,
   "id": "61db089a-a5be-4537-8163-d27fc368fdda",
   "metadata": {},
   "outputs": [],
   "source": []
  },
  {
   "cell_type": "markdown",
   "id": "30ed5c21-6ed9-4101-a272-80a4bfc42b14",
   "metadata": {},
   "source": [
    "# 10. Create a Function to Read a File and Print Lines Containing a Specific Keyword.\n",
    "Objective:\n",
    " Write a function that checks through a file and prints only the lines that contain a given keyword.\n",
    "Download the file by clicking on the Link.\n",
    "# Sample Input:\n",
    "def filter_lines():\n",
    "    # Looks for \"Python\" in \"log.txt\"\n",
    "\n",
    "# Expected Output (Print only lines that contains a specific word):\n",
    "Learning Python is fun.\n",
    "Python is versatile.\n",
    "\n"
   ]
  },
  {
   "cell_type": "code",
   "execution_count": 84,
   "id": "9b854d68-a8b7-4059-9f79-b51906d4baca",
   "metadata": {},
   "outputs": [],
   "source": [
    "def filter_lines(keyword,filename = 'log.txt'):\n",
    "    try:\n",
    "        with open(filename,'r') as file:\n",
    "            for line in file:\n",
    "                if keyword in line:\n",
    "                    print(line.strip())\n",
    "    except Exception as e:\n",
    "        print('Exception Ocuured',e)"
   ]
  },
  {
   "cell_type": "code",
   "execution_count": 85,
   "id": "4b5b92ec-65f8-4a9e-ad3b-735fa9996213",
   "metadata": {},
   "outputs": [
    {
     "name": "stdout",
     "output_type": "stream",
     "text": [
      "Learning Python is fun.\n",
      "Python is versatile.\n",
      "Python can be used for automation and scripting.\n"
     ]
    }
   ],
   "source": [
    "filter_lines('Python')"
   ]
  },
  {
   "cell_type": "code",
   "execution_count": null,
   "id": "8562f67c-84b6-4fe6-aeeb-366ce138b02e",
   "metadata": {},
   "outputs": [],
   "source": []
  }
 ],
 "metadata": {
  "kernelspec": {
   "display_name": "Python 3 (ipykernel)",
   "language": "python",
   "name": "python3"
  },
  "language_info": {
   "codemirror_mode": {
    "name": "ipython",
    "version": 3
   },
   "file_extension": ".py",
   "mimetype": "text/x-python",
   "name": "python",
   "nbconvert_exporter": "python",
   "pygments_lexer": "ipython3",
   "version": "3.12.7"
  }
 },
 "nbformat": 4,
 "nbformat_minor": 5
}
