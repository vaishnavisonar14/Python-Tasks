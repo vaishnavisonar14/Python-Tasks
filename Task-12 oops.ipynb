{
 "cells": [
  {
   "cell_type": "markdown",
   "id": "3e87c028-48b0-4a14-844f-89bbae540708",
   "metadata": {},
   "source": [
    "# Python: OOPS - 1 (Object-Oriented Programming)\n"
   ]
  },
  {
   "cell_type": "markdown",
   "id": "61e99616-a53c-41a6-84e8-5a87f9a23aed",
   "metadata": {},
   "source": [
    "# 1. Write a python program to create a ‘Vehicle’ Class with Static and Instance Attributes.\n",
    "Objective:\n",
    "Understand the difference between static (class) variables and instance attributes & Write a class Vehicle with a static variable max_speed and an instance attribute mileage.\n",
    "# Sample Input:\n",
    "v1 = Vehicle(18)  \n",
    "print(v1.max_speed)  \n",
    "print(v1.mileage)\n",
    "# Expected Output:\n",
    "240  \n",
    "18\n"
   ]
  },
  {
   "cell_type": "code",
   "execution_count": 4,
   "id": "ba6aec20-c20c-41f2-bc49-19c7ed7105cb",
   "metadata": {},
   "outputs": [],
   "source": [
    "class Vehicle:\n",
    "    max_speed  = 240\n",
    "    def __init__(self,mileage):\n",
    "        self.mileage = mileage\n",
    "v1 = Vehicle(18)        "
   ]
  },
  {
   "cell_type": "code",
   "execution_count": 5,
   "id": "e6f93569-04a2-439e-9ee4-f6aa959f587e",
   "metadata": {},
   "outputs": [
    {
     "name": "stdout",
     "output_type": "stream",
     "text": [
      "240\n",
      "18\n"
     ]
    }
   ],
   "source": [
    "print(v1.max_speed)\n",
    "print(v1.mileage)"
   ]
  },
  {
   "cell_type": "markdown",
   "id": "e615c857-43f0-4b4f-b036-604177a15160",
   "metadata": {},
   "source": [
    "# 2. Create a class called 'Car' with attributes 'make' and 'model'. Instantiate an object of this class and print its attributes.\n",
    "Objective:\n",
    " Once you create the Car class and print the attributes, expand it by adding a method called display_info that prints the make and model of the car. Create an object and call this method.\n",
    "# Sample Input:\n",
    "c1 = Car(\"Toyota\", \"Corolla\")\n",
    "Then call the method:\n",
    "c1.display_info()\n",
    "\n",
    "# Expected Output:\n",
    "Toyota  \n",
    "Corolla  \n",
    "This car is a Toyota Corolla.\n"
   ]
  },
  {
   "cell_type": "code",
   "execution_count": 27,
   "id": "6c3792da-3b8d-44eb-bdb9-a3a870e9d610",
   "metadata": {},
   "outputs": [],
   "source": [
    "class car:\n",
    "    def __init__(self,make,model):\n",
    "        self.make = make\n",
    "        self.model = model\n",
    "    def display_info(self):\n",
    "        print(self.make)\n",
    "        print(self.model)\n",
    "        print(f\"This car is {self.make} {self.model}\")"
   ]
  },
  {
   "cell_type": "code",
   "execution_count": 28,
   "id": "40b3c84c-682b-4a31-9469-99ee58d1d32d",
   "metadata": {},
   "outputs": [
    {
     "name": "stdout",
     "output_type": "stream",
     "text": [
      "Toyota\n",
      "Corolla\n",
      "This car is Toyota Corolla\n"
     ]
    }
   ],
   "source": [
    "c1 = car('Toyota','Corolla')\n",
    "c1.display_info()"
   ]
  },
  {
   "cell_type": "markdown",
   "id": "22a6bdd6-e9f4-4afe-b10a-d6dbc4887368",
   "metadata": {},
   "source": [
    "# 3. Modify the ‘Car’ class to include a constructor and a class method.\n",
    "Objective:\n",
    "Add a constructor (__init__) to initialize the make and model attributes when a car object is created. Then, add a class method get_total_cars that returns the total number of cars created. Call the method without creating a new object.\n",
    "# Sample Input:\n",
    "c1 = Car(\"Honda\", \"Civic\")\n",
    "Car.get_total_cars()\n",
    "# Expected Output:\n",
    "Total Cars: 1\n"
   ]
  },
  {
   "cell_type": "code",
   "execution_count": null,
   "id": "2f1f6475-6b18-45e2-8d35-1b5d4d581e9b",
   "metadata": {},
   "outputs": [],
   "source": [
    "class car:\n",
    "    Total_car = 0\n",
    "    def __init__(self,make,model):\n",
    "        self.make = make\n",
    "        self.model = model\n",
    "        car.Total_car += 1\n",
    "    def get_Total_car(self):\n",
    "        print(f\"Total car {self.Total_car}\n",
    "\n"
   ]
  },
  {
   "cell_type": "code",
   "execution_count": null,
   "id": "d5ec15fe-62b1-45ae-9c2e-a0afd7b98b47",
   "metadata": {},
   "outputs": [],
   "source": []
  }
 ],
 "metadata": {
  "kernelspec": {
   "display_name": "Python 3 (ipykernel)",
   "language": "python",
   "name": "python3"
  },
  "language_info": {
   "codemirror_mode": {
    "name": "ipython",
    "version": 3
   },
   "file_extension": ".py",
   "mimetype": "text/x-python",
   "name": "python",
   "nbconvert_exporter": "python",
   "pygments_lexer": "ipython3",
   "version": "3.12.7"
  }
 },
 "nbformat": 4,
 "nbformat_minor": 5
}
