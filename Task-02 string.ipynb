{
 "cells": [
  {
   "cell_type": "markdown",
   "id": "ba248872-b02c-44fa-8539-118c16a6cdb7",
   "metadata": {},
   "source": [
    "# Section 1: String \n",
    "\n",
    "Mask a credit card number (show only the last 4 digits).\n",
    "\n",
    " Input: \"1234567812345678\"\n",
    "\n",
    " Output: \"************5678\"\n"
   ]
  },
  {
   "cell_type": "markdown",
   "id": "a825928a-cf4e-4a53-b8e3-c47f13fec8de",
   "metadata": {},
   "source": [
    "# 1.Mask a credit card number (show only the last 4 digits)"
   ]
  },
  {
   "cell_type": "code",
   "execution_count": 1,
   "id": "985bad80-70c6-4f0b-b08b-150db8f56dbb",
   "metadata": {},
   "outputs": [
    {
     "data": {
      "text/plain": [
       "16"
      ]
     },
     "execution_count": 1,
     "metadata": {},
     "output_type": "execute_result"
    }
   ],
   "source": [
    "card_number = \"1234567812345678\"\n",
    "len(card_number)"
   ]
  },
  {
   "cell_type": "code",
   "execution_count": 2,
   "id": "b396facc-8406-4fd8-94da-d7b737e7c5d0",
   "metadata": {},
   "outputs": [],
   "source": [
    "masked_number = \"*\" * (len(card_number)-4) + card_number[-4:]"
   ]
  },
  {
   "cell_type": "code",
   "execution_count": 3,
   "id": "082966b1-06f5-4bce-9e7c-3028d5fee313",
   "metadata": {},
   "outputs": [
    {
     "data": {
      "text/plain": [
       "'************5678'"
      ]
     },
     "execution_count": 3,
     "metadata": {},
     "output_type": "execute_result"
    }
   ],
   "source": [
    "masked_number"
   ]
  },
  {
   "cell_type": "markdown",
   "id": "656600d6-e74e-493e-a015-021a5efde835",
   "metadata": {},
   "source": [
    "# 2.Extract the domain name from an email address.\n",
    "\n",
    " Input: \"Ved.M@company.com\"\n",
    "\n",
    " Output: \"company.com\"\n"
   ]
  },
  {
   "cell_type": "code",
   "execution_count": 4,
   "id": "44a52d5e-2bbe-49fb-810d-f577893b4d7f",
   "metadata": {},
   "outputs": [
    {
     "data": {
      "text/plain": [
       "'company.com'"
      ]
     },
     "execution_count": 4,
     "metadata": {},
     "output_type": "execute_result"
    }
   ],
   "source": [
    "input = \"ved.M@company.com\"\n",
    "input.replace(\"ved.M@company.com\",\"company.com\")\n"
   ]
  },
  {
   "cell_type": "markdown",
   "id": "ba3d21d7-84c5-41f1-ad19-67960dc59109",
   "metadata": {},
   "source": [
    "# 3.Convert a sentence into title case (capitalize the first letter of each word).\n",
    "\n",
    " Input: \"learning python is fun and powerful\"\n",
    "\n",
    " Output: \"Learning Python Is Fun And Powerful\"\n"
   ]
  },
  {
   "cell_type": "code",
   "execution_count": 5,
   "id": "82a88dac-904e-4140-b641-e22749b37dbf",
   "metadata": {},
   "outputs": [
    {
     "data": {
      "text/plain": [
       "'Learnig Python Is Fun And Powerful'"
      ]
     },
     "execution_count": 5,
     "metadata": {},
     "output_type": "execute_result"
    }
   ],
   "source": [
    "input = \"learnig python is fun and powerful\"\n",
    "input.title()"
   ]
  },
  {
   "cell_type": "markdown",
   "id": "335b3692-a71d-4db2-932e-f522268e295d",
   "metadata": {},
   "source": [
    "# 4.Check if a given sentence is a palindrome.\n",
    "\n",
    " Input: \"A man a plan a canal Panama\"\n",
    "\n",
    " Output: True\n"
   ]
  },
  {
   "cell_type": "code",
   "execution_count": 153,
   "id": "0cd70114-5e33-4eb8-aed0-eebbf7cb332b",
   "metadata": {},
   "outputs": [],
   "source": [
    "input = \"A man a plan a canal Panama\"\n",
    "cln_sen = input.replace(\" \",\"\")"
   ]
  },
  {
   "cell_type": "code",
   "execution_count": 154,
   "id": "e95edee5-8290-413c-bc46-b326d497611d",
   "metadata": {},
   "outputs": [
    {
     "data": {
      "text/plain": [
       "'AmanaplanacanalPanama'"
      ]
     },
     "execution_count": 154,
     "metadata": {},
     "output_type": "execute_result"
    }
   ],
   "source": [
    "cln_sen"
   ]
  },
  {
   "cell_type": "code",
   "execution_count": 157,
   "id": "b7c6445f-8166-4364-a823-92206069bcaa",
   "metadata": {},
   "outputs": [],
   "source": [
    "cln_sen =cln_sen.lower()"
   ]
  },
  {
   "cell_type": "code",
   "execution_count": 158,
   "id": "809fe857-8c1f-4f8d-b969-3f7bd2d09c1e",
   "metadata": {},
   "outputs": [
    {
     "data": {
      "text/plain": [
       "'amanaplanacanalpanama'"
      ]
     },
     "execution_count": 158,
     "metadata": {},
     "output_type": "execute_result"
    }
   ],
   "source": [
    "cln_sen"
   ]
  },
  {
   "cell_type": "code",
   "execution_count": 159,
   "id": "1383b78b-14bc-4460-9d0f-77f44e4f93ec",
   "metadata": {},
   "outputs": [],
   "source": [
    "res_sen = cln_sen[::-1]"
   ]
  },
  {
   "cell_type": "code",
   "execution_count": 160,
   "id": "cc872d71-8e54-4396-b731-f33a8cc4a6b9",
   "metadata": {},
   "outputs": [
    {
     "data": {
      "text/plain": [
       "'amanaplanacanalpanama'"
      ]
     },
     "execution_count": 160,
     "metadata": {},
     "output_type": "execute_result"
    }
   ],
   "source": [
    "res_sen"
   ]
  },
  {
   "cell_type": "code",
   "execution_count": 163,
   "id": "54420907-6bd3-48c9-aef0-98c22ac49c2d",
   "metadata": {},
   "outputs": [],
   "source": [
    "is_palindrome = cln_sen == res_sen"
   ]
  },
  {
   "cell_type": "code",
   "execution_count": 164,
   "id": "13e8ae16-5d44-4f1b-9632-671318184391",
   "metadata": {},
   "outputs": [
    {
     "data": {
      "text/plain": [
       "True"
      ]
     },
     "execution_count": 164,
     "metadata": {},
     "output_type": "execute_result"
    }
   ],
   "source": [
    "is_palindrome"
   ]
  },
  {
   "cell_type": "markdown",
   "id": "a1ec3e2a-4e9f-475e-a0ed-61943ea40944",
   "metadata": {},
   "source": [
    "\n",
    "# 5.Replace all occurrences of a word \"Python\" with \"Data Science\" except the first one.\n",
    "\n",
    " Input: \"Python is great. Python is fun. Python is powerful.\"\n",
    "\n",
    " Output: \"Python is great. Data Science is fun. Data Science is powerful.\"\n"
   ]
  },
  {
   "cell_type": "code",
   "execution_count": 102,
   "id": "04a8724a-f6fd-4afe-8eb3-2b12512c15eb",
   "metadata": {},
   "outputs": [],
   "source": [
    "input = \"Python is great. Python is fun.Python is powerful.\"\n"
   ]
  },
  {
   "cell_type": "code",
   "execution_count": 104,
   "id": "adcc309d-1ea5-4e2c-85d0-599aab4babc0",
   "metadata": {},
   "outputs": [
    {
     "name": "stdout",
     "output_type": "stream",
     "text": [
      "Data Science is great. Data Science is fun.Data Science is powerful.\n"
     ]
    }
   ],
   "source": [
    "input=input.replace(\"Python\",\"Data Science\")\n",
    "print(input)"
   ]
  },
  {
   "cell_type": "code",
   "execution_count": 106,
   "id": "4f7f7c74-74fc-420e-bde6-05660b5fa971",
   "metadata": {},
   "outputs": [
    {
     "name": "stdout",
     "output_type": "stream",
     "text": [
      "Python is great. Data Science is fun.Data Science is powerful.\n"
     ]
    }
   ],
   "source": [
    "input = input.replace(\"Data Science is great\",\"Python is great\")\n",
    "print(input)"
   ]
  },
  {
   "cell_type": "markdown",
   "id": "7b138748-4585-4381-8085-48719a3fc9f5",
   "metadata": {},
   "source": [
    "# 6.Convert a file path to a URL format.\n",
    "\n",
    " Input: \"C:\\Users\\Ved\\Documents\\file.txt\"\n",
    "\n",
    " Output: \"C:/Users/Ved/Documents/file.txt\"\n"
   ]
  },
  {
   "cell_type": "code",
   "execution_count": 39,
   "id": "6795cd4c-210f-468c-b617-4ea092bddfa1",
   "metadata": {},
   "outputs": [],
   "source": [
    "file_path = r\"C:\\Users\\Ved\\Documents\\file.txt\"\n",
    "url_format = file_path.replace(\"\\\\\" ,\"/\")"
   ]
  },
  {
   "cell_type": "code",
   "execution_count": 40,
   "id": "8bc41fd2-2bc7-472c-b96b-15eff6193855",
   "metadata": {},
   "outputs": [
    {
     "data": {
      "text/plain": [
       "'C:/Users/Ved/Documents/file.txt'"
      ]
     },
     "execution_count": 40,
     "metadata": {},
     "output_type": "execute_result"
    }
   ],
   "source": [
    "url_format"
   ]
  },
  {
   "cell_type": "markdown",
   "id": "e20de550-1c5f-4f50-9fee-946bd11c8af9",
   "metadata": {},
   "source": [
    "# 7.Extract the first name and last name from a full name.\n",
    "\n",
    " Input: \"Ved Kumar MT\"\n",
    "\n",
    " Output: \"First Name: Ved, Last Name: MT\"\n"
   ]
  },
  {
   "cell_type": "code",
   "execution_count": 165,
   "id": "aa674bdd-984c-4d9c-9276-4fc21bf2e757",
   "metadata": {},
   "outputs": [
    {
     "ename": "TypeError",
     "evalue": "'str' object is not callable",
     "output_type": "error",
     "traceback": [
      "\u001b[1;31m---------------------------------------------------------------------------\u001b[0m",
      "\u001b[1;31mTypeError\u001b[0m                                 Traceback (most recent call last)",
      "Cell \u001b[1;32mIn[165], line 1\u001b[0m\n\u001b[1;32m----> 1\u001b[0m first_name \u001b[38;5;241m=\u001b[39m \u001b[38;5;28minput\u001b[39m(\u001b[38;5;124m\"\u001b[39m\u001b[38;5;124mEnter first name: \u001b[39m\u001b[38;5;124m\"\u001b[39m)\n\u001b[0;32m      2\u001b[0m \u001b[38;5;28mprint\u001b[39m(\u001b[38;5;124m\"\u001b[39m\u001b[38;5;124mFirst name=\u001b[39m\u001b[38;5;124m\"\u001b[39m,first_name)\n\u001b[0;32m      3\u001b[0m last_name \u001b[38;5;241m=\u001b[39m \u001b[38;5;28minput\u001b[39m(\u001b[38;5;124m\"\u001b[39m\u001b[38;5;124mEnter last name: \u001b[39m\u001b[38;5;124m\"\u001b[39m)\n",
      "\u001b[1;31mTypeError\u001b[0m: 'str' object is not callable"
     ]
    }
   ],
   "source": [
    "first_name = input(\"Enter first name: \")\n",
    "print(\"First name=\",first_name)\n",
    "last_name = input(\"Enter last name: \")\n",
    "print(\"Last name=\",last_name)"
   ]
  },
  {
   "cell_type": "code",
   "execution_count": 166,
   "id": "84c2c467-fc85-4e91-8b8a-d12c9c236061",
   "metadata": {},
   "outputs": [],
   "source": [
    "input = \"some text\""
   ]
  },
  {
   "cell_type": "code",
   "execution_count": 167,
   "id": "b174e0c8-87a2-4d7b-9e15-235749b07689",
   "metadata": {},
   "outputs": [
    {
     "data": {
      "text/plain": [
       "'some text'"
      ]
     },
     "execution_count": 167,
     "metadata": {},
     "output_type": "execute_result"
    }
   ],
   "source": [
    "input"
   ]
  },
  {
   "cell_type": "code",
   "execution_count": 168,
   "id": "664ab1e1-6920-4232-a646-5b1a79df83b2",
   "metadata": {},
   "outputs": [],
   "source": [
    "del input"
   ]
  },
  {
   "cell_type": "code",
   "execution_count": null,
   "id": "b7bda8a3-02b8-4625-badc-fc3d6904e196",
   "metadata": {},
   "outputs": [],
   "source": [
    "first_name = input(\"Enter first name: \")\n",
    "print(\"First name=\",first_name)\n",
    "last_name = input(\"Enter last name: \")\n",
    "print(\"Last name=\",last_name)"
   ]
  },
  {
   "cell_type": "code",
   "execution_count": null,
   "id": "d0bc7ade-6972-428c-ae4f-fb4df88dac91",
   "metadata": {},
   "outputs": [],
   "source": []
  },
  {
   "cell_type": "markdown",
   "id": "209bae68-99fd-4076-8390-e0fafa562aec",
   "metadata": {},
   "source": [
    "# 8.Find the position of the first and last occurrence of a word “Python”  in a sentence.\n",
    "\n",
    " Input: \"I love Python because Python is powerful and Python is fun.\"\n",
    "\n",
    " Output: \"First: 7, Last: 41\"\n"
   ]
  },
  {
   "cell_type": "code",
   "execution_count": 19,
   "id": "b716bb73-e3b1-4e1b-887d-a940d39aa28d",
   "metadata": {},
   "outputs": [
    {
     "name": "stdout",
     "output_type": "stream",
     "text": [
      "First: 7, Last: 45\n"
     ]
    }
   ],
   "source": [
    "sentence = \"I love Python because Python is powerful and Python is fun.\"\n",
    "word = \"Python\"\n",
    "\n",
    "\n",
    "first_position = sentence.find(word)\n",
    "last_position = sentence.rfind(word)\n",
    "\n",
    "print(f\"First: {first_position}, Last: {last_position}\")"
   ]
  },
  {
   "cell_type": "markdown",
   "id": "378dc18e-5597-4cc9-bc29-dd631a816db8",
   "metadata": {},
   "source": [
    "# 9.Perform various string operations on a given text.\n",
    "\n",
    " Input: \"$python is fun, python is easy, but python is tough when you don't practice it revise it@”\n",
    "\n",
    "\n",
    "How many characters are present in the above string?\n",
    "Split the string using commas (,)\n",
    "Count the frequency of \"python\"\n",
    "Count the frequency of \"is\"\n",
    "Check the results of +, -, *, /, // operations on 3 and 4\n",
    "Replace \"when \" with \"if and only if\"\n",
    "\n"
   ]
  },
  {
   "cell_type": "code",
   "execution_count": 41,
   "id": "7ae7f782-e7bc-4e7b-a042-4b8cf8c11bd8",
   "metadata": {},
   "outputs": [],
   "source": [
    "text = \"$python is fun, python is easy, but python is tough when you don't practice it revise it@\""
   ]
  },
  {
   "cell_type": "code",
   "execution_count": 42,
   "id": "9f8b4e37-a986-4b0a-aec6-164ff9f8823c",
   "metadata": {},
   "outputs": [
    {
     "data": {
      "text/plain": [
       "89"
      ]
     },
     "execution_count": 42,
     "metadata": {},
     "output_type": "execute_result"
    }
   ],
   "source": [
    "len(text)"
   ]
  },
  {
   "cell_type": "code",
   "execution_count": 43,
   "id": "e5d85c02-5038-4509-a76f-7c20b84946f6",
   "metadata": {},
   "outputs": [],
   "source": [
    "split_text = text.split(',')"
   ]
  },
  {
   "cell_type": "code",
   "execution_count": 44,
   "id": "221bd419-220b-48a3-a99d-5e06edf81757",
   "metadata": {},
   "outputs": [
    {
     "data": {
      "text/plain": [
       "['$python is fun',\n",
       " ' python is easy',\n",
       " \" but python is tough when you don't practice it revise it@\"]"
      ]
     },
     "execution_count": 44,
     "metadata": {},
     "output_type": "execute_result"
    }
   ],
   "source": [
    "split_text"
   ]
  },
  {
   "cell_type": "code",
   "execution_count": 48,
   "id": "9e833fd1-8190-4d2d-85f8-50848836a5b8",
   "metadata": {},
   "outputs": [],
   "source": [
    "python_frequency = text.lower().count(\"python\")"
   ]
  },
  {
   "cell_type": "code",
   "execution_count": 46,
   "id": "c613bda4-dc89-4e33-b6e2-790eea7a5965",
   "metadata": {},
   "outputs": [
    {
     "data": {
      "text/plain": [
       "3"
      ]
     },
     "execution_count": 46,
     "metadata": {},
     "output_type": "execute_result"
    }
   ],
   "source": [
    "python_frequency"
   ]
  },
  {
   "cell_type": "code",
   "execution_count": 49,
   "id": "e4e88344-aa83-4ffe-8763-ff0c2a28c9f1",
   "metadata": {},
   "outputs": [],
   "source": [
    "is_frequency = text.lower().count(\"is\")"
   ]
  },
  {
   "cell_type": "code",
   "execution_count": 50,
   "id": "c41a54d3-db22-4956-b860-fe3f6ea84eea",
   "metadata": {},
   "outputs": [
    {
     "data": {
      "text/plain": [
       "4"
      ]
     },
     "execution_count": 50,
     "metadata": {},
     "output_type": "execute_result"
    }
   ],
   "source": [
    "is_frequency"
   ]
  },
  {
   "cell_type": "markdown",
   "id": "c9f7a1d1-e910-4ca5-a098-0fb657e05d40",
   "metadata": {},
   "source": [
    "# Check the results of +, -, *, /, // operations on 3 and 4\n"
   ]
  },
  {
   "cell_type": "code",
   "execution_count": 51,
   "id": "2f9cb00a-a309-4751-a3e3-afb45fbc3229",
   "metadata": {},
   "outputs": [],
   "source": [
    "a = 3\n",
    "b = 4"
   ]
  },
  {
   "cell_type": "code",
   "execution_count": 52,
   "id": "65e2b2ba-0099-4005-b9c0-989cb5047a7b",
   "metadata": {},
   "outputs": [
    {
     "data": {
      "text/plain": [
       "7"
      ]
     },
     "execution_count": 52,
     "metadata": {},
     "output_type": "execute_result"
    }
   ],
   "source": [
    "a + b"
   ]
  },
  {
   "cell_type": "code",
   "execution_count": 53,
   "id": "71207169-3e39-4d4e-9a0f-ee584fe12519",
   "metadata": {},
   "outputs": [
    {
     "data": {
      "text/plain": [
       "-1"
      ]
     },
     "execution_count": 53,
     "metadata": {},
     "output_type": "execute_result"
    }
   ],
   "source": [
    "a - b"
   ]
  },
  {
   "cell_type": "code",
   "execution_count": 54,
   "id": "5c15f282-be19-4d69-9da3-bd812f81a6ba",
   "metadata": {},
   "outputs": [
    {
     "data": {
      "text/plain": [
       "12"
      ]
     },
     "execution_count": 54,
     "metadata": {},
     "output_type": "execute_result"
    }
   ],
   "source": [
    "a * b"
   ]
  },
  {
   "cell_type": "code",
   "execution_count": 55,
   "id": "fff77473-ad80-4715-88d7-df9bd00674a7",
   "metadata": {},
   "outputs": [
    {
     "data": {
      "text/plain": [
       "0.75"
      ]
     },
     "execution_count": 55,
     "metadata": {},
     "output_type": "execute_result"
    }
   ],
   "source": [
    "a / b"
   ]
  },
  {
   "cell_type": "code",
   "execution_count": 56,
   "id": "f7cf1102-343a-47a9-8a22-cb8d7949971d",
   "metadata": {},
   "outputs": [
    {
     "data": {
      "text/plain": [
       "0"
      ]
     },
     "execution_count": 56,
     "metadata": {},
     "output_type": "execute_result"
    }
   ],
   "source": [
    "a // b"
   ]
  },
  {
   "cell_type": "markdown",
   "id": "3d2dbb18-aac4-4d55-ae94-f9c79dcccd40",
   "metadata": {},
   "source": [
    " # Replace \"when \" with \"if and only if\"\n"
   ]
  },
  {
   "cell_type": "code",
   "execution_count": 57,
   "id": "4a7f41a7-bd68-4b44-ae97-4c53c4b54a63",
   "metadata": {},
   "outputs": [],
   "source": [
    "text = \"$python is fun, python is easy, but python is tough when you don't practice it revise it@\""
   ]
  },
  {
   "cell_type": "code",
   "execution_count": 58,
   "id": "c10f15ad-6f65-45c7-ae7f-7982eb07fe85",
   "metadata": {},
   "outputs": [],
   "source": [
    "modified_text = text.replace(\"when\",\"if and only if\")"
   ]
  },
  {
   "cell_type": "code",
   "execution_count": 59,
   "id": "941b4bcd-38fa-48f1-9067-970e3215e932",
   "metadata": {},
   "outputs": [
    {
     "data": {
      "text/plain": [
       "\"$python is fun, python is easy, but python is tough if and only if you don't practice it revise it@\""
      ]
     },
     "execution_count": 59,
     "metadata": {},
     "output_type": "execute_result"
    }
   ],
   "source": [
    "modified_text"
   ]
  },
  {
   "cell_type": "markdown",
   "id": "4aae439a-5d5e-40d0-9d33-c5b738c89c4d",
   "metadata": {},
   "source": [
    " # 10.Perform different operations on a given sentence."
   ]
  },
  {
   "cell_type": "markdown",
   "id": "e5d724f8-5f90-45ff-8fdf-903ea71fccf6",
   "metadata": {},
   "source": [
    "Input: \" Hello World I am learning Python in Innomatics \"\n",
    "Find the total number of characters in the string.\n",
    "Extract only the word \"Python\" from the string.\n",
    "Trim the white spaces from both sides and find the new character count.\n",
    "Convert the entire string to uppercase.\n",
    "Find the index position of \"World\" in the string.\n",
    "Split the string using whitespace, store it in a variable, and print the data type of the resulting variable.\n"
   ]
  },
  {
   "cell_type": "code",
   "execution_count": 64,
   "id": "23af1cb9-9290-4ff3-9708-ab5574360076",
   "metadata": {},
   "outputs": [],
   "source": [
    "sentence = \" Hello World I am learning Python in Innomatics \"\n"
   ]
  },
  {
   "cell_type": "code",
   "execution_count": 65,
   "id": "30872b23-8701-4496-9cd9-4ac850aa9e8c",
   "metadata": {},
   "outputs": [
    {
     "data": {
      "text/plain": [
       "48"
      ]
     },
     "execution_count": 65,
     "metadata": {},
     "output_type": "execute_result"
    }
   ],
   "source": [
    "len(sentence)"
   ]
  },
  {
   "cell_type": "code",
   "execution_count": 66,
   "id": "a24d245c-ed1c-4d7c-88c1-517c6951405b",
   "metadata": {},
   "outputs": [],
   "source": [
    "word_python = \"python\""
   ]
  },
  {
   "cell_type": "code",
   "execution_count": 67,
   "id": "68190adb-b615-4acb-aa7b-5651c214b531",
   "metadata": {},
   "outputs": [
    {
     "data": {
      "text/plain": [
       "'python'"
      ]
     },
     "execution_count": 67,
     "metadata": {},
     "output_type": "execute_result"
    }
   ],
   "source": [
    "word_python"
   ]
  },
  {
   "cell_type": "code",
   "execution_count": 81,
   "id": "c3229f25-68b8-4535-adbc-236e0ef42402",
   "metadata": {},
   "outputs": [],
   "source": [
    "sentence = \" Hello World I am learning Python in Innomatics \"\n"
   ]
  },
  {
   "cell_type": "code",
   "execution_count": 73,
   "id": "d0ea6e4b-1d87-4464-bab3-86f06509563c",
   "metadata": {},
   "outputs": [
    {
     "data": {
      "text/plain": [
       "'Hello World I am learning Python in Innomatics'"
      ]
     },
     "execution_count": 73,
     "metadata": {},
     "output_type": "execute_result"
    }
   ],
   "source": [
    "sentence.strip()"
   ]
  },
  {
   "cell_type": "code",
   "execution_count": 74,
   "id": "805ed8d2-9f5d-4c07-971b-a60b07494849",
   "metadata": {},
   "outputs": [
    {
     "data": {
      "text/plain": [
       "48"
      ]
     },
     "execution_count": 74,
     "metadata": {},
     "output_type": "execute_result"
    }
   ],
   "source": [
    "len(sentence)"
   ]
  },
  {
   "cell_type": "code",
   "execution_count": 77,
   "id": "46872d18-268f-4648-b728-556944840af0",
   "metadata": {},
   "outputs": [
    {
     "data": {
      "text/plain": [
       "'HELLO WORLD I AM LEARNING PYTHON IN INNOMATICS'"
      ]
     },
     "execution_count": 77,
     "metadata": {},
     "output_type": "execute_result"
    }
   ],
   "source": [
    "sentence.strip().upper()"
   ]
  },
  {
   "cell_type": "code",
   "execution_count": 83,
   "id": "fa43830b-8b0a-4b6a-8272-7e1a29b3ae5f",
   "metadata": {},
   "outputs": [
    {
     "data": {
      "text/plain": [
       "7"
      ]
     },
     "execution_count": 83,
     "metadata": {},
     "output_type": "execute_result"
    }
   ],
   "source": [
    "index_of_world = sentence.find(\"World\")\n",
    "index_of_world"
   ]
  },
  {
   "cell_type": "code",
   "execution_count": 91,
   "id": "0d72d299-5074-4166-a327-37ee84209fa0",
   "metadata": {},
   "outputs": [],
   "source": [
    "split_words = sentence.split()"
   ]
  },
  {
   "cell_type": "code",
   "execution_count": 92,
   "id": "9e42a308-bace-45c7-a6fe-8ec3706309b2",
   "metadata": {},
   "outputs": [
    {
     "data": {
      "text/plain": [
       "list"
      ]
     },
     "execution_count": 92,
     "metadata": {},
     "output_type": "execute_result"
    }
   ],
   "source": [
    "type_of_split = type(split_words)\n",
    "type_of_split\n"
   ]
  },
  {
   "cell_type": "markdown",
   "id": "8b4a9539-d454-46b9-9de1-5234694a04df",
   "metadata": {},
   "source": [
    "# 11.Perform various string operations on a given sentence."
   ]
  },
  {
   "cell_type": "markdown",
   "id": "e55e13d4-e28a-4f44-8550-061ba052a627",
   "metadata": {},
   "source": [
    "Input: \"Data Science is an evolving field with endless opportunities.\"\n",
    "Access the first character of the string using indexing.\n",
    "Access the last character using negative indexing.\n",
    "Extract the word \"Science\" using forward slicing.\n",
    "Extract the word \"opportunities\" using reverse slicing.\n",
    "Print the string in reverse order using slicing.\n"
   ]
  },
  {
   "cell_type": "code",
   "execution_count": 93,
   "id": "8da54036-decb-4cf6-b190-b0dc4064be40",
   "metadata": {},
   "outputs": [],
   "source": [
    "text =  \"Data Science is an evolving field with endless opportunities.\""
   ]
  },
  {
   "cell_type": "code",
   "execution_count": 94,
   "id": "d38ccd96-7ac3-4a19-bbb6-601755e154c4",
   "metadata": {},
   "outputs": [
    {
     "data": {
      "text/plain": [
       "'D'"
      ]
     },
     "execution_count": 94,
     "metadata": {},
     "output_type": "execute_result"
    }
   ],
   "source": [
    "text[0]"
   ]
  },
  {
   "cell_type": "code",
   "execution_count": 95,
   "id": "93df2ad0-6187-4440-bd29-cef1d20386d7",
   "metadata": {},
   "outputs": [
    {
     "data": {
      "text/plain": [
       "'.'"
      ]
     },
     "execution_count": 95,
     "metadata": {},
     "output_type": "execute_result"
    }
   ],
   "source": [
    "text[-1]"
   ]
  },
  {
   "cell_type": "code",
   "execution_count": 96,
   "id": "0001f7f4-7f6d-451b-9c8a-95c17de8f27a",
   "metadata": {},
   "outputs": [
    {
     "data": {
      "text/plain": [
       "'Science'"
      ]
     },
     "execution_count": 96,
     "metadata": {},
     "output_type": "execute_result"
    }
   ],
   "source": [
    "text[5:12]"
   ]
  },
  {
   "cell_type": "code",
   "execution_count": 97,
   "id": "0bd4fcc6-d14f-4882-bd9f-8ca8ebc8806e",
   "metadata": {},
   "outputs": [
    {
     "data": {
      "text/plain": [
       "'opportunities.'"
      ]
     },
     "execution_count": 97,
     "metadata": {},
     "output_type": "execute_result"
    }
   ],
   "source": [
    "text[-14:]"
   ]
  },
  {
   "cell_type": "code",
   "execution_count": 98,
   "id": "9258ecea-2b30-4d70-a385-325e6874409d",
   "metadata": {},
   "outputs": [
    {
     "data": {
      "text/plain": [
       "'.seitinutroppo sseldne htiw dleif gnivlove na si ecneicS ataD'"
      ]
     },
     "execution_count": 98,
     "metadata": {},
     "output_type": "execute_result"
    }
   ],
   "source": [
    "text[::-1]"
   ]
  },
  {
   "cell_type": "code",
   "execution_count": null,
   "id": "a25640c9-66aa-4474-b2a0-7ce189caff2f",
   "metadata": {},
   "outputs": [],
   "source": []
  }
 ],
 "metadata": {
  "kernelspec": {
   "display_name": "Python 3 (ipykernel)",
   "language": "python",
   "name": "python3"
  },
  "language_info": {
   "codemirror_mode": {
    "name": "ipython",
    "version": 3
   },
   "file_extension": ".py",
   "mimetype": "text/x-python",
   "name": "python",
   "nbconvert_exporter": "python",
   "pygments_lexer": "ipython3",
   "version": "3.12.7"
  }
 },
 "nbformat": 4,
 "nbformat_minor": 5
}
