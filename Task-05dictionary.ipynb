{
 "cells": [
  {
   "cell_type": "markdown",
   "id": "8d7ca9c5-8a46-4465-8a1e-e9900443b526",
   "metadata": {},
   "source": [
    "# 1: Restaurant Menu Storage\n",
    "# Create a dictionary where dish names serve as keys and their prices as values. Display the menu in a user-friendly format.\n",
    "# Input:\n",
    " Dishes = [\"Pasta\", \"Biryani\", \"Apricot\"]\n",
    "Prices = [200, 300, 180]\n",
    "# Expected Output:\n",
    " {“Pasta” : 200, ”Biryani” : 300, “Apricot” : 180}\n"
   ]
  },
  {
   "cell_type": "code",
   "execution_count": 3,
   "id": "27961184-4baf-4f1b-a795-d27192cfabd8",
   "metadata": {},
   "outputs": [],
   "source": [
    "dct = {}"
   ]
  },
  {
   "cell_type": "code",
   "execution_count": 4,
   "id": "0b13a246-07d9-4343-aaf1-9551d12b3322",
   "metadata": {},
   "outputs": [
    {
     "name": "stdout",
     "output_type": "stream",
     "text": [
      "{}\n"
     ]
    }
   ],
   "source": [
    "print(dct)"
   ]
  },
  {
   "cell_type": "code",
   "execution_count": 6,
   "id": "5c47c585-0433-45b0-80b2-34da30a054ff",
   "metadata": {},
   "outputs": [
    {
     "name": "stdout",
     "output_type": "stream",
     "text": [
      "{'Pasta': 200}\n"
     ]
    }
   ],
   "source": [
    "dct [\"Pasta\"] = 200\n",
    "print(dct)"
   ]
  },
  {
   "cell_type": "code",
   "execution_count": 8,
   "id": "cb442f99-a33f-4e39-8fbc-47dadf202b7a",
   "metadata": {},
   "outputs": [
    {
     "name": "stdout",
     "output_type": "stream",
     "text": [
      "{'Pasta': 200, 'Biryani': 300}\n"
     ]
    }
   ],
   "source": [
    "dct [\"Biryani\"] = 300\n",
    "print(dct)"
   ]
  },
  {
   "cell_type": "code",
   "execution_count": 10,
   "id": "09fd02fd-b3ce-4ba0-b2f3-5194eed37777",
   "metadata": {},
   "outputs": [
    {
     "name": "stdout",
     "output_type": "stream",
     "text": [
      "{'Pasta': 200, 'Biryani': 300, 'Apricot': 180}\n"
     ]
    }
   ],
   "source": [
    "dct [\"Apricot\"] = 180\n",
    "print(dct)"
   ]
  },
  {
   "cell_type": "markdown",
   "id": "b92b6cfb-6ad3-44c9-8005-ad88de1184ec",
   "metadata": {},
   "source": [
    "# 2: English-to-Spanish Translation Dictionary\n",
    "Create a dictionary for English-to-Spanish translations and return the Spanish equivalent of a given English word.\n",
    "# Input:\n",
    "dictionary = {\n",
    "    \"Hello\": \"Hola\",\n",
    "    \"Thank You\": \"Gracias\",\n",
    "    \"Goodbye\": \"Adiós\"}\n",
    "# Given word = \"Hello\"\n",
    "Expected Output:\n",
    "Hola\n"
   ]
  },
  {
   "cell_type": "code",
   "execution_count": 11,
   "id": "59d0ef3b-82d0-4c7a-9a24-a022d47e01ac",
   "metadata": {},
   "outputs": [],
   "source": [
    "dictionary = { \"Hello\": \"Hola\", \"Thank You\": \"Gracias\", \"Goodbye\": \"Adiós\"}"
   ]
  },
  {
   "cell_type": "code",
   "execution_count": 14,
   "id": "e19c8007-879d-4ca1-8e72-53c61638a346",
   "metadata": {},
   "outputs": [
    {
     "name": "stdout",
     "output_type": "stream",
     "text": [
      "{'Hello': 'Hola', 'Thank You': 'Gracias', 'Goodbye': 'Adiós'}\n"
     ]
    }
   ],
   "source": [
    "print(dictionary)"
   ]
  },
  {
   "cell_type": "code",
   "execution_count": 18,
   "id": "ce75fc9b-f8b0-459d-90fd-778184f5eed4",
   "metadata": {},
   "outputs": [
    {
     "data": {
      "text/plain": [
       "'Hola'"
      ]
     },
     "execution_count": 18,
     "metadata": {},
     "output_type": "execute_result"
    }
   ],
   "source": [
    "dictionary[\"Hello\"]"
   ]
  },
  {
   "cell_type": "markdown",
   "id": "b61e68df-eb02-4314-9f2c-1386a521514d",
   "metadata": {},
   "source": [
    "# 3: Student Grade Management\n",
    "Store student names and grades in a dictionary, allowing users to enter data and calculate the class average.\n",
    "# Input:\n",
    "grades = {\n",
    "    \"Ved\": 85,\n",
    "    \"Teja\": 90,\n",
    "    \"Pavan\": 78\n",
    "}\n",
    "# Expected Output:\n",
    "Average Grade: 84.3\n"
   ]
  },
  {
   "cell_type": "code",
   "execution_count": 32,
   "id": "39322a38-dd62-4f0b-a68a-ebcc880dd682",
   "metadata": {},
   "outputs": [],
   "source": [
    "grades = { \"Ved\": 85, \"Teja\": 90, \"Pavan\": 78 }"
   ]
  },
  {
   "cell_type": "code",
   "execution_count": 33,
   "id": "cc7b0d43-acda-4529-aee6-70dc1689cb1e",
   "metadata": {},
   "outputs": [],
   "source": [
    "average_grades = sum(grades.values()) / len(grades)"
   ]
  },
  {
   "cell_type": "code",
   "execution_count": 39,
   "id": "78c024a7-6401-40e9-b431-8ff6f06cad8a",
   "metadata": {},
   "outputs": [
    {
     "name": "stdout",
     "output_type": "stream",
     "text": [
      "Average Grade: 84.33333333333333\n"
     ]
    }
   ],
   "source": [
    "print(\"Average Grade:\",average_grades)"
   ]
  },
  {
   "cell_type": "code",
   "execution_count": null,
   "id": "90def35e-c942-4504-8273-4430f11eb3b3",
   "metadata": {},
   "outputs": [],
   "source": []
  },
  {
   "cell_type": "markdown",
   "id": "032bfbac-c010-40d5-ad2c-671da0b892a1",
   "metadata": {},
   "source": [
    "# 4: Employee Salary Management\n",
    "Create a dictionary where employee names are keys and salaries are values. Identify the employee with the highest salary.\n",
    "# Input:\n",
    "salaries = {\n",
    "    \"Ved\": 60000,\n",
    "    \"Pavan\": 75000,\n",
    "    \"Teja\": 50000\n",
    "}\n",
    "# Expected Output:\n",
    "Highest Salary: Pavan - ₹75000\n"
   ]
  },
  {
   "cell_type": "code",
   "execution_count": 40,
   "id": "9249ffb7-8385-4fa0-ae40-c990833b2eeb",
   "metadata": {},
   "outputs": [],
   "source": [
    "salaries = { \"Ved\": 60000, \"Pavan\": 75000, \"Teja\": 50000 }"
   ]
  },
  {
   "cell_type": "code",
   "execution_count": 41,
   "id": "41a40dbc-ec20-4a90-bbea-1e9b59505e70",
   "metadata": {},
   "outputs": [
    {
     "name": "stdout",
     "output_type": "stream",
     "text": [
      "{'Ved': 60000, 'Pavan': 75000, 'Teja': 50000}\n"
     ]
    }
   ],
   "source": [
    "print(salaries)"
   ]
  },
  {
   "cell_type": "code",
   "execution_count": 42,
   "id": "08f88f8d-fd6b-4bc3-ab99-a9c709ef5577",
   "metadata": {},
   "outputs": [],
   "source": [
    "high_sal_emp = max(salaries,key=salaries.get)"
   ]
  },
  {
   "cell_type": "code",
   "execution_count": 43,
   "id": "06627c26-144f-4048-8874-7a4a12f19908",
   "metadata": {},
   "outputs": [
    {
     "data": {
      "text/plain": [
       "'Pavan'"
      ]
     },
     "execution_count": 43,
     "metadata": {},
     "output_type": "execute_result"
    }
   ],
   "source": [
    "high_sal_emp"
   ]
  },
  {
   "cell_type": "code",
   "execution_count": 44,
   "id": "e1278052-5be8-4113-944d-2685ca8f5cff",
   "metadata": {},
   "outputs": [],
   "source": [
    "high_salary = salaries[high_sal_emp]"
   ]
  },
  {
   "cell_type": "code",
   "execution_count": 45,
   "id": "1e8415f1-1f12-4aa5-899f-2af592bf8dde",
   "metadata": {},
   "outputs": [
    {
     "data": {
      "text/plain": [
       "75000"
      ]
     },
     "execution_count": 45,
     "metadata": {},
     "output_type": "execute_result"
    }
   ],
   "source": [
    "high_salary"
   ]
  },
  {
   "cell_type": "code",
   "execution_count": 50,
   "id": "85d62299-4b83-4fea-93e9-f2b68d70340d",
   "metadata": {},
   "outputs": [
    {
     "name": "stdout",
     "output_type": "stream",
     "text": [
      "Highest salary:Pavan-₹75000\n"
     ]
    }
   ],
   "source": [
    "print(f\"Highest salary:{high_sal_emp}-₹{high_salary}\")"
   ]
  },
  {
   "cell_type": "markdown",
   "id": "3ebbb7bf-c1c8-4a66-a7e0-0e7544217826",
   "metadata": {},
   "source": [
    "# 5: Inventory Management System\n",
    "Store product names and stock quantities in a dictionary, and implement a function to check stock availability for a given product.\n",
    "# Input:\n",
    "inventory = {\n",
    "    \"Laptop\": 5,\n",
    "    \"Mouse\": 20,\n",
    "    \"Keyboard\": 15\n",
    "}\n",
    "Given product = \"Mouse\"\n",
    "# Expected Output:\n",
    "Mouse is available: 20 in stock.\n"
   ]
  },
  {
   "cell_type": "code",
   "execution_count": 53,
   "id": "db043e53-b809-4bc4-a90e-3c31c8163ae5",
   "metadata": {},
   "outputs": [],
   "source": [
    "inventory = {\"Laptop\":5,\"Mouse\":20,\"Keyboard\":15}"
   ]
  },
  {
   "cell_type": "code",
   "execution_count": 54,
   "id": "75c7bb57-77c7-4cf9-a94e-410d8874ff24",
   "metadata": {},
   "outputs": [
    {
     "name": "stdout",
     "output_type": "stream",
     "text": [
      "{'Laptop': 5, 'Mouse': 20, 'Keyboard': 15}\n"
     ]
    }
   ],
   "source": [
    "print(inventory)"
   ]
  },
  {
   "cell_type": "code",
   "execution_count": 55,
   "id": "9a88bfcc-3ee6-46c0-bb0e-b144d3842a4d",
   "metadata": {},
   "outputs": [
    {
     "name": "stdout",
     "output_type": "stream",
     "text": [
      "Mouse is available : 20 in stock\n"
     ]
    }
   ],
   "source": [
    "item = \"Mouse\"\n",
    "if item in inventory:\n",
    "    print(f\"{item} is available : {inventory[item]} in stock\")\n",
    "else:\n",
    "    print(f\"{item} is not available\")"
   ]
  },
  {
   "cell_type": "markdown",
   "id": "e1472be7-38c3-488a-8ae4-38c64a9ff16e",
   "metadata": {},
   "source": [
    "# 6: Word Frequency Counter\n",
    "Given a paragraph of text, count the frequency of each unique word and store it in a dictionary.\n",
    "# Input:\n",
    "text = \"apple banana apple orange banana apple\"\n",
    "# Expected Output:\n",
    "{'apple': 3, 'banana': 2, 'orange': 1}\n"
   ]
  },
  {
   "cell_type": "code",
   "execution_count": 56,
   "id": "5d227e8c-04c8-46ad-84bc-fc2a76ed594a",
   "metadata": {},
   "outputs": [],
   "source": [
    "text = \"apple banana apple orange banana apple\""
   ]
  },
  {
   "cell_type": "code",
   "execution_count": 57,
   "id": "fdefa847-6a75-415e-bcff-3d20da669e56",
   "metadata": {},
   "outputs": [
    {
     "name": "stdout",
     "output_type": "stream",
     "text": [
      "apple banana apple orange banana apple\n"
     ]
    }
   ],
   "source": [
    "print(text)"
   ]
  },
  {
   "cell_type": "code",
   "execution_count": 59,
   "id": "9ae2e613-89a8-4b6a-8ac4-2763eac64081",
   "metadata": {},
   "outputs": [
    {
     "name": "stdout",
     "output_type": "stream",
     "text": [
      "['apple', 'banana', 'apple', 'orange', 'banana', 'apple']\n",
      "{'apple': 3, 'banana': 2, 'orange': 1}\n"
     ]
    }
   ],
   "source": [
    "word = text.split()\n",
    "print(word)\n",
    "frts = {}\n",
    "for fruit in word:\n",
    "    frts [fruit] = frts.get(fruit,0)+1\n",
    "print(frts)"
   ]
  },
  {
   "cell_type": "markdown",
   "id": "433565a1-4638-40ed-85cb-bea7dabe6a17",
   "metadata": {},
   "source": [
    "# 7: Customer Order Management\n",
    "Manage customer orders using a dictionary where the key is the order number, and the value is a list of ordered items.\n",
    "# Input:\n",
    "orders = {\n",
    "    \"1001\": [\"Burger\", \"Fries\"],\n",
    "    \"1002\": [\"Pizza\", \"Soda\"]\n",
    "}\n",
    "order_id = \"1001\"\n",
    "# Expected Output:\n",
    "1001 contains 2 items, they are Burger and Fries\n"
   ]
  },
  {
   "cell_type": "code",
   "execution_count": 60,
   "id": "5e0ff049-a070-4763-ad9c-dd4d543c1729",
   "metadata": {},
   "outputs": [
    {
     "name": "stdout",
     "output_type": "stream",
     "text": [
      "{'1001': ['Burger', 'Fries'], '1002': ['Pizza', 'Soda']}\n"
     ]
    }
   ],
   "source": [
    "orders = {\n",
    "    \"1001\": [\"Burger\", \"Fries\"],\n",
    "    \"1002\": [\"Pizza\", \"Soda\"]\n",
    "}\n",
    "print(orders)"
   ]
  },
  {
   "cell_type": "code",
   "execution_count": null,
   "id": "ea58367d-a848-4375-abdf-11cb4eea55df",
   "metadata": {},
   "outputs": [],
   "source": []
  }
 ],
 "metadata": {
  "kernelspec": {
   "display_name": "Python 3 (ipykernel)",
   "language": "python",
   "name": "python3"
  },
  "language_info": {
   "codemirror_mode": {
    "name": "ipython",
    "version": 3
   },
   "file_extension": ".py",
   "mimetype": "text/x-python",
   "name": "python",
   "nbconvert_exporter": "python",
   "pygments_lexer": "ipython3",
   "version": "3.12.7"
  }
 },
 "nbformat": 4,
 "nbformat_minor": 5
}
